{
 "cells": [
  {
   "cell_type": "markdown",
   "metadata": {
    "nbgrader": {
     "grade": false,
     "grade_id": "cell-9d7b14515f624f0c",
     "locked": true,
     "schema_version": 3,
     "solution": false,
     "task": false
    }
   },
   "source": [
    "#  Machine Learning with Python - Classification\n",
    "\n",
    "In this exercise, you will learn how to formulate and solve a **classification problem**. A classification problem amounts to finding a good predictor or classifier which maps a given data point via its features to a predicted value of its label (which is the quantity of interest). \n",
    "\n",
    "Remember that **regression problems** are machine learning problems that involve data points with a numeric label such as the grayscale level of a pixel. In contrast, **classification problems** arise from data points whose labels have only a finite number of different values. The most simple classification problem is a **binary classification problem** where the label can take on only two different values such as $y=0$ vs. $y=1$ or $y=\\mbox{``picture includes a pedestrian crossing''}$ vs. $y=\\mbox{``picture does not include pedestrian crossing''}$. The label $y$ of a data point indicates to which class (or category) the data point belongs to. \n",
    "\n",
    "We consider two widely used methods for solving classification problems: **logistic regression** and **decision trees**. These two methods differ in the choice of hypothesis space, i.e., the set of predictor functions $h(\\mathbf{x})$ that map the features $\\mathbf{x}$ of a data point to a predicted label $\\hat{y}=h(\\mathbf{x})$ (which is hopefully a good approximation of the true label $y$). \n",
    "\n",
    "We mainly consider binary classification problems with data points having labels from a set of size two such as $\\{0,1\\}$ or $\\{\\mbox{``image shows a crossing''},\\mbox{``image shows no crossing''}\\}$. However, we will also discuss a simple approach to upgrade any binary classification method to solve classification problems with more than two label values such as $\\{\\mbox{``image shows one crossing''},\\mbox{``image shows more than one crossing''},\\mbox{``image shows no crossing''}\\}$. We refer to classification problems with more than two label values (or categories) as **multi-class classification problems**. "
   ]
  },
  {
   "cell_type": "markdown",
   "metadata": {
    "nbgrader": {
     "grade": false,
     "grade_id": "cell-02d2af48a0fcd974",
     "locked": true,
     "schema_version": 3,
     "solution": false,
     "task": false
    }
   },
   "source": [
    "## Learning goals\n",
    "\n",
    "After this round, you should  \n",
    "\n",
    "- be able to model \"real-world\" applications as classification problems by identifying features and labels. \n",
    "- be able to solve classification problems using logistic regression or decision trees. \n",
    "- be able to assess the reliability of classifications provided by logistic regression. \n",
    "- know about the differences between decision trees and logistic regression. \n",
    "- know how to extend binary classification methods to multi-class problems where labels can take on more than two different values. \n",
    "\n",
    "\n",
    "## Relevant Sections in [Course Book](https://arxiv.org/abs/1805.05052)  \n",
    "\n",
    "Chapter 2, 3.4 and 3.6.\n",
    "\n",
    "## Additional Material \n",
    "\n",
    "* [video-lecture](https://www.youtube.com/watch?v=-la3q9d7AKQ) of Prof. Andrew Ng on classification problems and logistic regression \n",
    "* [video-lecture](https://www.youtube.com/watch?v=ZvaELFv5IpM) of Prof. Andrew Ng on extending binary classification methods to multi-class problems "
   ]
  },
  {
   "cell_type": "markdown",
   "metadata": {
    "nbgrader": {
     "grade": false,
     "grade_id": "cell-a5592b3f1c6bf91d",
     "locked": true,
     "schema_version": 3,
     "solution": false
    }
   },
   "source": [
    "## The Problem\n",
    "\n",
    "<img src=\"../../../coursedata/R3_Classification/CrossingDetection.png\" alt=\"Drawing\" style=\"width: 600px;\"/>\n",
    "\n",
    "The city planners of Helsinki are regularly sending small airplanes over Helsinki to take high-resolution aerial photographs of different city areas. These aerial photographs are available via the open data service at https://kartta.hel.fi. It is important to monitor the condition of pedestrian crossings to determine if a renewal is necessary. To this end, we want to find those areas which contain a pedestrian crossing. \n",
    "\n",
    "In this exercise, you will learn how to use classification methods to determine if a particular area contains a pedestrian (zebra) crossing or not. We model this pedetrian crossing detection as a machine learning problem. The problem amounts to learn a predictor (or classifier) map $h(\\mathbf{x})$ which delivers a predicted label $\\hat{y} = h(\\mathbf{x})$ which indicates if a certain area contains a pedestrian crossing or not. The classification is based on numeric features $\\mathbf{x}=\\big(x_{1},\\ldots,x_{n}\\big)^{T}$ that are computed from an aerial photograph of the area in question.  \n",
    "\n",
    "We will solve this binary classification problem using two different classification methods: logistic regression and decision trees. These two methods differ in the choice of hypothesis space. Decision tree classifiers use a flow-chart representation of the predictor function. In contrast, logistic regression uses the hypothesis space of linear predictor functions which is also used in linear regression (see Round 2 - Regression). \n",
    "\n",
    "The difference between logigistic and linear regression is the set of label values, which is the real numbers for linear regression and a set of size two for logistic regression. Another difference between linear and logistic regression is the loss function. While linear regression is based on minizing the squared error loss, logistic regression minimizes the logistic loss function which will be explained below. \n",
    "\n",
    "As you might already know, most machine learning problems (and methods) consist of three components: \n",
    "\n",
    "* some **data** (a bunch of data points, each of which is characterized by features and labels) \n",
    "* a **hypothesis space** (consisting of a set of predictor functions from features to labels)\n",
    "* a **loss function** which is used to assess the quality of a particular predictor function \n",
    "\n",
    "In what follows, we will discuss partiular choices for these three components to solve the pedestrian crossing detection problem. \n",
    "\n",
    "## The Data\n",
    "\n",
    "ML methods aim at finding a good predictor map (or classifier) $h(\\mathbf{x})$ which takes some features $\\mathbf{x}$ as input and outputs a guess (or estimate) for the label $y$ of the data point (which represents an area of Helsini in our application). To measure the quality of a particular predictor $h(\\mathbf{x})$ we try it out on data points for which we know already the true label values $y$. The basic principle of classification methods is then to find (or learn) the best predictor function out of a set of computationally feasible functions (the hypothesis space). \n",
    "\n",
    "We have access to a data set consisting of $m=178$ data points $\\big(\\mathbf{x}^{(i)},y^{(i)}\\big)$ for $i=1,\\ldots,m$. Each data point $\\big(\\mathbf{x}^{(i)},y^{(i)}\\big)$ represents a particular city area. This city area is characterized by several features $\\mathbf{x}^{(i)}=\\big(x^{(i)}_{1},\\ldots,x^{(i)}_{n}\\big)^{T}$ that are computed from an aerial photograph of that area. You can learn more about some efficient methods for automatically determining relevant features of an image [here](https://opencv-python-tutroals.readthedocs.io/en/latest/py_tutorials/py_feature2d/py_table_of_contents_feature2d/py_table_of_contents_feature2d.html). The data point $\\big(\\mathbf{x}^{(i)},y^{(i)}\\big)$ is also characterized by the true label $y^{(i)}$ which has been found out by a city planner who manually inspected the areal photograph. \n",
    "\n",
    "We can use the **labeled data** $\\big(\\mathbf{x}^{(i)},y^{(i)}\\big)$ for $i=1,\\ldots,m$, to find a good predictor map $h(\\mathbf{x})$. In contrast to regression problems, where the ouput $h(\\mathbf{x})$ of a predictor map is a (real) number, here the ouput $h(\\mathbf{x})$ is a discrete label value or category. In this case it is customary to use the term **classifier** for the prediction map $h(\\mathbf{x})$.\n",
    "\n",
    "A good classifier $h(\\mathbf{x})$ should at least agree well with similar human judgment,\n",
    "\\begin{equation} \n",
    "\\underbrace{y^{(i)}}_{\\mbox{label by human}} \\approx \\underbrace{h(\\mathbf{x}^{(i)})}_{\\mbox{predicted label } \\hat{y}^{(i)}}  \\mbox{ for all } i =1,\\ldots,m. \n",
    "\\end{equation}\n",
    "\n",
    "To sum up, \n",
    "* The dataset contains information about $m=178$ areas in city of Helsinki.  \n",
    "* For each area, a feature vector $\\mathbf{x}^{(i)}$ containing $n=13$ features has been determined. \n",
    "* For each area, a city planner determined the class $c^{(i)}$ which is either \n",
    "     * $c^{(i)} = 0$ (area has no pedestrian crossing)\n",
    "     * $c^{(i)}=1$ (area has one pedestrian crossing) \n",
    "     * $c^{(i)}=2$ (area has more than one pedestrian crossing)"
   ]
  },
  {
   "cell_type": "markdown",
   "metadata": {
    "nbgrader": {
     "grade": false,
     "grade_id": "cell-412f596e08777d50",
     "locked": true,
     "schema_version": 3,
     "solution": false
    }
   },
   "source": [
    "<a id='demoboundary'></a>\n",
    "<div class=\"alert alert-info\">\n",
    "<b>Demo.</b> Load Data.\n",
    "\n",
    "The code snippet below loads the dataset with information of $m=178$ city areas. The $i$-th data point is characterized by the feature vector $\\mathbf{x}^{(i)} \\in \\mathbb{R}^{n}$ and the category $c^{(i)} \\in \\{0,1,2\\}$ as determined by a human eye. The features and categories for the first five images $i=1,\\dots,5$ are displayed. \n",
    "</div>"
   ]
  },
  {
   "cell_type": "code",
   "execution_count": 1,
   "metadata": {
    "nbgrader": {
     "grade": false,
     "grade_id": "cell-f5276acd5385a727",
     "locked": true,
     "schema_version": 3,
     "solution": false,
     "task": false
    }
   },
   "outputs": [
    {
     "name": "stdout",
     "output_type": "stream",
     "text": [
      "(178, 1)\n",
      "data shape\t (178, 13) \n",
      "labels shape \t (178, 1)\n",
      "Number of samples from Class 0: [59]\n",
      "Number of samples from Class 1: [71]\n",
      "Number of samples from Class 2: [48]\n",
      "      x0    x1    x2    x3     x4    x5    x6    x7    x8    x9   x10   x11  \\\n",
      "0  14.23  1.71  2.43  15.6  127.0  2.80  3.06  0.28  2.29  5.64  1.04  3.92   \n",
      "1  13.20  1.78  2.14  11.2  100.0  2.65  2.76  0.26  1.28  4.38  1.05  3.40   \n",
      "2  13.16  2.36  2.67  18.6  101.0  2.80  3.24  0.30  2.81  5.68  1.03  3.17   \n",
      "3  14.37  1.95  2.50  16.8  113.0  3.85  3.49  0.24  2.18  7.80  0.86  3.45   \n",
      "4  13.24  2.59  2.87  21.0  118.0  2.80  2.69  0.39  1.82  4.32  1.04  2.93   \n",
      "\n",
      "      x12  target          class  \n",
      "0  1065.0       0  zero crossing  \n",
      "1  1050.0       0  zero crossing  \n",
      "2  1185.0       0  zero crossing  \n",
      "3  1480.0       0  zero crossing  \n",
      "4   735.0       0  zero crossing  \n"
     ]
    }
   ],
   "source": [
    "############################# IMPORTANT! #############################\n",
    "# This cell needs to be run to load the necessary libraries and data #\n",
    "######################################################################\n",
    "\n",
    "%matplotlib inline\n",
    "from sklearn import datasets\n",
    "import matplotlib.pyplot as plt\n",
    "import seaborn as sns\n",
    "import pandas as pd\n",
    "import numpy as np\n",
    "#from plotchecker import ScatterPlotChecker\n",
    "from unittest.mock  import patch\n",
    "from sklearn import preprocessing\n",
    "\n",
    "# Load the dataset and store data and labels in variables\n",
    "\n",
    "category_names = [\"zero crossing\", \"one crossing\", \"multiple crossings\" ] # set possible categories for our labels\n",
    "X_data = pd.read_csv(\"/Users/Alexander/coursedata/R3_Classification/image_data.csv\", header = None).values\n",
    "c = pd.read_csv(\"/Users/Alexander/coursedata/R3_Classification/image_labels.csv\",header = None).values\n",
    "\n",
    "print(c.shape)\n",
    "print('data shape\\t', X_data.shape, '\\nlabels shape \\t', c.shape)\n",
    "print(\"Number of samples from Class 0:\", sum(c == 0))\n",
    "print(\"Number of samples from Class 1:\", sum(c == 1))\n",
    "print(\"Number of samples from Class 2:\", sum(c == 2))\n",
    "\n",
    "# we can use the Python library \"pandas\" to show us a preview of the features and labels\n",
    "\n",
    "features = pd.DataFrame(data=X_data, columns=[\"x\" + str(i) for i in range(len(X_data[0,:]))])\n",
    "data = features\n",
    "data['target'] = c\n",
    "data['class'] = data['target'].map(lambda ind: category_names[ind])\n",
    "print(data.head(5))"
   ]
  },
  {
   "cell_type": "markdown",
   "metadata": {
    "nbgrader": {
     "grade": false,
     "grade_id": "cell-4a084869afc0c5ec",
     "locked": true,
     "schema_version": 3,
     "solution": false
    }
   },
   "source": [
    "### Features and Labels \n",
    "\n",
    "Remember our goal is to classify an area based on features of an areal photograph of that area. The $i$-th area is characterized by the features $x^{(i)}_{1},\\ldots,x^{(i)}_{13}$ which we collect into the **feature vector** $\\mathbf{x}^{(i)} = \\big(x_{1}^{(i)},x_{2}^{(i)}, ... x_{13}^{(i)} \\big)^{T} \\in \\mathbb{R}^{13}$. It will be convenient to stack the feature vectors $\\mathbf{x}^{(i)} \\in \\mathbb{R}^{13}$, obtained for all data points $i=1,\\dots,m$, into the feature matrix \n",
    "\n",
    "<a id='xm'></a>\n",
    "\\begin{equation*}\n",
    "    \\mathbf{X} = \\big(\\mathbf{x}^{(1)},\\dots,\\mathbf{x}^{(178)}\\big)^T=\\begin{bmatrix}\n",
    "    x^{(1)}_{1}  & \\dots & x^{(1)}_{13} \\\\\n",
    "    \\vdots & \\ddots & \\vdots\\\\\n",
    "    x^{(178)}_{1} & \\dots & x^{(178)}_{13}\n",
    "    \\end{bmatrix},\\ \\mathbf{X} \\in \\mathbb{R}^{m \\times n},\\ \\text{where } m=178, n=13.\n",
    "    \\tag{1}\n",
    "\\end{equation*}\n",
    "\n",
    "Besides its features $\\mathbf{x}^{(i)}$, the $i$-th area is characterized by the category $c^{(i)} \\in \\{0,1,2\\}$ which has been determined by a human expert. In principle, we could directly use the category $c^{(i)}$ as the label or quantity of interest. However, we will first consider the simpler problem of determining if a particular area does not have a pedestrian crossing ($c^{(i)} = 0$) of if it has some pedestrian crossing ($c^{(i)}=1$ or $c^{(i)}=2$). Thus, we define the label of an area as $y^{(i)}=1$ if $c^{(i)} = 0$. Otherwise, we define the label $y^{(i)}=0$ if the area shows at least one pedestrican crossing, corresponding to $c^{(i)} = 1$ or $c^{(i)}=2$. \n",
    "\n",
    "It will be convenient to collect the labels of all images into the label vector \n",
    "\n",
    "<a id='vy'></a>\n",
    "\\begin{equation*}\n",
    "    \\mathbf{y}=\\big(y^{(1)},y^{(2)},\\ldots,y^{(m)} \\big)^{T} = \\begin{bmatrix}\n",
    "    y^{(1)}\\\\\n",
    "    y^{(2)}\\\\\n",
    "    \\vdots\\\\\n",
    "    y^{(m)}\n",
    "    \\end{bmatrix} \\in \\mathbb{R}^{m}.\n",
    "    \\tag{2}\n",
    "\\end{equation*}\n"
   ]
  },
  {
   "cell_type": "markdown",
   "metadata": {
    "nbgrader": {
     "grade": false,
     "grade_id": "cell-17287368c834f17a",
     "locked": true,
     "schema_version": 3,
     "solution": false
    }
   },
   "source": [
    "<a id='featurefunction'></a>\n",
    "<div class=\" alert alert-warning\">\n",
    "    <b>Student Task.</b> Feature Matrix. \n",
    "\n",
    "Implement a Python function `X=feature_matrix()` which loads the image dataset and returns the feature matrix ([1](#xm)) of size $178 \\times 13$ containing $n=13$ features for each of the $m=178$ areas. The $i$-th row of the feature matrix contains the features $x^{(i)}_{1},\\ldots,x^{(i)}_{n}$ of the $i$-th area. \n",
    "\n",
    "</div>"
   ]
  },
  {
   "cell_type": "code",
   "execution_count": 2,
   "metadata": {
    "nbgrader": {
     "grade": false,
     "grade_id": "cell-577310fb782f61d2",
     "locked": false,
     "schema_version": 3,
     "solution": true
    }
   },
   "outputs": [],
   "source": [
    "def feature_matrix():\n",
    "    \"\"\"\n",
    "    Generate a feature matrix representing different descriptive statistics of an image in the dataset.\n",
    "\n",
    "    :return: array-like, shape=(m, n), feature-matrix with n features for each of m images. \"\"\"\n",
    "    \n",
    "     \n",
    "\n",
    "    features = pd.read_csv(\"/Users/Alexander/coursedata/R3_Classification/image_data.csv\", header = None).values\n",
    "    n = features.shape[1]       # set n to the number of colums in features \n",
    "    m = features.shape[0]       # set m equal to the number of rows in features    \n",
    "    \n",
    "    ### STUDENT TASK ###\n",
    "    X = np.zeros((m,n))\n",
    "    ### BEGIN SOLUTION\n",
    "    for i in range(m):        \n",
    "        X[i] = np.array(features[i])\n",
    "    ### END SOLUTION\n",
    "    return X\n",
    "   \n",
    "    \n",
    "\n"
   ]
  },
  {
   "cell_type": "code",
   "execution_count": 3,
   "metadata": {
    "nbgrader": {
     "grade": true,
     "grade_id": "cell-840700cb14517bbf",
     "locked": true,
     "points": 1,
     "schema_version": 3,
     "solution": false
    }
   },
   "outputs": [
    {
     "name": "stdout",
     "output_type": "stream",
     "text": [
      "All tests passed!\n"
     ]
    }
   ],
   "source": [
    "test_matrix = feature_matrix()\n",
    "assert test_matrix.shape == (178,13), f'feature_matrix returns wrong matrix for m=1. It should be shape (178,13), but you gave {test_matrix.shape}'\n",
    "print('All tests passed!')"
   ]
  },
  {
   "cell_type": "markdown",
   "metadata": {
    "nbgrader": {
     "grade": false,
     "grade_id": "cell-acac139fee4f522f",
     "locked": true,
     "schema_version": 3,
     "solution": false
    }
   },
   "source": [
    "<a id='labelfunction'></a>\n",
    "<div class=\" alert alert-warning\">\n",
    "    <b>Student Task.</b> Label Vector. \n",
    "\n",
    "Implement a Python function `y=labels()` which loads the image dataset and returns the label vector ([2](#vy)) of length $m$ where `m` is the number of images described in the dataset. The $i$th entry $y^{(i)}$ of the returned vector should be $y^{(i)}=1$ if the $i$th image is from Class 0 and $y^{(i)}=0$ otherwise.\n",
    "    \n",
    "</div>"
   ]
  },
  {
   "cell_type": "code",
   "execution_count": 32,
   "metadata": {
    "nbgrader": {
     "grade": false,
     "grade_id": "cell-b67c7f64aa86fbba",
     "locked": false,
     "schema_version": 3,
     "solution": true
    }
   },
   "outputs": [],
   "source": [
    "def labels():\n",
    "    \"\"\" \n",
    "    :return: array-like, shape=(m, 1), label-vector\n",
    "    \"\"\"\n",
    "    # read out the categories (0, 1 or 2) of images and store in vector 'cat' \n",
    "    cat = pd.read_csv(\"/Users/Alexander/coursedata/R3_Classification/image_labels.csv\", header = None).values # categories\n",
    "    m = cat.shape[0]       # set m equal to the number of rows in features  \n",
    "    y = np.zeros((m,1));    # initialize label vector with zero entries\n",
    "    \n",
    "    ### STUDENT TASK ###\n",
    "    ### BEGIN SOLUTION\n",
    "    for i in range(m):\n",
    "        if (cat[i] == 0):\n",
    "            y[i,:] = 1 # Class 0\n",
    "        else:\n",
    "            y[i,:] = 0 #Not class 0\n",
    "    ### END SOLUTION\n",
    "    return y"
   ]
  },
  {
   "cell_type": "code",
   "execution_count": 33,
   "metadata": {
    "nbgrader": {
     "grade": true,
     "grade_id": "cell-1230c58d375ceb1a",
     "locked": true,
     "points": 3,
     "schema_version": 3,
     "solution": false
    }
   },
   "outputs": [
    {
     "name": "stdout",
     "output_type": "stream",
     "text": [
      "All tests passed!\n"
     ]
    }
   ],
   "source": [
    "test_labels = labels()\n",
    "assert test_labels.shape == (178, 1), f'Your label vector is incorrect shape. It should be (178,1), but you gave {test_labels.shape}'\n",
    "\n",
    "for i in [1,20,40,58]:\n",
    "    assert test_labels[i] == 1, f'Image sample should be from class 0, but you labeled it as other class'\n",
    "for i in [59,80,100,150,177]:\n",
    "    assert test_labels[i] == 0, f'Image sample should be from class 1 or 2, but you labeled it as from class 0'\n",
    "\n",
    "### BEGIN HIDDEN TESTS\n",
    "np.testing.assert_array_equal(test_labels, np.array([[1]]*59+[[0]]*71+[[0]]*48))\n",
    "### END HIDDEN TESTS\n",
    "\n",
    "print('All tests passed!')\n"
   ]
  },
  {
   "cell_type": "markdown",
   "metadata": {
    "nbgrader": {
     "grade": false,
     "grade_id": "cell-e6a842c140cb4d36",
     "locked": true,
     "schema_version": 3,
     "solution": false
    }
   },
   "source": [
    "<a id='demoboundary'></a>\n",
    "<div class=\"alert alert-info\">\n",
    "<b>Demo.</b> Visualize Data Points.\n",
    "\n",
    "The code snippet below uses the functions from the previous tasks to load the features $\\mathbf{x}^{(i)}$ and labels $y^{(i)}$ of the images. We then visualize these data points using a scatter plot. In this scatter plot, the $i$-th data point is represented by either a dot (when $y^{(i)} =0$) or a cross ($y^{(i)}=1$) located at the coordinates given by the first two features $x_{1}^{(i)}$ and $x_{2}^{(i)}$.  \n",
    "</div>"
   ]
  },
  {
   "cell_type": "code",
   "execution_count": 6,
   "metadata": {
    "nbgrader": {
     "grade": false,
     "grade_id": "cell-062120c0d0af4eb0",
     "locked": true,
     "schema_version": 3,
     "solution": false
    }
   },
   "outputs": [
    {
     "data": {
      "text/plain": [
       "Text(0, 0.5, 'feature x2')"
      ]
     },
     "execution_count": 6,
     "metadata": {},
     "output_type": "execute_result"
    },
    {
     "data": {
      "image/png": "[encoded data removed]",
      "text/plain": [
       "<Figure size 1080x360 with 1 Axes>"
      ]
     },
     "metadata": {
      "needs_background": "light"
     },
     "output_type": "display_data"
    }
   ],
   "source": [
    "y = labels() \n",
    "X = feature_matrix()\n",
    "indx_1 = np.where(y == 1)[0] # index of each class 0 image.\n",
    "indx_2 = np.where(y == 0)[0] # index of each not class 0 image\n",
    "plt.rc('legend', fontsize=20) \n",
    "fig, axes = plt.subplots(figsize=(15, 5))\n",
    "axes.scatter(X[indx_1, 0], X[indx_1, 1], c='g', marker ='x', label='y =1; Class 0 image')\n",
    "axes.scatter(X[indx_2, 0], X[indx_2, 1], c='brown', marker ='o', label='y=0; Class 1 or Class 2 image')\n",
    "axes.legend(loc='upper left')\n",
    "axes.set_xlabel('feature x1')\n",
    "axes.set_ylabel('feature x2')"
   ]
  },
  {
   "cell_type": "markdown",
   "metadata": {
    "nbgrader": {
     "grade": false,
     "grade_id": "cell-8a2013786c9827ce",
     "locked": true,
     "schema_version": 3,
     "solution": false
    }
   },
   "source": [
    "## Logistic Regression\n",
    "<img src=\"../../../coursedata/R3_Classification/Log_Reg2.png\" alt=\"Drawing\" style=\"width: 600px;\"/>\n",
    "\n",
    "Our goal is to determine the label $y$ of an image based on its features $\\mathbf{x}=\\big(x_{1},\\ldots,x_{n}\\big)^{T}$. The label is $y=1$ if the image belongs to class 0 and $y=0$ otherwise (either class 1 or class 2). \n",
    "\n",
    "Similar to linear regression, **logistic regression** uses a linear function of the form $h^{(\\mathbf{w})}(\\mathbf{x})= \\mathbf{w}^{T} \\mathbf{x}$, with some weight vector $\\mathbf{w} \\in \\mathbb{R}^{n}$, to predict the label $y$ based on the features $\\mathbf{x}$. \n",
    "\n",
    "At this point it might seem strange to use the real-valued function $h^{(\\mathbf{w})}(\\mathbf{x})=\\mathbf{w}^{T} \\mathbf{x}$ for predicting the binary label $y \\in \\{0,1\\}$. Indeed, while the label $y$ can take on only values $0$ or $1$, the function $h^{(\\mathbf{w})}(\\mathbf{x})$ can take on any real number. \n",
    "\n",
    "However, it turns out to be useful to use the real-valued function $h^{(\\mathbf{w})}(\\mathbf{x})$ for predicting binary labels. First of all, we can easily obtain a predicted label $\\hat{y} \\in \\{0,1\\}$ simply by using the sign of $h^{(\\mathbf{w})}(\\mathbf{x})$, \n",
    "\\begin{equation}\n",
    "\\hat{y} = \\begin{cases} 1 & \\mbox{ for } h^{(\\mathbf{w})}(\\mathbf{x}) \\geq 0 \\\\ 0 & \\mbox{ for } h^{(\\mathbf{w})}(\\mathbf{x}) < 0. \\end{cases}\n",
    "\\end{equation} \n",
    "What is more, we can accompany the predicted label by a **measure of the confidence (or reliability)** in the classification $\\hat{y}$ using the magnitude $|h^{(\\mathbf{w})}(\\mathbf{x})|$.\n",
    "\n",
    "This, rather intuitive but informal, interpretation of the predictor $h^{(\\mathbf{w})}(\\mathbf{x})=\\mathbf{w}^{T} \\mathbf{x}$ can be made mathematically precise by using a **probabilistic model** for the labels of data points. In particular, we could  model the true label $y$ of an image as a **random variable**. In particular, we consider $y$ as a (realization of a) binary random variable taking on the value $y=1$ with probability \n",
    "\\begin{align} \n",
    "{\\rm Prob}(y=1; \\mathbf{w}) & = \\frac{1}{1+{\\rm exp}(-h^{(\\mathbf{w})}(\\mathbf{x}))} = \\frac{1}{1+{\\rm exp}(-\\mathbf{w}^{T}\\mathbf{x})}. \n",
    "\\end{align}\n",
    "Note that the probability depends on the weight vector $\\mathbf{w}$ which has to be determined (learnt) from data.\n",
    "\n",
    "Since the label $y$ must take on either $1$ or $0$, which implies ${\\rm Prob}(y=0;\\mathbf{w}) + {\\rm Prob}(y=1;\\mathbf{w})=1$, we have  \n",
    "\\begin{align} \n",
    "{\\rm Prob}(y=0; \\mathbf{w}) & = 1- \\frac{1}{1+{\\rm exp}(-\\mathbf{w}^{T}\\mathbf{x})}  = \\frac{1}{1+{\\rm exp}(\\mathbf{w}^{T}\\mathbf{x})}. \n",
    "\\end{align}\n",
    "\n",
    "To evaluate the probability ${\\rm Prob}(y=1;\\mathbf{w})$, we need to specify the weight vector $\\mathbf{w}$ and we need to know the feature vector $\\mathbf{x}$ of an image. The feature vector $\\mathbf{x}$ of an image is available via data analysis. The more challenging part is to come up with a good choice for the weight vector $\\mathbf{w}$. \n",
    "\n",
    "A principled approach to find or **learn** a good choice for the weight vector $\\mathbf{w}$ is to maximize the probability (or likelihood) of the labels $y^{(i)}$, $i=1,\\ldots,m$, for the image-samples in our dataset. \n",
    "This **maximum likelihood** approach amounts to the following optimization problem  \n",
    "\\begin{equation}\n",
    "\\tag{11}\n",
    "\\widehat{\\mathbf{w}} = {\\rm argmax} \\prod_{i=1}^{m} {\\rm Prob}(y = y^{(i)}; \\mathbf{w}). \n",
    "\\label{logloss_ml}\n",
    "\\end{equation} \n",
    "The product over all samples $i=1,\\ldots,m$ arises from the assumption that the samples are realizations of independent and identically distributed (i.i.d.) random variables. We will not use this proabilistic interpretation in what follows but instead we will show that this maximum likelihood approach is equivalent to the minimization a certain loss function, the **logistic loss**. \n",
    "\n",
    "As detailed in the course book (Section 3.4), solving the above maximum likelihood problem is equivalent to minimizing the average **logistic loss**. The logistic loss incurred by a linear predictor $h^{(\\mathbf{w})}(\\mathbf{x})=\\mathbf{w}^{T} \\mathbf{x}$, using the weight vector $\\mathbf{w}$, when applied to a data point with features $\\mathbf{x}$ and true label $y$ is defined as:\n",
    "\n",
    "\\begin{equation*}\n",
    "    \\mathcal{L}\\big((\\mathbf{x},y);\\mathbf{w}\\big) = -y\\log\\big(\\sigma\\big( \\mathbf{w}^{T} \\mathbf{x} \\big)\\big)-(1-y)\\log\\big(1-\\sigma\\big(\\mathbf{w}^{T}\\mathbf{x}\\big) \\big). \n",
    "    \\label{loss}\n",
    "    \\tag{3}\n",
    "\\end{equation*}\n",
    "Here, we used the **sigmoid function** \n",
    "\\begin{equation*}\n",
    "    \\sigma(z)= \\frac{1}{1+{\\rm exp}(-z)}.\n",
    "    \\label{sigmoid}\n",
    "    \\tag{4}\n",
    "\\end{equation*}\n",
    "Since we have $m=178$ labeled samples with features $\\mathbf{x}^{(i)}$ and labels $y^{(i)}$, for $i=1,\\ldots,m$, we can evaluate the logistic loss for all those samples to obtain the average loss or **empirical risk** \n",
    "\\begin{align}\n",
    "\\mathcal{E}(\\mathbf{w}) \n",
    "& = (1/m) \\sum_{i=1}^{m} \\mathcal{L}((\\mathbf{x}^{(i)},y^{(i)}),\\ h^{(\\mathbf{w})}) \\nonumber \\\\ \n",
    "&  = (1/m) \\sum_{i=1}^{m}\\big[ -y^{(i)}\\log\\big(\\sigma(\\mathbf{w}^{T}\\mathbf{x}^{(i)})\\big)-(1-y^{(i)})\\log\\big(1-\\sigma(\\mathbf{w}^{T}\\mathbf{x}^{(i)})\\big) \\big]. \n",
    "   \\label{erm}\n",
    "    \\tag{5}\n",
    "\\end{align}\n",
    "The empirical risk $\\mathcal{E}(\\mathbf{w})$ is a measure for how well a classifier $h^{(\\mathbf{w})}=\\mathbf{w}^{T} \\mathbf{x}$ agrees with the labeled data points $\\big(\\mathbf{x}^{(i)},y^{(i)}\\big)$ for $i=1,\\ldots,m$. If the risk $\\mathcal{E}(\\mathbf{w})$ is small, then the classifier agrees well with the labeled data points. \n",
    "\n",
    "Naturally, we should chose the weight vector $\\mathbf{w}$ to make $\\mathcal{E}(\\mathbf{w})$ as small as possible. It turns out that chosing the weight vector in order to minimize the empirical risk is in fact the same as chosing the weight vector via the maximum likelihood estimate $\\widehat{\\mathbf{w}}$ \\eqref{logloss_ml}: \n",
    "\n",
    "\\begin{align}\n",
    "\\widehat{\\mathbf{w}} & = {\\rm argmin}_{\\mathbf{w} \\in \\mathbb{R}^{d}} \\mathcal{E}(\\mathbf{w}) \\nonumber \\\\ \n",
    "& = {\\rm argmin}_{\\mathbf{w} \\in \\mathbb{R}^{d}} (1/m) \\sum_{i=1}^{m} \\big[-y^{(i)}\\log\\big(\\sigma(\\mathbf{w}^{T}\\mathbf{x}^{(i)})\\big)-(1-y^{(i)})\\log\\big(1- \\sigma(\\mathbf{w}^{T}\\mathbf{x}^{(i)})\\big)\\big]. \n",
    "\\end{align}\n",
    "\n",
    "\n",
    "Note that the empirical risk $\\mathcal{E}( \\mathbf{w})$ is a differentiable convex function of the weight vector $\\mathbf{w}$. Such functions can be minimized efficiently using [gradient descent](https://en.wikipedia.org/wiki/Gradient_descent) (see [course book](https://arxiv.org/pdf/1805.05052.pdf), Chapter 5 for more details). Moreover, the Python library `scikit-learn` provides the class `LogisticRegression()` for linear classifiers that are optimizing using the logistic loss. In particular, the function [`LogisticRegression.fit(X, y)`](https://scikit-learn.org/stable/modules/generated/sklearn.linear_model.LogisticRegression.html#sklearn.linear_model.LogisticRegression.fit) minimizes the empirical risk for data points whose features are stored in the numpy array `X` and labels are stored in the numpy array `y`.\n"
   ]
  },
  {
   "cell_type": "markdown",
   "metadata": {
    "nbgrader": {
     "grade": false,
     "grade_id": "cell-9ae08df3ffd3299d",
     "locked": true,
     "schema_version": 3,
     "solution": false
    }
   },
   "source": [
    "<a id='demoboundary'></a>\n",
    "<div class=\" alert alert-info\">\n",
    "<b>Demo.</b> Logistic Loss.\n",
    "\n",
    "The code snippet below plots the logistic loss $\\mathcal{L}\\big((\\mathbf{x},y);\\mathbf{w}\\big) = -y\\log\\big(\\sigma\\big( \\mathbf{w}^{T} \\mathbf{x} \\big)\\big)-(1-y)\\log\\big(1-\\sigma\\big(\\mathbf{w}^{T}\\mathbf{x}\\big) \\big)$ as a function of the predictor value $h(\\mathbf{x}) = \\mathbf{w}^{T} \\mathbf{x}$. The value $\\mathbf{w}^{T} \\mathbf{x}$ is interpreted as the confidence in the true label being equal to $1$. As soon as $\\mathbf{w}^{T} \\mathbf{x}> 0$ we classify a data point as $\\hat{y} = 1$ and the absolute value $|\\mathbf{w}^{T} \\mathbf{x}|$ quantifies the confidence in this classification result. If the true label is $y=1$ then we would like the loss function to decrease $\\mathcal{L}\\big((\\mathbf{x},y);\\mathbf{w}\\big)$ as $\\mathbf{w}^{T} \\mathbf{x}$ increases (towards $+\\infty$). Similarly, if the true label of the data point is $y=0$, we would like the loss to decrease $\\mathbf{w}^{T} \\mathbf{x}$ as $\\mathbf{w}^{T} \\mathbf{x}$ decreases towards $- \\infty$, since we are increasingly confident in the correct classification $\\hat{y}=0$. \n",
    "</div>"
   ]
  },
  {
   "cell_type": "code",
   "execution_count": 7,
   "metadata": {
    "nbgrader": {
     "grade": false,
     "grade_id": "cell-75e9af43f11ba370",
     "locked": true,
     "schema_version": 3,
     "solution": false
    }
   },
   "outputs": [
    {
     "name": "stdout",
     "output_type": "stream",
     "text": [
      "(1000, 1)\n"
     ]
    },
    {
     "data": {
      "image/png": "[encoded data removed]",
      "text/plain": [
       "<Figure size 1080x360 with 1 Axes>"
      ]
     },
     "metadata": {
      "needs_background": "light"
     },
     "output_type": "display_data"
    }
   ],
   "source": [
    "def sigmoid_func(x):\n",
    "    f_x = 1/(1+np.exp(-x))\n",
    "    return f_x\n",
    "\n",
    "fig, axes = plt.subplots(1, 1, figsize=(15, 5)) #used only for testing purpose\n",
    "\n",
    "range_x = np.arange(-5 , 5 , 0.01).reshape(-1,1)\n",
    "print(range_x.shape)\n",
    "logloss_y1 = np.empty(len(range_x))\n",
    "logloss_y0 = np.empty(len(range_x))\n",
    "#squaredloss_y1 = np.empty(len(range_x))\n",
    "#squaredloss_y0 = np.empty(len(range_x))\n",
    "plt.rc('legend', fontsize=20) \n",
    "plt.rc('axes', labelsize=20) \n",
    "plt.rc('xtick', labelsize=20) \n",
    "plt.rc('ytick', labelsize=20) \n",
    "\n",
    "for i in range(len(range_x)):\n",
    "    logloss_y1[i] = -np.log(sigmoid_func(range_x[i]))     # logistic loss when true label y=1\n",
    "    logloss_y0[i] = -np.log(1-sigmoid_func(range_x[i]))   # logistic loss when true label y=0\n",
    "     \n",
    "# plot the results, using the plot function in matplotlib.pyplot.\n",
    "\n",
    "axes.plot(range_x,logloss_y1, linestyle=':', label=r'$y=1$',linewidth=5.0)\n",
    "axes.plot(range_x,logloss_y0, label=r'$y=0$',linewidth=5.0)\n",
    "\n",
    "axes.set_xlabel(r'$\\mathbf{w}^{T}\\mathbf{x}$')\n",
    "axes.set_ylabel(r'$\\mathcal{L}((y,\\mathbf{x});\\mathbf{w})$')\n",
    "axes.set_title(\"logistic loss\",fontsize=20)\n",
    "axes.legend()\n",
    "plt.show()"
   ]
  },
  {
   "cell_type": "markdown",
   "metadata": {
    "nbgrader": {
     "grade": false,
     "grade_id": "cell-2e9a1e2bdd68d5a2",
     "locked": true,
     "schema_version": 3,
     "solution": false
    }
   },
   "source": [
    "<a id='demoboundary'></a>\n",
    "<div class=\" alert alert-warning\">\n",
    "<b>Student Task.</b> Logistic vs. Squared Error Loss.\n",
    "\n",
    "Extend the demo above by adding the squared error loss $(y-\\mathbf{w}^{T}\\mathbf{x})^{2}$ for the two cases $y=1$ and $y=0$. Store the values of the loss functions for various values of $\\mathbf{w}^{T} \\mathbf{x}$ in the numpy arrays `squaredloss_y1` and `squaredloss_y0`. These numpy arrays should have the same shape as the numpy array `range_x` which is already created in the code snippet below. \n",
    "\n",
    "</div>"
   ]
  },
  {
   "cell_type": "code",
   "execution_count": 8,
   "metadata": {
    "nbgrader": {
     "grade": false,
     "grade_id": "cell-22fedfdf6e7061dc",
     "locked": false,
     "schema_version": 3,
     "solution": true
    }
   },
   "outputs": [
    {
     "name": "stdout",
     "output_type": "stream",
     "text": [
      "(400, 1)\n"
     ]
    },
    {
     "data": {
      "image/png": "[encoded data removed]",
      "text/plain": [
       "<Figure size 1080x360 with 1 Axes>"
      ]
     },
     "metadata": {
      "needs_background": "light"
     },
     "output_type": "display_data"
    }
   ],
   "source": [
    "def sigmoid_func(x):\n",
    "    f_x = 1/(1+np.exp(-x))\n",
    "    return f_x\n",
    "\n",
    "fig, axes = plt.subplots(1, 1, figsize=(15, 5))\n",
    "\n",
    "range_x = np.arange(-2 , 2 , 0.01).reshape(-1,1)\n",
    "print(range_x.shape)\n",
    "logloss_y1 = np.empty(len(range_x))\n",
    "logloss_y0 = np.empty(len(range_x))\n",
    "squaredloss_y1 = np.empty(len(range_x))\n",
    "squaredloss_y0 = np.empty(len(range_x))\n",
    "\n",
    "plt.rc('legend', fontsize=20) \n",
    "plt.rc('axes', labelsize=40) \n",
    "plt.rc('xtick', labelsize=30) \n",
    "plt.rc('ytick', labelsize=30) \n",
    "\n",
    "for i in range(len(range_x)):\n",
    "    logloss_y1[i] = -np.log(sigmoid_func(range_x[i]))     # logistic loss when true label y=1\n",
    "    logloss_y0[i] = -np.log(1-sigmoid_func(range_x[i]))   # logistic loss when true label y=0\n",
    "#    squaredloss_y1 = ... \n",
    "#    squaredloss_y0 = ... \n",
    "    ### STUDENT TASK ###\n",
    "    ### BEGIN SOLUTION\n",
    "    squaredloss_y1[i] = (range_x[i]-1)**2 \n",
    "    squaredloss_y0[i] = (range_x[i]-0)**2 \n",
    "    ### END SOLUTION\n",
    "\n",
    "    \n",
    "# plot the results, using the plot function in matplotlib.pyplot.\n",
    "\n",
    "# IMPORTANT!: Please don't change below code for plotting, else the tests will fail and you will lose points.\n",
    "\n",
    "axes.plot(range_x,logloss_y1, linestyle=':', label=r'logistic loss $y=1$',linewidth=5.0)\n",
    "axes.plot(range_x,logloss_y0, label=r'logistic loss $y=0$',linewidth=5.0)\n",
    "axes.plot(range_x,squaredloss_y0/2, label=r'squared error for $y=0$',linewidth=5.0)\n",
    "axes.plot(range_x,squaredloss_y1/2, label=r'squared error for $y=1$',linewidth=5.0)\n",
    "\n",
    "axes.set_xlabel(r'$\\mathbf{w}^{T}\\mathbf{x}$')\n",
    "axes.set_ylabel(r'$\\mathcal{L}((y,\\mathbf{x});\\mathbf{w})$')\n",
    "axes.legend()\n",
    "plt.show()"
   ]
  },
  {
   "cell_type": "code",
   "execution_count": 9,
   "metadata": {
    "nbgrader": {
     "grade": true,
     "grade_id": "cell-7edf2b5d6d7d517e",
     "locked": true,
     "points": 1,
     "schema_version": 3,
     "solution": false
    }
   },
   "outputs": [
    {
     "name": "stdout",
     "output_type": "stream",
     "text": [
      "First entry of squaredloss_y0: 4.0\n",
      "First entry of squaredloss_y1: 9.0\n",
      "Last entry of squaredloss_y0: 3.960100000000015\n",
      "Last entry of squaredloss_y1: 0.9801000000000074\n",
      "Sanity check tests passed!\n"
     ]
    }
   ],
   "source": [
    "# Tests\n",
    "\n",
    "print('First entry of squaredloss_y0:', squaredloss_y0[0])\n",
    "print('First entry of squaredloss_y1:', squaredloss_y1[0])\n",
    "print('Last entry of squaredloss_y0:', squaredloss_y0[-1])\n",
    "print('Last entry of squaredloss_y1:', squaredloss_y1[-1])\n",
    "\n",
    "\n",
    "np.testing.assert_allclose(squaredloss_y0[0], 4.0, atol=1e-2, err_msg=\"First entry of squaredloss_y0 should be equal to approximately 4.0\")\n",
    "np.testing.assert_allclose(squaredloss_y1[0], 9.0, atol=1e-2, err_msg=\"First entry of squaredloss_y1 should be equal to approximately 9.0\")\n",
    "np.testing.assert_allclose(squaredloss_y0[-1], 3.96, atol=1e-2, err_msg=\"Last entry of squaredloss_y0 should be equal to approximately 3.96\")\n",
    "np.testing.assert_allclose(squaredloss_y1[-1], 0.98, atol=1e-2, err_msg=\"Last entry of squaredloss_y1 should be equal to approximately 0.98\")\n",
    "\n",
    "\n",
    "### BEGIN HIDDEN TESTS\n",
    "#from plotchecker import LinePlotChecker\n",
    "#pc = LinePlotChecker(axes)\n",
    "\n",
    "test_squaredloss_y1 = np.empty(len(range_x))\n",
    "test_squaredloss_y0 = np.empty(len(range_x))\n",
    "\n",
    "for i in range(len(range_x)):\n",
    "    test_squaredloss_y1[i] = (range_x[i]-1)**2 \n",
    "    test_squaredloss_y0[i] = (range_x[i]-0)**2 \n",
    "\n",
    "#np.testing.assert_array_equal(pc.y_data[2].reshape(-1,1), squaredloss_y0.reshape(-1,1)/2, f\"The squaredloss_y0 values for the plot are incorrect\")\n",
    "#np.testing.assert_array_equal(pc.y_data[3].reshape(-1,1), squaredloss_y1.reshape(-1,1)/2, f\"The squaredloss_y1 values for the plot are incorrect\")\n",
    "### END HIDDEN TESTS\n",
    "\n",
    "print('Sanity check tests passed!')\n"
   ]
  },
  {
   "cell_type": "markdown",
   "metadata": {
    "nbgrader": {
     "grade": false,
     "grade_id": "cell-4e550d3a580bea73",
     "locked": true,
     "schema_version": 3,
     "solution": false
    }
   },
   "source": [
    "<a id='logisticregression'></a>\n",
    "<div class=\" alert alert-warning\">\n",
    "<b>Student Task.</b> Logistic Regression. \n",
    "\n",
    "Use the Python function `sklearn.linear_model.LogisticRegression` to:\n",
    "\n",
    "* Initialize the logistic regression model with `LogisticRegression(random_state=0,C=1e6)`. Refer to [documentation](https://scikit-learn.org/stable/modules/generated/sklearn.linear_model.LogisticRegression.html).\n",
    "* Compute the optimal weight vector $\\widehat{\\mathbf{w}}$ which minimizes the average logistic loss on the training data $(\\mathbf{x}^{(i)},y^{(i)})$ for $i=1,\\ldots,m$. You can use the function [`LogisticRegression.fit(X, y)`](https://scikit-learn.org/stable/modules/generated/sklearn.linear_model.LogisticRegression.html#sklearn.linear_model.LogisticRegression.fit) which uses as input the feature matrix $\\mathbf{X} \\in \\mathbb{R}^{m \\times n}$ and the label vector $\\mathbf{y}=\\big(y^{(1)},\\ldots,y^{(m)}\\big)^{T}$. [documentation](https://scikit-learn.org/stable/modules/generated/sklearn.linear_model.LogisticRegression.html#sklearn.linear_model.LogisticRegression.fit)\n",
    "* Predict labels for the image data using the function [`predict(X)`](https://scikit-learn.org/stable/modules/generated/sklearn.linear_model.LogisticRegression.html#sklearn.linear_model.LogisticRegression.predict) which uses as input the feature matrix $\\mathbf{X} \\in \\mathbb{R}^{m \\times n}$. The obtained predicted labels should be stored in the variable `y_pred` which has to be a numpy array of shape (178,1). Refer to [documentation](https://scikit-learn.org/stable/modules/generated/sklearn.linear_model.LogisticRegression.html#sklearn.linear_model.LogisticRegression.predict).\n",
    "* Please ignore the `DataConversionWarning: A column-vector y was passed when a 1d array was expected.` or use `y.ravel()` to get rid of it.\n",
    "* Please ignore the `STOP: TOTAL NO. of ITERATIONS REACHED LIMIT.` warning.\n",
    "    \n",
    "</div>"
   ]
  },
  {
   "cell_type": "code",
   "execution_count": 10,
   "metadata": {
    "nbgrader": {
     "grade": false,
     "grade_id": "cell-c2e7b88452b27df0",
     "locked": false,
     "schema_version": 3,
     "solution": true
    }
   },
   "outputs": [
    {
     "name": "stdout",
     "output_type": "stream",
     "text": [
      "(178, 13) (178, 1)\n"
     ]
    },
    {
     "name": "stderr",
     "output_type": "stream",
     "text": [
      "d:\\Users\\Alexander\\Anaconda3\\lib\\site-packages\\sklearn\\linear_model\\logistic.py:432: FutureWarning: Default solver will be changed to 'lbfgs' in 0.22. Specify a solver to silence this warning.\n",
      "  FutureWarning)\n",
      "d:\\Users\\Alexander\\Anaconda3\\lib\\site-packages\\sklearn\\utils\\validation.py:724: DataConversionWarning: A column-vector y was passed when a 1d array was expected. Please change the shape of y to (n_samples, ), for example using ravel().\n",
      "  y = column_or_1d(y, warn=True)\n"
     ]
    }
   ],
   "source": [
    "from sklearn.linear_model import LogisticRegression\n",
    "from sklearn import metrics\n",
    "\n",
    "\n",
    "X = pd.read_csv(\"/Users/Alexander/coursedata/R3_Classification/image_data.csv\", header = None).values # matrix containing the feature vectors of the images\n",
    "cat = pd.read_csv(\"/Users/Alexander/coursedata/R3_Classification/image_labels.csv\", header = None).values # vector with image categories (0,1 or 2)\n",
    "m = cat.shape[0]         # set m equal to the number of rows in features  \n",
    "y = np.zeros((m, 1));    # initialize label vector with zero entries\n",
    "    \n",
    "for i in range(m):\n",
    "        if (cat[i] == 0):\n",
    "            y[i,:] = 1 # Class 0\n",
    "        else:\n",
    "            y[i,:] = 0 #Not class 0\n",
    "\n",
    "\n",
    "print(X.shape, y.shape)\n",
    "# initialize logistic regression\n",
    "# logReg = ...\n",
    "\n",
    "# Train Logistic Regression Classifier\n",
    "# logReg_fit = ...\n",
    "\n",
    "#Predict the response for test dataset\n",
    "# y_pred = ...\n",
    "\n",
    "### BEGIN SOLUTION\n",
    "logReg = LogisticRegression(random_state=0, C=1e6)\n",
    "\n",
    "logReg = logReg.fit(X, y)\n",
    "\n",
    "y_pred = logReg.predict(X).reshape(-1, 1)\n",
    "### END SOLUTION\n",
    "\n"
   ]
  },
  {
   "cell_type": "code",
   "execution_count": 11,
   "metadata": {
    "nbgrader": {
     "grade": true,
     "grade_id": "cell-510a06d027433f2c",
     "locked": true,
     "points": 3,
     "schema_version": 3,
     "solution": false
    }
   },
   "outputs": [
    {
     "name": "stdout",
     "output_type": "stream",
     "text": [
      "Sanity check tests passed!\n"
     ]
    },
    {
     "name": "stderr",
     "output_type": "stream",
     "text": [
      "d:\\Users\\Alexander\\Anaconda3\\lib\\site-packages\\sklearn\\linear_model\\logistic.py:432: FutureWarning: Default solver will be changed to 'lbfgs' in 0.22. Specify a solver to silence this warning.\n",
      "  FutureWarning)\n"
     ]
    }
   ],
   "source": [
    "# Tests\n",
    "assert y_pred.shape == (178,1), \"y_test Matrix has wrong dimensions.\"\n",
    "print('Sanity check tests passed!')\n",
    "\n",
    "### BEGIN HIDDEN TESTS\n",
    "t_logReg = LogisticRegression(random_state=0,C=1e6)\n",
    "t_logReg.fit(X, y.ravel())\n",
    "t_y_pred = t_logReg.predict(X).reshape(-1, 1)\n",
    "\n",
    "np.testing.assert_allclose(t_y_pred, y_pred, atol=0.5)\n",
    "### END HIDDEN TESTS\n"
   ]
  },
  {
   "cell_type": "markdown",
   "metadata": {
    "nbgrader": {
     "grade": false,
     "grade_id": "cell-a3956e310092c75b",
     "locked": true,
     "schema_version": 3,
     "solution": false
    }
   },
   "source": [
    "### Decision Boundary of Logistic Regression \n",
    "\n",
    "After we have learnt the predictor function, or its weight $\\widehat{\\mathbf{w}}$, we can classify any new image according to $\\hat{y}=1$ if $h(\\mathbf{x}) = \\widehat{\\mathbf{w}}^{T} \\mathbf{x} > 0$ and $\\hat{y}=0$ otherwise. Thus, our classifier divides all image-samples into two halfspaces of $\\mathbb{R}^{2}$ (since we are only using two features to characterize an image). \n",
    "\n",
    "The image-samples which are classified as $\\hat{y} =1$ belong to the halfspace $\\{ \\mathbf{x}: \\hat{\\mathbf{w}}^{T} \\mathbf{x} > 0 \\}$, while all the images which are classified as $\\hat{y} = 0$ belong to the half-space $\\{ \\mathbf{x}: \\hat{\\mathbf{w}}^{T} \\mathbf{x} < 0 \\}$. These two half-spaces are separated by the decision boundary $\\{ \\mathbf{x}: \\hat{\\mathbf{w}}^{T} \\mathbf{x} =0\\}$. \n",
    "\n",
    "For most training data, the decision boundary determined by logistic regression will not perfectly separate the training data points according to $y^{(i)}=1$ and $y^{(i)}=0$. Thus, we typically have training samples with the same true label but which are located at oposite sides of the decision boundary. However, the decision boundary will be chosen such that on each side one class dominates. \n",
    "\n",
    "The decision boundary provides also a geometric interpretation of the magnitude $|\\widehat{\\mathbf{w}}^{T} \\mathbf{x}|$ as the normal distance of a data point with features $\\mathbf{x}$ to the decision boundary. Thus, the larger $|\\widehat{\\mathbf{w}}^{T} \\mathbf{x}|$, the farther away is the data point from the decision boundary and, in turn, the more reliable is the predicted label $\\hat{y}$ for this data point. On the other hand, if $|\\widehat{\\mathbf{w}}^{T} \\mathbf{x}| \\approx 0$, then the data point with features $\\mathbf{x}$ is close to the decision boundary, i.e., it is a border case which cannot be classified reliably.\n"
   ]
  },
  {
   "cell_type": "markdown",
   "metadata": {
    "nbgrader": {
     "grade": false,
     "grade_id": "cell-72420c22ddf65bb7",
     "locked": true,
     "schema_version": 3,
     "solution": false
    }
   },
   "source": [
    "<a id='demoboundary'></a>\n",
    "<div class=\" alert alert-info\">\n",
    "<b>Demo.</b> Linear Decision Boundary.\n",
    "\n",
    "The code snippet below learns a linear predictor function $h(\\mathbf{x}) =\\widehat{\\mathbf{w}}^{T} \\mathbf{x}$ using logistic regression using only the first two features $x_{1}$ and $x_{2}$ of an image. It then creates a scatter plot of the image samples $\\big(\\mathbf{x}^{(i)},y^{(i)}\\big)$ for $i=1,\\ldots,m$. All samples with $y^{(i)} = 1$ are indicated by \"x\" while all samples with true label $y^{(i)} =0$ are indicated by \"o\". The scatter plot also indicates the decision boundary $\\{\\mathbf{x}: \\widehat{\\mathbf{w}}^{T} \\mathbf{x}=0 \\}$. \n",
    "\n",
    "<p>Note that the training data is not perfectly separable by a linear decision boundary. In other words, there is no straight line such that on each side of the line are only data points with the same label.  \n",
    "</p>\n",
    "</div>"
   ]
  },
  {
   "cell_type": "code",
   "execution_count": 12,
   "metadata": {
    "nbgrader": {
     "grade": false,
     "grade_id": "cell-999d7b972b0c0540",
     "locked": true,
     "schema_version": 3,
     "solution": false
    }
   },
   "outputs": [
    {
     "name": "stdout",
     "output_type": "stream",
     "text": [
      "Accuracy: 85.96 %\n",
      "Distance from point [ 14.83 , [1.64] ] to decision boundary is: [1.51554299]\n",
      "Distance from point [ 11.03 , [1.51] ] to decision boundary is: [2.09402068]\n"
     ]
    },
    {
     "name": "stderr",
     "output_type": "stream",
     "text": [
      "d:\\Users\\Alexander\\Anaconda3\\lib\\site-packages\\sklearn\\linear_model\\logistic.py:432: FutureWarning: Default solver will be changed to 'lbfgs' in 0.22. Specify a solver to silence this warning.\n",
      "  FutureWarning)\n"
     ]
    },
    {
     "data": {
      "image/png": "[encoded data removed]",
      "text/plain": [
       "<Figure size 648x360 with 1 Axes>"
      ]
     },
     "metadata": {
      "needs_background": "light"
     },
     "output_type": "display_data"
    }
   ],
   "source": [
    "from sklearn.linear_model import LogisticRegression\n",
    "from numpy.linalg import norm\n",
    "\n",
    "\n",
    "X = pd.read_csv(\"/Users/Alexander/coursedata/R3_Classification/image_data.csv\", header = None).values # matrix containing the feature vectors of the image samples\n",
    "X = X[:,:2]  # use only first two features\n",
    "c = pd.read_csv(\"/Users/Alexander/coursedata/R3_Classification/image_labels.csv\", header = None).values # vector with image categories (0,1 or 2)\n",
    "m = c.shape[0]         # set m equal to the number of rows in features  \n",
    "y = np.zeros((m,1));    # initialize label vector with zero entries\n",
    "    \n",
    "for i in range(m):\n",
    "        if (c[i] == 0):\n",
    "            y[i] = 1 # Class 0\n",
    "        else:\n",
    "            y[i] = 0 #Not class 0\n",
    "\n",
    "\n",
    "# Create an instance of Logistic Regression Classifier and fit the data.\n",
    "logreg = LogisticRegression(C=1e6, random_state=0)\n",
    "logreg.fit(X, y.ravel())\n",
    "weight = logreg.coef_ \n",
    "weight = weight.reshape(-1,1)\n",
    "y_pred = logreg.predict(X)\n",
    "accuracy = metrics.accuracy_score(y, y_pred)\n",
    "\n",
    "print(\"Accuracy:\", round(100*accuracy, 2), '%')\n",
    "\n",
    "# Plot the decision boundary. For that, we will assign a color to each\n",
    "# point in the mesh [x_min, x_max]x[y_min, y_max].\n",
    "x_min, x_max = X[:, 0].min() - .5, X[:, 0].max() + .5\n",
    "y_min, y_max = X[:, 1].min() - .5, X[:, 1].max() + .5\n",
    "\n",
    "\n",
    "h = .02  # step size in the mesh\n",
    "xx, yy = np.meshgrid(np.arange(x_min, x_max, h), np.arange(y_min, y_max, h))\n",
    "Z = logreg.predict_proba(np.c_[xx.ravel(), yy.ravel()])\n",
    "Z = Z[:,0]\n",
    "\n",
    "Z = Z.reshape(xx.shape)\n",
    "x1 = xx[:,np.argmax(Z==1)][0]\n",
    "x2 = xx[:,np.argmax(Z[-1]==1)][0]\n",
    "\n",
    "xgrid = np.linspace(x_min, x_max, 100)\n",
    "y_boundary = (-1/weight[1])*(xgrid*weight[0] + logreg.intercept_)\n",
    "\n",
    "# Pick out two particular data points which are either near or far away from the\n",
    "# boundary and indicate the normal distance to the decision boundary of these two data points.\n",
    "p1 = np.asarray([xgrid.min(), y_boundary.min()])\n",
    "p2 = np.asarray([xgrid.max(), y_boundary.max()])\n",
    "p3 = np.asarray([X[:, 0].max(), X[:, 1][np.where(X == X[:, 0].max())[0]]])\n",
    "p4 = np.asarray([X[:, 0].min(), X[:, 1][np.where(X == X[:, 0].min())[0]]])\n",
    "d = norm(np.cross(p2-p1, p1-p3))/norm(p2-p1)\n",
    "d2 = norm(np.cross(p2-p1, p1-p4))/norm(p2-p1)\n",
    "print(\"Distance from point\", \"[\", p3[0],\",\", p3[1] ,\"]\", \"to decision boundary is:\", d)\n",
    "print(\"Distance from point\", \"[\", p4[0],\",\", p4[1] ,\"]\", \"to decision boundary is:\", d2)\n",
    "\n",
    "plt.figure(1, figsize=(9, 5))\n",
    "#plt.contourf(xx, yy, Z, levels=np.linspace(0,1,100))\n",
    "#plt.colorbar(label=r'$\\sigma(\\mathbf{w}^{T} \\mathbf{x})$')\n",
    "# plt.plot([x1, x2], [y_min, y_max], color='red')\n",
    "\n",
    "indx_1 = np.where(y == 1)[0] # index of each class 0 image.\n",
    "indx_2 = np.where(y == 0)[0] # index of each not class 0 image.\n",
    "plt.scatter(X[indx_1, 0], X[indx_1, 1],marker='x',label=r'$c^{(i)}=0$')\n",
    "plt.scatter(X[indx_2, 0], X[indx_2, 1],marker='o',label=r'$c^{(i)} \\in \\{1,2\\}$')\n",
    "plt.xlabel(r'$x_{1}$')\n",
    "plt.ylabel(r'$x_{2}$')\n",
    "\n",
    "plt.xlim(xx.min(), xx.max())\n",
    "plt.ylim(yy.min(), yy.max())\n",
    "plt.plot(xgrid, y_boundary, color='blue', linewidth=2.0)\n",
    "plt.xticks()\n",
    "plt.yticks()\n",
    "plt.legend()\n",
    "plt.show()"
   ]
  },
  {
   "cell_type": "markdown",
   "metadata": {
    "nbgrader": {
     "grade": false,
     "grade_id": "cell-c57cc077bea09f6e",
     "locked": true,
     "schema_version": 3,
     "solution": false,
     "task": false
    }
   },
   "source": [
    "### Accuracy - How well did we do?\n",
    "After we have computed the optimal weight $\\widehat{\\mathbf{w}}$ using logistic regression, we can calculate the accuracy of the resulting classifier as the fraction of correctly labeled images (for which $y^{(i)} = \\hat{y}^{(i)}$):\n",
    "\n",
    "\\begin{equation*}\n",
    "    \\text{Accuracy} =\\dfrac{1}{m} \\sum_{i=1}^{m} \\mathcal{I}(\\hat{y}^{(i)} = y^{(i)})\n",
    "    \\label{acc}\n",
    "    \\tag{8}\n",
    "\\end{equation*}\n",
    "\n",
    "Here $\\mathcal{I}(\\hat{y}^{(i)} = y^{(i)})$ denotes the indicator function which is equal to one if $\\hat{y}^{(i)} = y^{(i)}$ and equal to zero otherwise. "
   ]
  },
  {
   "cell_type": "markdown",
   "metadata": {
    "nbgrader": {
     "grade": false,
     "grade_id": "cell-c26db4492eed8d77",
     "locked": true,
     "schema_version": 3,
     "solution": false
    }
   },
   "source": [
    "<a id='logregaccuracy'></a>\n",
    "<div class=\" alert alert-warning\">\n",
    "<b>Student Task.</b> Compute Accuracy. \n",
    " \n",
    "Implement a Python function `acc=calculate_accuracy(y, y_hat)` which takes as inputs a vector $\\mathbf{y}=\\big(y^{(1)},\\ldots,y^{(m)}\\big)^{T}$ of true labels and another vector $\\mathbf{\\hat{y}}=\\big(\\hat{y}^{(1)},\\ldots,\\hat{y}^{(m)}\\big)^{T}$ containing predicted labels.\n",
    "The function should return the accuracy according to above definition as percentage. Thus, if all samples are classified correctly, the returned value should be $100$. \n",
    "</div>"
   ]
  },
  {
   "cell_type": "code",
   "execution_count": 13,
   "metadata": {
    "nbgrader": {
     "grade": false,
     "grade_id": "cell-3b89e9bd39367cc1",
     "locked": false,
     "schema_version": 3,
     "solution": true
    }
   },
   "outputs": [],
   "source": [
    "def calculate_accuracy(y, y_hat):\n",
    "    \"\"\"\n",
    "    Calculate accuracy of your prediction\n",
    "    \n",
    "    :param y: array-like, shape=(m, 1), correct label vector\n",
    "    :param y_hat: array-like, shape=(m, 1), label-vector prediction\n",
    "    \n",
    "    :return: scalar-like, percentual accuracy of your prediction\n",
    "    \"\"\"\n",
    "    ### STUDENT TASK ###\n",
    "    ### BEGIN SOLUTION\n",
    "    m = y.shape[0];\n",
    "    correct = 0;\n",
    "    for i in range(m):\n",
    "        if (y[i]==y_hat[i]):\n",
    "            correct += 1\n",
    "    accuracy = round(correct/m, 4)*100\n",
    "    ### END SOLUTION\n",
    "    return accuracy"
   ]
  },
  {
   "cell_type": "markdown",
   "metadata": {
    "nbgrader": {
     "grade": false,
     "grade_id": "cell-4df84611b1439fcd",
     "locked": true,
     "schema_version": 3,
     "solution": false
    }
   },
   "source": [
    "In the next cell we execute the implemented function and test that it works properly."
   ]
  },
  {
   "cell_type": "code",
   "execution_count": 14,
   "metadata": {
    "nbgrader": {
     "grade": true,
     "grade_id": "cell-62f57c5e32ee62b6",
     "locked": true,
     "points": 3,
     "schema_version": 3,
     "solution": false
    }
   },
   "outputs": [
    {
     "name": "stdout",
     "output_type": "stream",
     "text": [
      "Accuracy of the result is: 98.880000%\n",
      "Sanity check tests passed!\n"
     ]
    },
    {
     "name": "stderr",
     "output_type": "stream",
     "text": [
      "d:\\Users\\Alexander\\Anaconda3\\lib\\site-packages\\sklearn\\linear_model\\logistic.py:432: FutureWarning: Default solver will be changed to 'lbfgs' in 0.22. Specify a solver to silence this warning.\n",
      "  FutureWarning)\n",
      "d:\\Users\\Alexander\\Anaconda3\\lib\\site-packages\\sklearn\\utils\\validation.py:724: DataConversionWarning: A column-vector y was passed when a 1d array was expected. Please change the shape of y to (n_samples, ), for example using ravel().\n",
      "  y = column_or_1d(y, warn=True)\n"
     ]
    }
   ],
   "source": [
    "from sklearn.linear_model import LogisticRegression\n",
    "from sklearn.model_selection import train_test_split # Import train_test_split function\n",
    "from sklearn import metrics\n",
    "\n",
    "\n",
    "X = pd.read_csv(\"/Users/Alexander/coursedata/R3_Classification/image_data.csv\", header = None).values # matrix containing the feature vectors of the images\n",
    "cat = pd.read_csv(\"/Users/Alexander/coursedata/R3_Classification/image_labels.csv\", header = None).values # vector with image categories (0,1 or 2)\n",
    "m = cat.shape[0]         # set m equal to the number of rows in features  \n",
    "y = np.zeros((m, 1));    # initialize label vector with zero entries\n",
    "    \n",
    "for i in range(m):\n",
    "        if (cat[i] == 0):\n",
    "            y[i,:] = 1 # Class 0\n",
    "        else:\n",
    "            y[i,:] = 0 #Not class 0\n",
    "\n",
    "logReg = LogisticRegression(random_state=0)\n",
    "\n",
    "logReg = logReg.fit(X, y)\n",
    "\n",
    "y_pred = logReg.predict(X).reshape(-1, 1)\n",
    "            \n",
    "# Tests\n",
    "test_acc = calculate_accuracy(y, y_pred)\n",
    "print ('Accuracy of the result is: %f%%' % test_acc)\n",
    "\n",
    "assert 80 < test_acc < 100, \"Your accuracy should be above 80% and less than 100%\"\n",
    "assert test_acc < 99, \"Your accuracy was too good. You are probably not using correct methods.\"\n",
    "\n",
    "### BEGIN HIDDEN TESTS\n",
    "np.testing.assert_allclose(calculate_accuracy(y, y_pred), 98.88, atol=0.1)\n",
    "### END HIDDEN TESTS\n",
    "print('Sanity check tests passed!')\n"
   ]
  },
  {
   "cell_type": "markdown",
   "metadata": {
    "nbgrader": {
     "grade": false,
     "grade_id": "cell-7ffafb13858edab3",
     "locked": true,
     "schema_version": 3,
     "solution": false
    }
   },
   "source": [
    "## Multiclass Classification\n",
    "\n",
    "So far, we have considered the problem of classifying an image as $y=1$ if it belongs to \"class 0\" and as $y=0$ if not, i.e., if it belongs to \"class 1\" or \"class 2\". We have solved this binary classification problem using logistic regression. However, our ultimate goal is to classify an image according to all three categories of the images. \n",
    "\n",
    "There is a simple but useful trick for **upgrading** any binary classification method to handle more than two different label values or classes. The idea behind this trick which is known as **one vs. rest** is quite simple: just split the multiclass classification problem into several subproblems, each subproblem being one binary classification problem. We then apply a binary classification method (such as logistic regression) to each of the subproblems and combine their results to obtain a predicted label for the multiclass problem. \n",
    "\n",
    "For the image classification problem, using the three classes \"0\", \"1\" or \"2\", we obtain the following binary classification subproblems: \n",
    "\n",
    "- subproblem 0: classify samples into \"Class 0\" $(y=1)$ vs. \"not Class 0\" $(y=0)$  \n",
    "- subproblem 1: classify samples into \"Class 1\" $(y=1)$ vs. \"not Class 1\" $(y=0)$  \n",
    "- subproblem 2: classify samples into \"Class 2\" $(y=1)$ vs. \"not Class 2\" $(y=0)$\n",
    "\n",
    "Each subproblem amounts to testing if the image belongs to a particular class or not. The $k$th subproblem can be solved using logistic regression yielding a predictor $h^{(\\mathbf{w}_{k})}(\\mathbf{x})= (\\mathbf{w}_{k})^{T} \\mathbf{x}$. The predictor $h^{(\\mathbf{w}_{k})}(\\mathbf{x})= (\\mathbf{w}_{k})^{T} \\mathbf{x}$ indicates how likely the image belongs to the class $k$. We then assign the image to those class $k$ for which $h^{(\\mathbf{w}_{k})}(\\mathbf{x})$ is largest. \n",
    "\n",
    "### Example\n",
    "\n",
    "Assume we want to classify a new data point (which is different from the $m$ data points in our dataset). To this end, we compute the feature vector $\\mathbf{x}=(x_{1},x_{2},...,x_{13})^{T}$ of this new data point and apply the three subproblem predictors, yielding the following prediction values: \n",
    "\n",
    "* subproblem 0: $h^{(\\mathbf{w}_{0})}(\\mathbf{x}) = 0.1$ (\"Class 0 vs. not Class 0\")\n",
    "* subproblem 1: $h^{(\\mathbf{w}_{1})}(\\mathbf{x}) = 0.4$ (\"Class 1 vs. not Class 1\") \n",
    "* subproblem 2: $h^{(\\mathbf{w}_{2})}(\\mathbf{x}) = 0.8$ (\"Class 2 vs. not Class 2\")\n",
    "\n",
    "From these results, we can see that the predictor $h^{(\\mathbf{w}^{(\\rm Class 2)})}(x)$ for subproblem 3 (`Class 2` vs. `not Class 2`) yields the highest confidence. Hence, we classify this new data point as `Class 2`. \n",
    "\n",
    "<img src=\"../../../coursedata/R3_Classification/Regression_Zebra.png\" alt=\"Drawing\" style=\"width: 400px;\"/>\n"
   ]
  },
  {
   "cell_type": "markdown",
   "metadata": {
    "nbgrader": {
     "grade": false,
     "grade_id": "cell-07f770c2370f39a3",
     "locked": true,
     "schema_version": 3,
     "solution": false
    }
   },
   "source": [
    "<a id='demoboundary'></a>\n",
    "<div class=\" alert alert-info\">\n",
    "<b>Demo.</b> Multiclass Classification.\n",
    "\n",
    "The code snippet below illustrates how multiclass classification via logistic regression can be implemented using the `scikit-learn` Python library ([click here](https://scikit-learn.org/stable/modules/generated/sklearn.linear_model.LogisticRegression.html))\n",
    "* Please ignore the `STOP: TOTAL NO. of ITERATIONS REACHED LIMIT.` warning.\n",
    "</div>\n",
    "\n"
   ]
  },
  {
   "cell_type": "code",
   "execution_count": 15,
   "metadata": {
    "nbgrader": {
     "grade": false,
     "grade_id": "cell-68c53dcd4442a408",
     "locked": true,
     "schema_version": 3,
     "solution": false
    }
   },
   "outputs": [
    {
     "name": "stderr",
     "output_type": "stream",
     "text": [
      "d:\\Users\\Alexander\\Anaconda3\\lib\\site-packages\\sklearn\\linear_model\\logistic.py:432: FutureWarning: Default solver will be changed to 'lbfgs' in 0.22. Specify a solver to silence this warning.\n",
      "  FutureWarning)\n"
     ]
    }
   ],
   "source": [
    "from sklearn.linear_model import LogisticRegression\n",
    "from sklearn import metrics\n",
    "\n",
    "\n",
    "X = pd.read_csv(\"/Users/Alexander/coursedata/R3_Classification/image_data.csv\", header = None).values # matrix containing the feature vectors of the images\n",
    "y = pd.read_csv(\"/Users/Alexander/coursedata/R3_Classification/image_labels.csv\", header = None).values # vector with image categories (0,1 or 2)\n",
    "logReg = LogisticRegression(random_state=0,multi_class=\"ovr\") # set multi_class to one versus rest ('ovr')\n",
    "\n",
    "logReg = logReg.fit(X, y.ravel())\n",
    "\n",
    "y_pred = logReg.predict(X).reshape(-1, 1)\n",
    "\n"
   ]
  },
  {
   "cell_type": "markdown",
   "metadata": {
    "nbgrader": {
     "grade": false,
     "grade_id": "cell-bd7b40d03f750e19",
     "locked": true,
     "schema_version": 3,
     "solution": false
    }
   },
   "source": [
    "### Confusion Matrix\n",
    "\n",
    "Computing the accuracy, as the fraction of correctly classified data points for which $\\hat{y}^{(i)}=y^{(i)}$, is only one possible way to check how well you did. In some applications the accuracy is not very useful as a quality measure. In particular, for applications where the different classes occur with significantly different frequency (\"imbalanced data\"). A more fine-grained assessment of a classification method is provided by computing the confusion matrix. The confusion matrix considers the perfomance of a classifier individually for each possible value of the true label. In contrast, the accuracy is an average measure that averages over all possible label values.\n"
   ]
  },
  {
   "cell_type": "markdown",
   "metadata": {
    "nbgrader": {
     "grade": false,
     "grade_id": "cell-2ca0ad43155b3cf7",
     "locked": true,
     "schema_version": 3,
     "solution": false
    }
   },
   "source": [
    "<a id='logregconf'></a>\n",
    "<div class=\" alert alert-info\">\n",
    "<b>Demo.</b> Confusion Matrix. \n",
    "\n",
    "The code snippet below implements a function `visualize_cm(cm)` which takes as input a confusion matrix (`cm`). The entry in the $i$th row and $j$th colums of the confusion matrix is the number of images that have true label $y=i$ but are classified as $\\hat{y}=j$.   \n",
    "\n",
    "You can read more about the confusion matrix and why it is useful at: https://en.wikipedia.org/wiki/Confusion_matrix\n",
    "</div> "
   ]
  },
  {
   "cell_type": "code",
   "execution_count": 16,
   "metadata": {
    "nbgrader": {
     "grade": false,
     "grade_id": "cell-5a67fe87a76b1361",
     "locked": true,
     "schema_version": 3,
     "solution": false
    }
   },
   "outputs": [],
   "source": [
    "# This function is used to plot the confusion matrix and normalized confusion matrix\n",
    "import itertools\n",
    "from sklearn.metrics import confusion_matrix\n",
    "def visualize_cm(cm):\n",
    "    \"\"\"\n",
    "    Function visualizes a confusion matrix with and without normalization\n",
    "    \"\"\"\n",
    "    plt.rc('legend', fontsize=10) \n",
    "    plt.rc('axes', labelsize=10) \n",
    "    plt.rc('xtick', labelsize=10) \n",
    "    plt.rc('ytick', labelsize=10) \n",
    "\n",
    "\n",
    "    fig, axes = plt.subplots(1, 2,figsize=(10,5))\n",
    "\n",
    "    im1 = axes[0].imshow(cm, interpolation='nearest', cmap=plt.cm.Blues)\n",
    "    fig.colorbar(im1, ax=axes[0])\n",
    "    classes = ['Class 0','Class 1','Class 2']\n",
    "    tick_marks = np.arange(len(classes))\n",
    "    axes[0].set_xticks(tick_marks)\n",
    "    axes[0].set_xticklabels(classes,rotation=45)\n",
    "    axes[0].set_yticks(tick_marks)\n",
    "    axes[0].set_yticklabels(classes)\n",
    "\n",
    "    thresh = cm.max() / 2.\n",
    "    for i, j in itertools.product(range(cm.shape[0]), range(cm.shape[1])):\n",
    "        axes[0].text(j, i, format(cm[i, j], 'd'),\n",
    "                 horizontalalignment=\"center\",\n",
    "                 verticalalignment=\"center\",\n",
    "                 color=\"white\" if cm[i, j] > thresh else \"black\")\n",
    "\n",
    "    axes[0].set_xlabel('predicted label $\\hat{y}$')\n",
    "    axes[0].set_ylabel('true label $y$')\n",
    "    axes[0].set_title(r'$\\bf{Figure\\ 6.}$Without normalization')\n",
    "    \n",
    "    cm = cm.astype('float') / cm.sum(axis=1)[:, np.newaxis]\n",
    "    im2 = axes[1].imshow(cm, interpolation='nearest', cmap=plt.cm.Blues)\n",
    "    fig.colorbar(im2, ax=axes[1])\n",
    "    \n",
    "    axes[1].set_xticks(tick_marks)\n",
    "    axes[1].set_xticklabels(classes,rotation=45)\n",
    "    axes[1].set_yticks(tick_marks)\n",
    "    axes[1].set_yticklabels(classes)\n",
    "\n",
    "    thresh = cm.max() / 2.\n",
    "    for i, j in itertools.product(range(cm.shape[0]), range(cm.shape[1])):\n",
    "        axes[1].text(j, i, format(cm[i, j], '.2f'),\n",
    "                 horizontalalignment=\"center\",\n",
    "                verticalalignment=\"center\",\n",
    "                color=\"white\" if cm[i, j] > thresh else \"black\")\n",
    "\n",
    "    axes[1].set_xlabel('predicted label $\\hat{y}$')\n",
    "    axes[1].set_ylabel('true label $y$')\n",
    "    axes[1].set_title(r'$\\bf{Figure\\ 7.}$Normalized')\n",
    "    \n",
    "    axes[0].set_ylim(-0.5,2.5) \n",
    "    axes[1].set_ylim(-0.5,2.5)\n",
    "    \n",
    "    plt.tight_layout()\n",
    "    plt.show()\n"
   ]
  },
  {
   "cell_type": "markdown",
   "metadata": {
    "nbgrader": {
     "grade": false,
     "grade_id": "cell-4a56415fe821ee97",
     "locked": true,
     "schema_version": 3,
     "solution": false
    }
   },
   "source": [
    "<a id='logregconf'></a>\n",
    "<div class=\" alert alert-warning\">\n",
    "<b>Student Task.</b> Confusion Matrix. \n",
    "\n",
    "Compute a confusion matrix using the built in sklearn function `confusion_matrix(y_test, y_pred)` with inputs `y` and `y_pred` which are obtained from the above demo \"Multiclass Classification\".\n",
    "\n",
    "[documentation](https://scikit-learn.org/stable/modules/generated/sklearn.metrics.confusion_matrix.html).\n",
    "\n",
    "* Please ignore the `STOP: TOTAL NO. of ITERATIONS REACHED LIMIT.` warning.\n",
    "</div> "
   ]
  },
  {
   "cell_type": "code",
   "execution_count": 17,
   "metadata": {
    "nbgrader": {
     "grade": false,
     "grade_id": "cell-ebe1f30be4f1c0c9",
     "locked": false,
     "schema_version": 3,
     "solution": true
    }
   },
   "outputs": [
    {
     "data": {
      "image/png": "[encoded data removed]",
      "text/plain": [
       "<Figure size 720x360 with 4 Axes>"
      ]
     },
     "metadata": {
      "needs_background": "light"
     },
     "output_type": "display_data"
    }
   ],
   "source": [
    "# Get the confusion matrix from the test set and your predictions\n",
    "from sklearn.metrics import confusion_matrix\n",
    "\n",
    "# cm = ...\n",
    "### BEGIN SOLUTION\n",
    "cm = metrics.confusion_matrix(y, y_pred)\n",
    "### END SOLUTION\n",
    "\n",
    "visualize_cm(cm)"
   ]
  },
  {
   "cell_type": "code",
   "execution_count": 18,
   "metadata": {
    "nbgrader": {
     "grade": true,
     "grade_id": "cell-24c846bf6d5d3b7e",
     "locked": true,
     "points": 1,
     "schema_version": 3,
     "solution": false
    }
   },
   "outputs": [
    {
     "name": "stdout",
     "output_type": "stream",
     "text": [
      "Sanity check tests passed!\n"
     ]
    },
    {
     "name": "stderr",
     "output_type": "stream",
     "text": [
      "d:\\Users\\Alexander\\Anaconda3\\lib\\site-packages\\sklearn\\linear_model\\logistic.py:432: FutureWarning: Default solver will be changed to 'lbfgs' in 0.22. Specify a solver to silence this warning.\n",
      "  FutureWarning)\n",
      "d:\\Users\\Alexander\\Anaconda3\\lib\\site-packages\\sklearn\\utils\\validation.py:724: DataConversionWarning: A column-vector y was passed when a 1d array was expected. Please change the shape of y to (n_samples, ), for example using ravel().\n",
      "  y = column_or_1d(y, warn=True)\n"
     ]
    }
   ],
   "source": [
    "# Tests\n",
    "assert cm.shape == (3,3), \"Confusion Matrix has wrong dimensions.\"\n",
    "print('Sanity check tests passed!')\n",
    "\n",
    "### BEGIN HIDDEN TESTS\n",
    "t_logReg = LogisticRegression(random_state=0,multi_class=\"ovr\")\n",
    "#t_X_train, t_X_test, t_y_train, t_y_test = train_test_split(X, y, test_size=0.2, random_state=0) # 80% training and 20% test\n",
    "t_logReg_fit = t_logReg.fit(X, y)\n",
    "t_y_pred = t_logReg.predict(X)\n",
    "\n",
    "cm_test = metrics.confusion_matrix(y, t_y_pred)\n",
    "np.testing.assert_allclose(cm, cm_test, atol=1)\n",
    "### END HIDDEN TESTS"
   ]
  },
  {
   "cell_type": "markdown",
   "metadata": {
    "nbgrader": {
     "grade": false,
     "grade_id": "cell-a0ee4435a6c55ab0",
     "locked": true,
     "schema_version": 3,
     "solution": false
    }
   },
   "source": [
    "## Reliability of (Confidence in) Classifications\n",
    "\n",
    "We now show how to use logistic regression to get a measure of reliability of the predicted label $\\hat{y}$. \n",
    "\n",
    "In particular, given an image with features $\\mathbf{x}$, logistic regression computes the predicted label $\\hat{y}$ using the sign of $h^{(\\mathbf{w})}(\\mathbf{x})=\\mathbf{w}^{T} \\mathbf{x}$. Moreover, can use the magnitude of $h^{(\\mathbf{w})}=\\mathbf{w}^{T} \\mathbf{x}$ as a measure for the reliability of the classification. If this value is too small, we conclude that logistic regression was not able to reliably classify the image and we should send it to a human for a more rigorous analysis. \n",
    "\n",
    "In what follows, we will apply a Python library function `logReg.predict_proba(X)` to compute a confidence measure for the resulting classification $\\hat{y}$. Instead of using the magnitude of $h^{(\\mathbf{w})}=\\mathbf{w}^{T} \\mathbf{x}$, they use a related but different measure for the reliability. In particular, for a binary classification problem, this method computes the (estimated) probability ${\\rm Prob}(y=1; \\mathbf{w})= \\frac{1}{1+{\\rm exp}(-\\mathbf{w}^{T}\\mathbf{x})}$ that the true label is $1$. "
   ]
  },
  {
   "cell_type": "markdown",
   "metadata": {
    "nbgrader": {
     "grade": false,
     "grade_id": "cell-5e63cf757270a439",
     "locked": true,
     "schema_version": 3,
     "solution": false
    }
   },
   "source": [
    "<a id='logregprobs'></a>\n",
    "<div class=\" alert alert-warning\">\n",
    "<b>Student Task.</b> Confidence in Classifications. \n",
    "\n",
    "Remember that logistic regression computes an optimal weight vector $\\widehat{\\mathbf{w}}$ for a linear predictor funtion $h(\\mathbf{x}) = \\mathbf{w}^{T} \\mathbf{x}$ in order to minimize the average logistic loss incurred over some given labeled data points $(\\mathbf{x}^{(i)},y^{(i)})$, $i=1,\\ldots,m$, for which we already know the true labels $y^{(i)}$. \n",
    "\n",
    "One of the appealing properties of logistic regression is that it not only provides a tool for classifying data points, i.e., computing a predicted label $\\hat{y}$, but also allows to quantify the reliability of (confidence in) the predicted label $\\hat{y}$. \n",
    "\n",
    "Logistic regression uses a probabilistic model that allows to compute the (estimated) probabilities ${\\rm Prob}(y=c|\\widehat{\\mathbf{w}})$ that the true label $y$ takes on a particular value $c$, e.g., $c=0,1,2$ in the image labelling application. Given an image with features $\\mathbf{x}$, we choose the predicted label $\\hat{y}$ as the particular value $c \\in \\{0,1,2\\}$ which yields the maximum probability ${\\rm Prob}(y=c|\\widehat{\\mathbf{w}})$. However, if this maximum probability ${\\rm Prob}(y=\\widehat{y}|\\widehat{\\mathbf{w}})$ is close to $1/2$ then the classification should be considered highly unreliable. \n",
    " \n",
    "- Use the Python function `logReg.predict_proba(X)`, which reads in the feature matrix $\\mathbf{X} \\in \\mathbb{R}^{m \\times n}$ whose rows contain the feature vectors $\\mathbf{x}^{(i)}$. For each data point with features $\\mathbf{x}^{(i)}$, the function computes the probabilities ${\\rm Prob}(y^{(i)}=c|\\widehat{\\mathbf{w}})$ of the true label $y^{(i)}$ is equal to the value $c=\\{0,1,2\\}$.\n",
    "- The Python function `logReg.predict_proba(X)` returns a numpy array of shape (m,3) which represents a matrix \n",
    "$\\mathbf{T} \\in \\mathbb{R}^{m \\times 3}$. The $i$th row of $\\mathbf{T}$ represents the probabities ${\\rm Prob}(y^{(i)}=0|\\widehat{\\mathbf{w}})$, ${\\rm Prob}(y^{(i)}=1|\\widehat{\\mathbf{w}})$ and ${\\rm Prob}(y^{(i)}=2|\\widehat{\\mathbf{w}})$. The predicted label $\\hat{y}$ is obtained by the maximum of these probabilities, i.e., \n",
    "$$ {\\rm Prob}(y^{(i)}= \\hat{y}^{(i)}|\\widehat{\\mathbf{w}}) = \\max_{c\\in \\{0,1,2\\}} {\\rm Prob}(y^{(i)}= c|\\widehat{\\mathbf{w}}).$$\n",
    "The confidence in the predicted label being correct is measured by the maximum probabilty $\\max_{c\\in \\{0,1,2\\}} {\\rm Prob}(y^{(i)}= c|\\widehat{\\mathbf{w}})$. \n",
    "\n",
    "- Count the data points for which the predications have a confidence of less than 90%. E.g., if for a data point the predictions are \"class 0\": 89%, \"class 1\": 6% and \"class 2\": 5%, then the sample is discarded since we are not confident enough in the classification (which would be $\\hat{y}=0$ in this case). Store the total number of discarded data points in the variable `n_of_discarded_samples`. \n",
    "\n",
    "\n",
    "Hint: For more information, we refer to the [documentation](https://scikit-learn.org/stable/modules/generated/sklearn.linear_model.LogisticRegression.html#sklearn.linear_model.LogisticRegression.predict_proba).\n",
    "</div>"
   ]
  },
  {
   "cell_type": "code",
   "execution_count": 19,
   "metadata": {
    "nbgrader": {
     "grade": false,
     "grade_id": "cell-dfba9a6dac8bc476",
     "locked": false,
     "schema_version": 3,
     "solution": true
    }
   },
   "outputs": [
    {
     "name": "stdout",
     "output_type": "stream",
     "text": [
      "first five samples and their probabilities of belonging to classes 0, 1 and 2:\n",
      "Probabilities of Sample 1 : Class 0: 99.51 % Class 1: 0.44 % Class 2: 0.05 %\n",
      "Probabilities of Sample 2 : Class 0: 99.67 % Class 1: 0.28 % Class 2: 0.05 %\n",
      "Probabilities of Sample 3 : Class 0: 99.83 % Class 1: 0.04 % Class 2: 0.14 %\n",
      "Probabilities of Sample 4 : Class 0: 99.72 % Class 1: 0.00 % Class 2: 0.28 %\n",
      "Probabilities of Sample 5 : Class 0: 25.86 % Class 1: 73.35 % Class 2: 0.80 %\n",
      "Number of discarded samples: 31\n"
     ]
    }
   ],
   "source": [
    "# make a prediction\n",
    "# y_probs = ...\n",
    "### BEGIN SOLUTION\n",
    "y_probs = logReg.predict_proba(X)\n",
    "### END SOLUTION\n",
    "\n",
    "# show the inputs and predicted probabilities\n",
    "print('first five samples and their probabilities of belonging to classes 0, 1 and 2:')\n",
    "for i in range(5):\n",
    "    print(\"Probabilities of Sample\", i+1,':', 'Class 0:',\"{:.2f}\".format(100*y_probs[i][0],2),'%', 'Class 1:', \"{:.2f}\".format(100*y_probs[i][1]), '%', 'Class 2:', \"{:.2f}\".format(100*y_probs[i][2]),'%' )\n",
    "\n",
    "n_of_discarded_samples = 0\n",
    "\n",
    "### BEGIN SOLUTION\n",
    "\n",
    "for i in range(len(y_probs)):\n",
    "    if(np.max(y_probs[i]) < 0.9):\n",
    "        n_of_discarded_samples += 1\n",
    "### END SOLUTION\n",
    "print('Number of discarded samples:', n_of_discarded_samples)"
   ]
  },
  {
   "cell_type": "code",
   "execution_count": 20,
   "metadata": {
    "nbgrader": {
     "grade": true,
     "grade_id": "cell-ef79bd22eecd6d3d",
     "locked": true,
     "points": 3,
     "schema_version": 3,
     "solution": false
    }
   },
   "outputs": [
    {
     "name": "stdout",
     "output_type": "stream",
     "text": [
      "Sanity check tests passed!\n"
     ]
    }
   ],
   "source": [
    "# Tests\n",
    "assert isinstance(n_of_discarded_samples, int), 'Variable should be an integer.'\n",
    "assert n_of_discarded_samples > 10, 'Number of discarded samples should be above 10.'\n",
    "\n",
    "### BEGIN HIDDEN TESTS\n",
    "assert n_of_discarded_samples == 31, 'Number of discarded samples should be 20.'\n",
    "### END HIDDEN TESTS\n",
    "\n",
    "print('Sanity check tests passed!')"
   ]
  },
  {
   "cell_type": "markdown",
   "metadata": {
    "nbgrader": {
     "grade": false,
     "grade_id": "cell-ed0fbfd2850ca1d9",
     "locked": true,
     "schema_version": 3,
     "solution": false
    }
   },
   "source": [
    "## Decision Trees\n",
    "\n",
    "We will learn another classification method which is referred to as **decision trees**. A decision tree is a flowchart-like representation of a predictor function $h(\\mathbf{x})$ that reads in the features $\\mathbf{x}$ of a data point and ouputs a predicted label $\\hat{y}=h(\\mathbf{x})$. The decision tree consists of **nodes** which represent certain tests, e.g., \"is the first feature $x_{1}$ larger than 10?\". The nodes are connected by **branches** that correspond to the result or outcome of a test (there is one outgoing branch for each possible answer of a test node). By following the branches, we end up at a leaf node (which has no further branches). Each leaf node is associated with a certain output value $h(\\mathbf{x})$. The picture below depicts a decision tree with test nodes colored blue and leaf nodes colored orange and green. \n",
    "\n",
    "<img src=\"../../../coursedata/R3_Classification/Decision_Tree.png\" alt=\"Drawing\" style=\"width: 400px;\"/>\n",
    "\n",
    "Now you might wonder how do we choose the test nodes? The basic idea is the same as in linear or logistic regression, we try out many different decision trees (using different choices of test nodes) and pick the one which results in the smallest average loss incurred on some labeled training data points $(\\mathbf{x}^{(i)},y^{(i)})$. However, in contrast to logistic regression, this learning or optimization problem involves searching over a discrete set of different configurations of test nodes instead of a continuous convex optimization of a weight vector $\\mathbf{w}$. This makes learning decision trees compupationally more challenging compared to logistic regression which allows to use efficient convex optimization methods (such as plain gradient descent). However, there have been developed clever ways to learn good decision trees with a reasonable amout of computational resources.  \n",
    "\n",
    "If you want to learn more details about decision trees, beyond the requirements of this course, we refer you to: \n",
    "\n",
    "- https://en.wikipedia.org/wiki/Decision_tree_learning#Gini_impurity\n",
    "- https://en.wikipedia.org/wiki/Decision_tree_learning#Information_gain\n",
    "- https://sebastianraschka.com/faq/docs/decisiontree-error-vs-entropy.html"
   ]
  },
  {
   "cell_type": "markdown",
   "metadata": {
    "nbgrader": {
     "grade": false,
     "grade_id": "cell-9970cfed7abbad39",
     "locked": true,
     "schema_version": 3,
     "solution": false
    }
   },
   "source": [
    "<a id='demotreeboundary'></a>\n",
    "<div class=\" alert alert-info\">\n",
    "<b>Demo.</b> Decision Boundary of a Decision Tree.\n",
    "\n",
    "The code snippet below learns a predictor function $h(\\mathbf{x})$ using decision trees based on the first two features $x_{1}$ and $x_{2}$ of the images. It then creates a scatter plot of the training samples $(\\mathbf{x}^{(i)},y^{(i)}$. All samples with $y^{(i)} = 1$ are indicated by \"x\" while all samples with true label $y^{(i)} =0$ are indicated by \"o\". The scatter plot also indicates the decision boundary $\\{\\mathbf{x}: \\widehat{\\mathbf{w}}^{T} \\mathbf{x}=0 \\}$. \n",
    "\n",
    "Note that the training data is not perfectly separable by a linear decision boundary. \n",
    "\n",
    "</div>"
   ]
  },
  {
   "cell_type": "code",
   "execution_count": 21,
   "metadata": {
    "nbgrader": {
     "grade": false,
     "grade_id": "cell-ec23f55820ad7734",
     "locked": true,
     "schema_version": 3,
     "solution": false
    }
   },
   "outputs": [
    {
     "name": "stdout",
     "output_type": "stream",
     "text": [
      "Accuracy: 100.0 %\n"
     ]
    },
    {
     "data": {
      "image/png": "[encoded data removed]",
      "text/plain": [
       "<Figure size 360x360 with 1 Axes>"
      ]
     },
     "metadata": {
      "needs_background": "light"
     },
     "output_type": "display_data"
    }
   ],
   "source": [
    "# Load libraries\n",
    "import pandas as pd\n",
    "import numpy as np\n",
    "import matplotlib.pyplot as plt\n",
    "from sklearn.tree import DecisionTreeClassifier # Import Decision Tree Classifier\n",
    "from sklearn import metrics #Import scikit-learn metrics module for accuracy calculation\n",
    "\n",
    "def plot_decision_boundary(clf, X, Y, cmap='Paired_r'):\n",
    "    h = 0.02\n",
    "    x_min, x_max = X[:,0].min() - 10*h, X[:,0].max() + 10*h\n",
    "    y_min, y_max = X[:,1].min() - 10*h, X[:,1].max() + 10*h\n",
    "    xx, yy = np.meshgrid(np.arange(x_min, x_max, h),np.arange(y_min, y_max, h))\n",
    "    Z = clf.predict(np.c_[xx.ravel(), yy.ravel()])\n",
    "    Z = Z.reshape(xx.shape)\n",
    "    \n",
    "    indx_1 = np.where(Y == 1)[0] # index of each class 0 iamge.\n",
    "    indx_2 = np.where(Y == 0)[0] # index of each not class 0 image\n",
    "    \n",
    "\n",
    "    plt.figure(figsize=(5,5))\n",
    "    plt.contourf(xx, yy, Z, cmap=cmap, alpha=0.25)\n",
    "    plt.contour(xx, yy, Z, colors='k', linewidths=0.7)\n",
    "    plt.scatter(X[indx_1, 0], X[indx_1, 1],marker='x',label='class 0', edgecolors='k')\n",
    "    plt.scatter(X[indx_2, 0], X[indx_2, 1],marker='o',label='class 1', edgecolors='k')\n",
    "    plt.xlabel(r'Feature 1')\n",
    "    plt.ylabel(r'Feature 2')\n",
    "\n",
    "    \n",
    "\n",
    "X = pd.read_csv(\"/Users/Alexander/coursedata/R3_Classification/image_data.csv\", header = None).values # matrix containing the feature vectors of the image samples\n",
    "X = X[:,:2]  # use only first two features\n",
    "c = pd.read_csv(\"/Users/Alexander/coursedata/R3_Classification/image_labels.csv\", header = None).values # vector with image categories (0,1 or 2)\n",
    "m = c.shape[0]         # set m equal to the number of rows in features  \n",
    "y = np.zeros((m,1));    # initialize label vector with zero entries\n",
    "    \n",
    "for i in range(m):\n",
    "        if (c[i] == 0):\n",
    "            y[i] = 1 # Class 0\n",
    "        else:\n",
    "            y[i] = 0 #Not class 0\n",
    "\n",
    "\n",
    "tree = DecisionTreeClassifier()   # define object \"tree\" which represents a decision tree\n",
    "tree.fit(X, y)                    # learn a decision tree that fits well the labeled images  \n",
    "y_pred = tree.predict(X)          # compute the predicted labels for the images\n",
    "accuracy = metrics.accuracy_score(y, y_pred)  # compute the rate of correctly classified images\n",
    "print(\"Accuracy:\", round(100*accuracy, 2), '%')\n",
    "\n",
    "plot_decision_boundary(tree, X, y)\n",
    "plt.show()\n"
   ]
  },
  {
   "cell_type": "markdown",
   "metadata": {
    "nbgrader": {
     "grade": false,
     "grade_id": "cell-66550b25821ecf7d",
     "locked": true,
     "schema_version": 3,
     "solution": false
    }
   },
   "source": [
    "<a id='dtclassifier'></a>\n",
    "<div class=\" alert alert-warning\">\n",
    "<b>Student Task.</b> Decision Tree Classifier.\n",
    "Create a decision tree classifier using the sklearn DecisionTreeClassifier imported in the previous cell. Use the following parameters for the classifier: `DecisionTreeClassifier(random_state=0, criterion='entropy')`. The argument `criterion` corresponds to a particular choice for the loss function to be used. For background information consult the [documentation](https://scikit-learn.org/stable/modules/generated/sklearn.tree.DecisionTreeClassifier.html).\n",
    "\n",
    "Choose or learn a good decision tree using the [`fit`](https://scikit-learn.org/stable/modules/generated/sklearn.tree.DecisionTreeClassifier.html#sklearn.tree.DecisionTreeClassifier.fit) function. Using the learnt decision tree, compute the predicted labels $\\hat{y}^{(i)}$ for the training data using the function [`DecisionTreeClassifier.predict`](https://scikit-learn.org/stable/modules/generated/sklearn.tree.DecisionTreeClassifier.html#sklearn.tree.DecisionTreeClassifier.predict) and save it to numpy array `y_pred`.\n",
    "</div>"
   ]
  },
  {
   "cell_type": "code",
   "execution_count": 22,
   "metadata": {
    "nbgrader": {
     "grade": false,
     "grade_id": "cell-53c7cbd776f98a85",
     "locked": false,
     "schema_version": 3,
     "solution": true
    }
   },
   "outputs": [
    {
     "name": "stdout",
     "output_type": "stream",
     "text": [
      "Accuracy: 100.0 %\n"
     ]
    },
    {
     "name": "stderr",
     "output_type": "stream",
     "text": [
      "d:\\Users\\Alexander\\Anaconda3\\lib\\site-packages\\sklearn\\externals\\six.py:31: DeprecationWarning: The module is deprecated in version 0.21 and will be removed in version 0.23 since we've dropped support for Python 2.7. Please rely on the official version of six (https://pypi.org/project/six/).\n",
      "  \"(https://pypi.org/project/six/).\", DeprecationWarning)\n"
     ]
    }
   ],
   "source": [
    "# Load libraries\n",
    "import pandas as pd\n",
    "from sklearn.tree import export_graphviz\n",
    "from sklearn.externals.six import StringIO  \n",
    "from IPython.display import Image  \n",
    "#import pydotplus\n",
    "\n",
    "from sklearn.tree import DecisionTreeClassifier # Import Decision Tree Classifier\n",
    "from sklearn import metrics #Import scikit-learn metrics module for accuracy calculation\n",
    "from sklearn.metrics import confusion_matrix \n",
    "\n",
    "#load data to feature matrix X and label vector y \n",
    "X = pd.read_csv(\"/Users/Alexander/coursedata/R3_Classification/image_data.csv\", header = None).values # matrix containing the feature vectors of the images\n",
    "y = pd.read_csv(\"/Users/Alexander/coursedata/R3_Classification/image_labels.csv\", header = None).values # vector with image categories (0,1 or 2)\n",
    "feature_cols = [\"x\" + str(i) for i in range(len(X[0,:]))] # needed for visualization\n",
    "\n",
    "# Create Decision Tree classifer object with parameters: random_state=0, criterion='entropy'\n",
    "# clf = ...\n",
    "\n",
    "# Train Decision Tree Classifier\n",
    "# clf_fit = ...\n",
    "\n",
    "#Predict the response for test dataset\n",
    "# y_pred = ...\n",
    "\n",
    "# Use the metrics.accuracy_score function to calculate accuracy.\n",
    "# accuracy = ...\n",
    "\n",
    "### BEGIN SOLUTION\n",
    "clf = DecisionTreeClassifier(random_state=0, criterion='entropy')\n",
    "\n",
    "clf_fit = clf.fit(X, y)\n",
    "\n",
    "y_pred = clf_fit.predict(X)\n",
    "\n",
    "accuracy = metrics.accuracy_score(y, y_pred)\n",
    "### END SOLUTION\n",
    "\n",
    "# reshape y_pred to 2d matrix\n",
    "y_pred = y_pred.reshape(-1, 1)\n",
    "# Model Accuracy, how often is the classifier correct?\n",
    "print(\"Accuracy:\", round(100*accuracy, 2), '%')"
   ]
  },
  {
   "cell_type": "code",
   "execution_count": 23,
   "metadata": {
    "nbgrader": {
     "grade": true,
     "grade_id": "cell-785d28c1d47fecbf",
     "locked": true,
     "points": 3,
     "schema_version": 3,
     "solution": false
    }
   },
   "outputs": [
    {
     "name": "stdout",
     "output_type": "stream",
     "text": [
      "Sanity check tests passed!\n"
     ]
    }
   ],
   "source": [
    "# Tests\n",
    "assert X.shape == (178, 13), \"Training set label matrix has wrong dimensions.\"\n",
    "assert y.shape == (178,1), \"Test set feature matrix has wrong dimensions.\"\n",
    "assert y_pred.shape == (178,1), \"Prediction matrix has wrong dimensions.\"\n",
    "\n",
    "print('Sanity check tests passed!')\n",
    "\n",
    "### BEGIN HIDDEN TESTS\n",
    "np.testing.assert_allclose(accuracy*100, 100.0, atol=0.1)\n",
    "### END HIDDEN TESTS"
   ]
  },
  {
   "cell_type": "markdown",
   "metadata": {
    "nbgrader": {
     "grade": false,
     "grade_id": "cell-9967527de1fab4cc",
     "locked": true,
     "schema_version": 3,
     "solution": false
    }
   },
   "source": [
    "<a id='dtcm'></a>\n",
    "<div class=\" alert alert-warning\">\n",
    "<b>Student Task.</b> Confusion Matrix.\n",
    "\n",
    "Use the [`confusion_matrix`](https://scikit-learn.org/stable/modules/generated/sklearn.metrics.confusion_matrix.html) function to calculate the confusion matrix for the true labels `y` and predicted label `y_pred` obtained from the previous student task. Store the resulting confusion matrix in a variable named `cm`.\n",
    "</div>"
   ]
  },
  {
   "cell_type": "code",
   "execution_count": 24,
   "metadata": {
    "nbgrader": {
     "grade": false,
     "grade_id": "cell-f5211b69f126ff53",
     "locked": false,
     "schema_version": 3,
     "solution": true
    }
   },
   "outputs": [
    {
     "data": {
      "image/png": "[encoded data removed]",
      "text/plain": [
       "<Figure size 720x360 with 4 Axes>"
      ]
     },
     "metadata": {
      "needs_background": "light"
     },
     "output_type": "display_data"
    }
   ],
   "source": [
    "# create a confusion matrix \n",
    "# cm = confusion_matrix(...) \n",
    "\n",
    "### BEGIN SOLUTION\n",
    "cm = confusion_matrix(y, y_pred) \n",
    "### END SOLUTION\n",
    "\n",
    "# visualizing a confusion matrix\n",
    "visualize_cm(cm)"
   ]
  },
  {
   "cell_type": "code",
   "execution_count": 25,
   "metadata": {
    "nbgrader": {
     "grade": true,
     "grade_id": "cell-695db031852aab15",
     "locked": true,
     "points": 1,
     "schema_version": 3,
     "solution": false
    }
   },
   "outputs": [
    {
     "name": "stdout",
     "output_type": "stream",
     "text": [
      "Sanity check tests passed!\n"
     ]
    }
   ],
   "source": [
    "# Tests\n",
    "assert cm.shape == (3,3), \"Confusion Matrix has wrong dimensions.\"\n",
    "print('Sanity check tests passed!')\n",
    "\n",
    "### BEGIN HIDDEN TESTS\n",
    "from sklearn.metrics import confusion_matrix \n",
    "r_cm = confusion_matrix(y, y_pred) \n",
    "np.testing.assert_allclose(r_cm, cm, atol=1)\n",
    "### END HIDDEN TESTS"
   ]
  },
  {
   "cell_type": "markdown",
   "metadata": {
    "nbgrader": {
     "grade": false,
     "grade_id": "cell-77e3903a0aa76769",
     "locked": true,
     "schema_version": 3,
     "solution": false
    }
   },
   "source": [
    "<a id='dtvis'></a>\n",
    "<div class=\" alert alert-info\">\n",
    "<b>Demo.</b> Visualizing the decision tree. \n",
    "- Run the below cell to visualize the decision tree.\n",
    "</div>"
   ]
  },
  {
   "cell_type": "code",
   "execution_count": 26,
   "metadata": {
    "nbgrader": {
     "grade": false,
     "grade_id": "cell-cb4bc6e0bf21e9a6",
     "locked": true,
     "schema_version": 3,
     "solution": false
    }
   },
   "outputs": [],
   "source": [
    "# visualize the decision tree\n",
    "dot_data = StringIO()\n",
    "export_graphviz(clf, out_file=dot_data,  \n",
    "                filled=True, rounded=True,\n",
    "                special_characters=True,feature_names = feature_cols,class_names=['0','1', '2'])\n",
    "#graph = pydotplus.graph_from_dot_data(dot_data.getvalue())\n",
    "#Image(graph.create_png())"
   ]
  },
  {
   "cell_type": "markdown",
   "metadata": {
    "nbgrader": {
     "grade": false,
     "grade_id": "cell-d5344511aa2b9686",
     "locked": true,
     "schema_version": 3,
     "solution": false
    }
   },
   "source": [
    "### Difference between logistic regression and decision trees\n",
    "\n",
    "The two classification methods logistic regression and decision trees both aim at learning a good predictor $h(\\mathbf{x})$ which allows determining the label $y$ of the data point based on some features $\\mathbf{x}$. These two classification methods differ in the form of predictor function $h(\\mathbf{x})$ they are using. Logistic regression uses linear predictor functions $h(\\mathbf{x})=\\mathbf{w}^{T} \\mathbf{x}$ (which are thresholded to get discrete label predictions $\\hat{y}$). \n",
    "\n",
    "In contrast to linear functions used in logistic regression, decision trees use predictor functions that are obtained from flow charts (decision trees) consisting of various tests on the features $\\mathbf{x}$. Using sufficiently large decision trees allows to represent highly non-linear functions $h(\\mathbf{x})$. In particular, decision trees can perfectly separate data points (according to their labels) which cannot be separated by any straight line (which are the only possible decision boundaries for logistic regression). \n",
    "\n",
    "<table><tr>\n",
    "    <td><img src='../../../coursedata/R3_Classification/lr1.png' style=\"width: 300px;\"></td>\n",
    "    <td><img src='../../../coursedata/R3_Classification/tree1.png' style=\"width: 300px;\"></td>\n",
    "</tr></table>"
   ]
  },
  {
   "cell_type": "markdown",
   "metadata": {
    "nbgrader": {
     "grade": false,
     "grade_id": "cell-75e7a30646e71d67",
     "locked": true,
     "schema_version": 3,
     "solution": false
    }
   },
   "source": [
    "## Take Home Quiz "
   ]
  },
  {
   "cell_type": "markdown",
   "metadata": {
    "nbgrader": {
     "grade": false,
     "grade_id": "cell-30450576e6be42cf",
     "locked": true,
     "schema_version": 3,
     "solution": false
    }
   },
   "source": [
    "Try to answer the following questions by setting the `answer_R3_Q??` variable for each question to the number of the correct answer. For example, if you think that the second answer in the first quizz question is the right one, then set `answer_R3_Q1=2`. "
   ]
  },
  {
   "cell_type": "markdown",
   "metadata": {
    "nbgrader": {
     "grade": false,
     "grade_id": "cell-fe3d2c11cdd46ede",
     "locked": true,
     "schema_version": 3,
     "solution": false
    }
   },
   "source": [
    "<a id='QuestionR3_1'></a>\n",
    "<div class=\" alert alert-warning\">\n",
    "<b>Student Task.</b> Question R3.1. \n",
    "\n",
    "<p>How many features can be used for logistic regression?</p>\n",
    "\n",
    "<ol>\n",
    "  <li>None</li>\n",
    "  <li>One (1)</li>\n",
    "  <li>Thirteen (13)</li>\n",
    "  <li>Any number of features (given enough computational resources)</li>\n",
    "</ol> \n",
    "\n",
    "</div>"
   ]
  },
  {
   "cell_type": "code",
   "execution_count": 27,
   "metadata": {
    "nbgrader": {
     "grade": false,
     "grade_id": "cell-ed5e2813d39894af",
     "locked": false,
     "schema_version": 3,
     "solution": true
    }
   },
   "outputs": [],
   "source": [
    "# answer_Q1\n",
    "\n",
    "# answer_R3_Q1  = ...\n",
    "### BEGIN SOLUTION\n",
    "\n",
    "answer_R3_Q1 = 4\n",
    "\n",
    "### END SOLUTION"
   ]
  },
  {
   "cell_type": "code",
   "execution_count": 28,
   "metadata": {
    "nbgrader": {
     "grade": true,
     "grade_id": "cell-436d8f13df175189",
     "locked": true,
     "points": 1,
     "schema_version": 3,
     "solution": false
    }
   },
   "outputs": [
    {
     "name": "stdout",
     "output_type": "stream",
     "text": [
      "Sanity check tests passed!\n"
     ]
    }
   ],
   "source": [
    "# this cell is for tests\n",
    "assert answer_R3_Q1 in [1,2,3,4], '\"answer_R3_Q1\" Value should be an integer between 1 and 4.'\n",
    "print('Sanity check tests passed!')\n",
    "\n",
    "### BEGIN HIDDEN TESTS\n",
    "assert answer_R3_Q1 in [1,2,3,4], '\"answer_R3_Q1\" Value should be an integer between 1 and 4.'\n",
    "assert answer_R3_Q1 == 4, ' \"answer_R3_Q1\" Correct answer is 4.'\n",
    "### END HIDDEN TESTS"
   ]
  },
  {
   "cell_type": "markdown",
   "metadata": {
    "nbgrader": {
     "grade": false,
     "grade_id": "cell-5241e1c99a943e6d",
     "locked": true,
     "schema_version": 3,
     "solution": false
    }
   },
   "source": [
    "<a id='QuestionR3_2'></a>\n",
    "<div class=\" alert alert-warning\">\n",
    "<b>Student Task.</b> Question R3.2. \n",
    "\n",
    "<p>When performing logistic regression, we are trying to....</p>\n",
    "\n",
    "<ol>\n",
    "  <li>Solving a minimum likelihood problem.</li>\n",
    "  <li>Maximize the average logistic loss.</li>\n",
    "  <li>Minimize the average logistic loss.</li>\n",
    "  <li>Solve a maximum likelihood problem that arises from a particular probabilistic model for the labels. </li>\n",
    "</ol> \n",
    "\n",
    "</div>"
   ]
  },
  {
   "cell_type": "code",
   "execution_count": 29,
   "metadata": {
    "nbgrader": {
     "grade": false,
     "grade_id": "cell-28b9b67d4ee831b7",
     "locked": false,
     "schema_version": 3,
     "solution": true
    }
   },
   "outputs": [],
   "source": [
    "# answer_Q2\n",
    "\n",
    "# answer_R3_Q2 = ...\n",
    "### BEGIN SOLUTION\n",
    "answer_R3_Q2 = 4\n",
    "### END SOLUTION"
   ]
  },
  {
   "cell_type": "code",
   "execution_count": 30,
   "metadata": {
    "nbgrader": {
     "grade": true,
     "grade_id": "cell-4716309299410987",
     "locked": true,
     "points": 1,
     "schema_version": 3,
     "solution": false
    }
   },
   "outputs": [
    {
     "name": "stdout",
     "output_type": "stream",
     "text": [
      "Sanity check tests passed!\n"
     ]
    }
   ],
   "source": [
    "# this cell is for tests\n",
    "assert answer_R3_Q2 in [1,2,3,4], '\"answer_R3_Q2\" Value should be an integer between 1 and 4.'\n",
    "print('Sanity check tests passed!')\n",
    "\n",
    "### BEGIN HIDDEN TESTS\n",
    "assert answer_R3_Q2 in [1,2,3,4], '\"answer_R3_Q2\" Value should be an integer between 1 and 4.'\n",
    "assert answer_R3_Q2 in [3, 4] or answer_R3_Q2 == [3, 4], ' \"answer_R3_Q2\" Correct answer is 3 and 4.'\n",
    "### END HIDDEN TESTS"
   ]
  },
  {
   "cell_type": "markdown",
   "metadata": {
    "nbgrader": {
     "grade": false,
     "grade_id": "cell-07adb8f984372edf",
     "locked": true,
     "schema_version": 3,
     "solution": false
    }
   },
   "source": [
    "<a id='QuestionR3_3'></a>\n",
    "<div class=\" alert alert-warning\">\n",
    "<b>Student Task.</b> Question R3.3. \n",
    "\n",
    "<p>Consider an arbitrary set of $m$ labeled data points having two features $\\mathbf{x}^{(i)} \\in \\big(x^{(i)}_{1},x^{(i)}_{2}\\big)^{T}$ and a binary label $y^{(i)} \\in \\{0,1\\}$. How large can the sample size $m$ be such that we can for sure always find a straight line such that all points $\\mathbf{x}^{(i)}$ with the same label $y^{(i)}$ lie on the same side of the line (ignoring border cases which lie on top of the line). </p>\n",
    "\n",
    "<ol>\n",
    "  <li>$m \\leq 2$</li>\n",
    "  <li>$m = 3$</li>\n",
    "  <li>$m = 4$</li>\n",
    "  <li>$m = 6$</li>\n",
    "</ol> \n",
    "\n",
    "</div>"
   ]
  },
  {
   "cell_type": "code",
   "execution_count": 31,
   "metadata": {
    "nbgrader": {
     "grade": false,
     "grade_id": "cell-f9e25d95622fae74",
     "locked": false,
     "schema_version": 3,
     "solution": true
    }
   },
   "outputs": [],
   "source": [
    "# answer_Q3\n",
    "\n",
    "# answer_R3_Q3  = ...\n",
    "### BEGIN SOLUTION\n",
    "answer_R3_Q3 = 1\n",
    "### END SOLUTION"
   ]
  }
 ],
 "metadata": {
  "celltoolbar": "Create Assignment",
  "kernelspec": {
   "display_name": "Python 3",
   "language": "python",
   "name": "python3"
  },
  "language_info": {
   "codemirror_mode": {
    "name": "ipython",
    "version": 3
   },
   "file_extension": ".py",
   "mimetype": "text/x-python",
   "name": "python",
   "nbconvert_exporter": "python",
   "pygments_lexer": "ipython3",
   "version": "3.7.3"
  },
  "varInspector": {
   "cols": {
    "lenName": 16,
    "lenType": 16,
    "lenVar": 40
   },
   "kernels_config": {
    "python": {
     "delete_cmd_postfix": "",
     "delete_cmd_prefix": "del ",
     "library": "var_list.py",
     "varRefreshCmd": "print(var_dic_list())"
    },
    "r": {
     "delete_cmd_postfix": ") ",
     "delete_cmd_prefix": "rm(",
     "library": "var_list.r",
     "varRefreshCmd": "cat(var_dic_list()) "
    }
   },
   "types_to_exclude": [
    "module",
    "function",
    "builtin_function_or_method",
    "instance",
    "_Feature"
   ],
   "window_display": false
  }
 },
 "nbformat": 4,
 "nbformat_minor": 2
}
