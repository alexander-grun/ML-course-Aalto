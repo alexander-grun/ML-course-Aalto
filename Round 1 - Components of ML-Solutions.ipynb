{
 "cells": [
  {
   "cell_type": "markdown",
   "metadata": {
    "nbgrader": {
     "grade": false,
     "grade_id": "Introduction",
     "locked": true,
     "schema_version": 3,
     "solution": false
    }
   },
   "source": [
    "# Round 1 - Components of Machine Learning\n",
    "\n",
    "<img src=\"../../../coursedata/R1_ComponentsML/AMLProblem.png\" alt=\"Drawing\" style=\"width: 600px;\"/>\n",
    "\n",
    "Many machine learning (ML) problems and methods consist of three components: \n",
    "\n",
    "1. Data points as the basic (atomic) unit of information. Data points are characterized by features, which are  properties that can be measured (or computed) easily. Besides features, data points are often associated with certain labels that represent some higher-level information or quantity of interest. In contrast to features, labels are difficult to acquire and much of machine learning is about to develop methods that allow to estimate or predict the labels of a data point based on its features.  \n",
    "\n",
    "2. A hypothesis space (also referred to as a ML model) consisting of computationally feasible predictor functions.\n",
    "\n",
    "3. A loss function that is used to assess the quality of a particular predictor function. "
   ]
  },
  {
   "cell_type": "markdown",
   "metadata": {
    "nbgrader": {
     "grade": false,
     "grade_id": "cell-f602fbaef16d345f",
     "locked": true,
     "schema_version": 3,
     "solution": false,
     "task": false
    }
   },
   "source": [
    "To implement ML methods, we need to be able to efficiently **store and manipulate** data and predictor functions.  A quite powerful tool to represent and manipulate data and predictor functions are [matrices and vectors](https://en.wikipedia.org/wiki/Matrix_(mathematics)). \n",
    "\n",
    "Indeed, data points can often be characterized by a list of numeric attributes, or \"features\", $x_{r}$ which can be stacked conveniently into a vector $\\mathbf{x}=\\big(x_{1},\\ldots,x_{n}\\big)^{T}$. Moreover, many ML methods (such as linear regression or logistic regression) use predictor functions of the form $h(\\mathbf{x}) = \\mathbf{w}^{T} \\mathbf{x}$ with some weight vector $\\mathbf{w}$. Note that once we restrict ourselves to linear functions of the form $h(\\mathbf{x}) = \\mathbf{w}^{T} \\mathbf{x}$, we can represent a predictor function by the weight vector $\\mathbf{w}$. Indeed, given the weight vector $\\mathbf{w}$, we can evaluate the predictor function for any feature vector $\\mathbf{x}$ as $h(\\mathbf{x}) = \\mathbf{w}^{T} \\mathbf{x}$. "
   ]
  },
  {
   "cell_type": "markdown",
   "metadata": {
    "nbgrader": {
     "grade": false,
     "grade_id": "cell-ccfc045530551950",
     "locked": true,
     "schema_version": 3,
     "solution": false,
     "task": false
    }
   },
   "source": [
    "## Learning goals\n",
    "\n",
    "In this \"warm-up\" exercise you will learn how to \n",
    "\n",
    "* manipulate matrices and vectors,\n",
    "* use Python dictionaries to access datasets,\n",
    "* determine the execution time of code blocks, \n",
    "* read in data from various sources such as files or the internet,\n",
    "* visualize data using scatter plots,\n",
    "* fit simple functions to data. \n",
    "\n",
    "This notebook contains several student tasks which require you to write a few lines of Python code to solve small problems. In particular, you have to fill in the gaps marked as **Student Task**."
   ]
  },
  {
   "cell_type": "markdown",
   "metadata": {
    "nbgrader": {
     "grade": false,
     "grade_id": "cell-cce73a5c84faeb0f",
     "locked": true,
     "schema_version": 3,
     "solution": false,
     "task": false
    }
   },
   "source": [
    "## Additional Material \n",
    "\n",
    "### Videos\n",
    "\n",
    "* [Data](https://youtu.be/WWYRH3x7_5M), [Hypothesis Space](https://youtu.be/CDcRfak1Mh4), [Hypothesis Space of Linear Models](https://youtu.be/Mch5hmhVuiA), [Hypothesis Space of Decision Trees](https://youtu.be/0FmaLfjAaRE), [Hypothesis Space of Deep Learning](https://youtu.be/im8mweIrpAM),[Loss Functions](https://www.youtube.com/watch?v=Uv9lihDfsBs&t=4s)\n",
    "\n",
    "* \"Learn Python in 5 Minutes\" https://www.youtube.com/watch?v=I2wURDqiXdM\n",
    "\n",
    "* \"Learn How To Use Numpy in 5 Minutes\" https://www.youtube.com/watch?v=xECXZ3tyONo\n",
    "\n",
    "### Tutorials \n",
    "\n",
    "* components of ML can be found under [this link](https://arxiv.org/pdf/1910.12387.pdf) \n",
    "\n",
    "* Python library `numpy` can be found under [this link](https://hackernoon.com/introduction-to-numpy-1-an-absolute-beginners-guide-to-machine-learning-and-data-science-5d87f13f0d51).\n",
    "\n",
    "* \"Learn the Basics\" and \"Data Science Tutorial\" sections from [this link](https://www.learnpython.org/en/).\n",
    "\n",
    "* a quick refresher for basic properties of matrices can be found under [this link](http://math.mit.edu/~gs/linearalgebra/linearalgebra5_1-3.pdf)"
   ]
  },
  {
   "cell_type": "markdown",
   "metadata": {
    "nbgrader": {
     "grade": false,
     "grade_id": "cell-7218f90089d3bf28",
     "locked": true,
     "schema_version": 3,
     "solution": false,
     "task": false
    }
   },
   "source": [
    "## Matrices and Vectors\n",
    "<a id=\"Q1\"></a>\n",
    "\n",
    "The Python library `numpy` provides implementations of many useful matrix and vector operations such as matrix multiplication or eigenvalue decompositions. **Throughout this course we will represent matrices or vectors consistently using numpy data types (\"numpy arrays\").** \n",
    "\n",
    "The matrix \n",
    "\\begin{equation}\n",
    "\\mathbf{X}  = \\begin{pmatrix} X_{1,1} & X_{1,2}& \\ldots & X_{1,n} \\\\ \n",
    "X_{2,1} & X_{2,2}& \\ldots & X_{2,n} \\\\ \n",
    "\\vdots & \\vdots & \\vdots & \\vdots \\\\ \n",
    "X_{m,1} & X_{m,2} & \\ldots & X_{m,n} \\end{pmatrix}\\in \\mathbb{R}^{m \\times n}\n",
    "\\end{equation} \n",
    "is represented as a numpy array of shape (m,n). \n",
    "\n",
    "The vector \n",
    "\\begin{equation}\n",
    "\\mathbf{x}  = \\begin{pmatrix} x_{1} \\\\ x_{2} \\\\ \\vdots \\\\ x_{m} \\end{pmatrix}\\in \\mathbb{R}^{m}\n",
    "\\end{equation} \n",
    "is represented as a numpy array of shape (m,1). "
   ]
  },
  {
   "cell_type": "markdown",
   "metadata": {
    "nbgrader": {
     "grade": false,
     "grade_id": "cell-5b32b5485870ddb4",
     "locked": true,
     "schema_version": 3,
     "solution": false
    }
   },
   "source": [
    "<a id='LoadDataset'></a>\n",
    "<div class=\" alert alert-info\">\n",
    "    <b>Demo.</b> Vector and Matrix. \n",
    "    \n",
    "The code snippet below creates a [numpy array](http://cs231n.github.io/python-numpy-tutorial/#numpy-arrays) `X` of shape (2,3) to represent the matrix \n",
    "$\n",
    "\\mathbf{X} = \\begin{pmatrix} 11 & 12 & 13 \\\\ 21 & 22 & 23 \\end{pmatrix}.\\\\\n",
    "$\n",
    "The entry $X_{1,1}$ is accessed via the Python expression `X[0,0]` since in Python the indexing of arrays starts with $0$ instead of $1$. \n",
    "</div>"
   ]
  },
  {
   "cell_type": "code",
   "execution_count": 4,
   "metadata": {
    "nbgrader": {
     "grade": false,
     "grade_id": "cell-f9df313e0963e830",
     "locked": true,
     "schema_version": 3,
     "solution": false,
     "task": false
    }
   },
   "outputs": [
    {
     "name": "stdout",
     "output_type": "stream",
     "text": [
      " X = \n",
      " [[11 12 13]\n",
      " [21 22 23]]\n",
      "shape of X  (2, 3)\n"
     ]
    },
    {
     "data": {
      "text/latex": [
       "$\\displaystyle X_{1,1}=11.00$"
      ],
      "text/plain": [
       "<IPython.core.display.Math object>"
      ]
     },
     "metadata": {},
     "output_type": "display_data"
    },
    {
     "data": {
      "text/latex": [
       "$\\displaystyle X_{2,1}=21.00$"
      ],
      "text/plain": [
       "<IPython.core.display.Math object>"
      ]
     },
     "metadata": {},
     "output_type": "display_data"
    }
   ],
   "source": [
    "from IPython.display import display, Math # this is to display mathematical formulas\n",
    "import numpy as np # use shorthand \"np\" for the numpy library (\"package\")\n",
    "\n",
    "X = np.array([[11,12,13],[21,22,23]]) # Define numpy array\n",
    "\n",
    "print(\" X = \\n\",X) # print X\n",
    "print(\"shape of X \",X.shape) # print X.shape\n",
    "display(Math(r'$X_{1,1}=%02.2f' % X[0,0])) # print command using formatting to put the value of X[0,0] in place of %02.2f.\n",
    "display(Math(r'$X_{2,1}=%02.2f' % X[1,0])) # %02.2f. defines the format of the number, e.g. round to two decimals."
   ]
  },
  {
   "cell_type": "markdown",
   "metadata": {
    "nbgrader": {
     "grade": false,
     "grade_id": "cell-170f3e650ccd33b1",
     "locked": true,
     "schema_version": 3,
     "solution": false
    }
   },
   "source": [
    "\n",
    "<a id='LoadDataset'></a>\n",
    "<div class=\" alert alert-info\">\n",
    "    <b>Demo.</b> Creating Matrices and Vectors. \n",
    "  \n",
    "The code snippet below demonstrates how to create `numpy` arrays of different shapes. \n",
    "Throughout the course, we will consistently use a `numpy` array of shape $(m,n)$ to represent a matrix \n",
    "with $m$ rows and $n$ columns. We consider a vector of length $m$ as a matrix with one single column \n",
    "which is represented by a `numpy` array of shape $(m,1)$. \n",
    "\n",
    "Hints:\n",
    "* The shape, i.e., the number of rows and columns, of a `numpy` array `B` can be determined with `B.shape`\n",
    "* Python is case-sensitive, i.e., `X` and `x` are considered as two different variables \n",
    "* As soon as you create variables `x = ...` and `y = ...`, these variables will continue to exist also when you progress in this notebook, unless you replace (overwrite) them with something else\n",
    "* When doing matrix algebra with numpy, numpy generally prefers arrays/matrices to be of same dimensions. 1d arrays tend to be of shape (n,), thus we need to convert them to shape (n, 1) with `.reshape(-1,1)`. Further examples of reshaping numpy arrays can be found [here](https://www.w3resource.com/numpy/manipulation/reshape.php).\n",
    "\n",
    "</div>"
   ]
  },
  {
   "cell_type": "code",
   "execution_count": 5,
   "metadata": {
    "nbgrader": {
     "grade": false,
     "grade_id": "Matrices_and_vectors_code",
     "locked": true,
     "schema_version": 3,
     "solution": false
    }
   },
   "outputs": [
    {
     "name": "stdout",
     "output_type": "stream",
     "text": [
      "now we have a vector a =\n",
      " [[1]\n",
      " [2]\n",
      " [3]\n",
      " [4]\n",
      " [5]\n",
      " [6]\n",
      " [7]\n",
      " [8]\n",
      " [9]]\n",
      "the vector a has 9 elements\n",
      "the vector is represented by a numpy array of shape (9, 1) \n",
      "\n",
      "now we have a matrix B = \n",
      " [[0. 0.]\n",
      " [0. 0.]]\n",
      "the matrix B has 2 rows and 2 columns \n",
      "\n",
      "the vector x =\n",
      " [[1.]\n",
      " [1.]\n",
      " [1.]\n",
      " [1.]\n",
      " [1.]]\n"
     ]
    }
   ],
   "source": [
    "# Important libraries to import:\n",
    "# NumPy: is the fundamental package for matrix computations\n",
    "# matplotlib.pyplot: provides convenient functions for plotting data \n",
    "\n",
    "import numpy as np # use shorthand \"np\" for the numpy library (\"package\")\n",
    "\n",
    "\n",
    "# let's create a vector a of length 9:\n",
    "a = np.array([1,2,3,4,5,6,7,8,9]).reshape(-1,1) # we define numpy array with integers 1 to 9 and reshape the array from (9,) to (9, 1)\n",
    "dimension=np.shape(a) # get the shape/dimensions of our array \"a\"\n",
    "rows = dimension[0] # get the number of rows of our array\n",
    "print(\"now we have a vector a =\\n\",a) # print text and variable \"a\"\n",
    "print(\"the vector a has\", rows, \"elements\") # print text and variable \"rows\"\n",
    "print(\"the vector is represented by a numpy array of shape\", a.shape, \"\\n\") # print text and shape of \"a\"\n",
    "\n",
    "\n",
    "B = np.zeros((2,2)) # create a 2 x 2 matrix, denoted B, which contains only zero entries\n",
    "print(\"now we have a matrix B = \\n\",B) # print text and variable \"B\"\n",
    "dimension=np.shape(B)      # determine dimensions of matrix B\n",
    "rows = dimension[0]        # first element of dimension is the number of rows \n",
    "cols = dimension[1]        # second element of \"dimension\" is the number of cols\n",
    "print(\"the matrix B has\", rows, \"rows and\", cols, \"columns \\n\") # print text and variables \"rows\" and \"cols\"\n",
    "\n",
    "# You can use the numpy function `np.ones(n)` to generate a vector of ones (e.g. `[1,1,1, ..., 1]`) \n",
    "\n",
    "x = np.ones(5).reshape(-1,1)  # initialize numpy array filled with 1's and reshape it from (5,) to (5,1)\n",
    "print(\"the vector x =\\n\", x)  # print text and variable \"x\""
   ]
  },
  {
   "cell_type": "markdown",
   "metadata": {
    "nbgrader": {
     "grade": false,
     "grade_id": "cell-e69489a39724fba4",
     "locked": true,
     "schema_version": 3,
     "solution": false,
     "task": false
    }
   },
   "source": [
    "<a id='MatrixMult'></a>\n",
    "<div class=\" alert alert-info\">\n",
    "    <b>Demo.</b> Matrix Multiplication. \n",
    "  \n",
    "The code snippet below implements a Python function `C, rows, cols = Matrix_multiplication(A, B)` which reads in two matrices $\\mathbf{A}$ and $\\mathbf{B}$ and returns the product $\\mathbf{C}=\\mathbf{A} \\mathbf{B}$ along with the number of rows and columns of the resulting matrix. This demonstrates how to declare a function with multiple input and output parameters.\n",
    "</div>"
   ]
  },
  {
   "cell_type": "code",
   "execution_count": 6,
   "metadata": {},
   "outputs": [],
   "source": [
    "def Matrix_multiplication(A, B): # Defining the function \"Matrix_multiplication\" with parameters A and B\n",
    "    \"\"\"\n",
    "    Compute the product A*B of two matrices and determine its shape (nr of rows and columns)\n",
    "    \n",
    "    :param A: array-like, shape=(m, n)\n",
    "    :param B: array-like, shape=(o, p)\n",
    "    \n",
    "    :return: The matrix being the result of the multiplication, the number of rows and the number columns \n",
    "    \"\"\"\n",
    "    #We now construct another matrix H by multiplying the matrices A and B using the function np.dot():\n",
    "    H = np.dot(A,B) # compute the product of matrices A and B\n",
    "    shape = H.shape # determine the shape of the product\n",
    "    \n",
    "    # A matrix that is the product of two matrices with r1 and r2 rows\n",
    "    # and c1 and c2 columns will have r1 rows and c2 columns \n",
    "    \n",
    "    rows = shape[0] # get number of rows from shape\n",
    "    cols = shape[1] # get number of columns from shape\n",
    "    \n",
    "    return H, rows, cols"
   ]
  },
  {
   "cell_type": "markdown",
   "metadata": {
    "nbgrader": {
     "grade": false,
     "grade_id": "cell-4968162774c3e6b6",
     "locked": true,
     "schema_version": 3,
     "solution": false
    }
   },
   "source": [
    "<a id='MatrixOps'></a>\n",
    "<div class=\" alert alert-info\">\n",
    "    <b>Demo.</b> Matrix Operations. \n",
    "  \n",
    "<p>\n",
    "The code snippet below shows how to use numpy arrays to represent matrices and vectors and how to perform \n",
    "certain operations. \n",
    "</p>\n",
    "\n",
    "</div>"
   ]
  },
  {
   "cell_type": "code",
   "execution_count": 7,
   "metadata": {},
   "outputs": [
    {
     "name": "stdout",
     "output_type": "stream",
     "text": [
      "C = \n",
      " [[1 4 0]\n",
      " [3 2 5]\n",
      " [6 2 1]]\n",
      "I = \n",
      " [[1. 0. 0.]\n",
      " [0. 1. 0.]\n",
      " [0. 0. 1.]]\n",
      "D = C * I = \n",
      " [[1. 4. 0.]\n",
      " [3. 2. 5.]\n",
      " [6. 2. 1.]]\n",
      "\n",
      "\n",
      "second column of D = [4. 2. 2.]\n",
      "second row of D = [3. 2. 5.]\n",
      "\n",
      "\n",
      "now we have a matrix F = \n",
      " [[1 2]\n",
      " [3 4]\n",
      " [5 6]]\n",
      "\n",
      " the matrix F has 3 rows and 2 columns\n",
      "\n",
      "\n",
      "\n",
      "now we have a matrix G = \n",
      " [[1 2 3]\n",
      " [3 4 5]]\n",
      "\n",
      " the matrix G has 2 rows and 3 columns\n",
      "\n",
      "the product H=F*G is H = \n",
      " [[ 7 10 13]\n",
      " [15 22 29]\n",
      " [23 34 45]]\n",
      "\n",
      " the matrix H has 3 rows and 3 columns\n",
      "\n",
      "L = \n",
      " [[[ 0  1]\n",
      "  [ 2  3]]\n",
      "\n",
      " [[ 4  5]\n",
      "  [ 6  7]]\n",
      "\n",
      " [[ 9 10]\n",
      "  [11 12]]]\n"
     ]
    }
   ],
   "source": [
    "C = np.array([[1,4,0],[3,2,5],[6,2,1]]) # create a 3x3 numpy array/matrix\n",
    "I = np.eye(3) # create a 3x3 identity matrix\n",
    "\n",
    "print(\"C = \\n\",C) # print text and variable \"C\"\n",
    "print(\"I = \\n\",I) # print text and variable \"I\"\n",
    "\n",
    "D, rows, cols = Matrix_multiplication(C,I) # call the function Matrix_multiplication\n",
    "\n",
    "print(\"D = C * I = \\n\",D) # print text and variable \"D\"\n",
    "print(\"\\n\") # create a line break \n",
    "\n",
    "\n",
    "# !!!! remember that indexing starts at 0 in Python !!!! \n",
    "\n",
    "secondcol = D[:,1]   # read second column of D into array `secondcol` \n",
    "secondrow = D[1,:]   # read second row of D into array `secondrow`\n",
    "\n",
    "# print the second column of matrix D\n",
    "print(\"second column of D =\", secondcol) \n",
    "# print the second row of matrix D\n",
    "print(\"second row of D =\", secondrow) \n",
    "# create a line break \n",
    "print(\"\\n\") \n",
    "\n",
    "# let us now determine the size of a matrix that \n",
    "# is obtained as the product of two other matrices F and G\n",
    "F = np.array([[1,2],[3,4],[5,6]]) # create a numpy array/matrix\n",
    "\n",
    "print(\"now we have a matrix F = \\n\", F) # print text and variable \"F\"\n",
    "print(\"\\n the matrix F has\", F.shape[0], \"rows and\", F.shape[1], \"columns\\n\") # print text and rows and columns of F\n",
    "print(\"\\n\") # create a line break \n",
    "\n",
    "G = np.array([[1, 2, 3], [3, 4, 5]]) # Create numpy array/matrix \"G\"\n",
    "\n",
    "print(\"now we have a matrix G = \\n\", G) # print text and variable G\n",
    "print(\"\\n the matrix G has\", G.shape[0], \"rows and\", G.shape[1], \"columns\\n\") # print text and rows and columns of G\n",
    "\n",
    "# what will be the size of F*G ?\n",
    "H, rows, cols = Matrix_multiplication(F,G) # call the function Matrix_multiplication\n",
    "\n",
    "print(\"the product H=F*G is H = \\n\", H) # print text and variable H\n",
    "print(\"\\n the matrix H has\", rows, \"rows and\", cols, \"columns\\n\") # print text and rows and columns of H\n",
    "\n",
    "# In the last step we want to take a look at how to build a 3-dimensional array\n",
    "# by using the np.array() method\n",
    "\n",
    "# you can also create a 3 dimensional array by using np.empty, np.zeros etc. \n",
    "# and specifying a third parameter e.g. np.zeros((2,3,4))\n",
    "\n",
    "L = np.array([[[0, 1],[2, 3]], [[4, 5],[6, 7]], [[9,10],[11,12]]]) # Create numpy array/matrix of size 2x2x3\n",
    "\n",
    "print(\"L = \\n\", L) #you can see it as 3 matrices of size 2x2 each"
   ]
  },
  {
   "cell_type": "markdown",
   "metadata": {
    "nbgrader": {
     "grade": false,
     "grade_id": "cell-f81c9233f9970fac",
     "locked": true,
     "schema_version": 3,
     "solution": false
    }
   },
   "source": [
    "## Dictionaries in Python\n",
    "\n",
    "The raw data used in ML methods are typically not directly available as numpy arrays (representing matrices). On the lowest level, digital data is nothing but a (huge) pile of bits. However, some applications involve data that can be conveniently represented using a **Python dictionary**. \n",
    "[Dictionaries](https://docs.python.org/3/tutorial/datastructures.html#dictionaries), also known as **associative arrays** are data structures that consist of a collection of key-value pairs. As we will see, Python dictionaries provide a convenient interface to data stored in files or online databases. "
   ]
  },
  {
   "cell_type": "markdown",
   "metadata": {
    "nbgrader": {
     "grade": false,
     "grade_id": "cell-45ae794525903d36",
     "locked": true,
     "schema_version": 3,
     "solution": false
    }
   },
   "source": [
    "<a id='LoadDataset'></a>\n",
    "<div class=\" alert alert-info\">\n",
    "    <b>Demo \"Dictionaries\".</b> The code snippet below demonstrates simple use cases of dictionaries in Python. These use cases will be useful when working with datasets loaded using the Python library [scikit-learn](http://scikit-learn.github.io/stable) and/or read in from a file to a [pandas dataframe](https://pandas.pydata.org/pandas-docs/stable/reference/api/pandas.DataFrame.html).\n",
    "    \n",
    "</div>"
   ]
  },
  {
   "cell_type": "code",
   "execution_count": 8,
   "metadata": {
    "nbgrader": {
     "grade": false,
     "grade_id": "cell-a0abcbf3bb98b5e2",
     "locked": true,
     "schema_version": 3,
     "solution": false
    }
   },
   "outputs": [
    {
     "name": "stdout",
     "output_type": "stream",
     "text": [
      "The type of the variable C is: <class 'dict'>\n",
      "{'Finland': 'Helsinki', 'Sweden': 'Stockholm', 'Norway': 'Oslo'}\n",
      "C['Finland']: Helsinki\n",
      "C['Denmark']: Copenhagen\n",
      "{'Finland': 'Helsinki', 'Sweden': 'Stockholm', 'Norway': 'Oslo', 'Denmark': 'Copenhagen'}\n",
      "The population of Finland is  5500000  persons\n",
      "The number 3 is prime\n"
     ]
    }
   ],
   "source": [
    "# Lets define a simple dictionary consisting of three key-value pairs.\n",
    "# The keys are names of countries from Norhern Europe and the values \n",
    "# indicate the capital city for each country. \n",
    "\n",
    "C = {'Finland':'Helsinki',\n",
    "    'Sweden':'Stockholm',\n",
    "    'Norway':'Oslo'} # initialize dictionary C\n",
    "\n",
    "print('The type of the variable C is:', type(C))  # print the type of the variable \"C\"\n",
    "print(C) # print out the dictionary contents\n",
    "\n",
    "# Accessing Dictionary Values\n",
    "print(\"C['Finland']:\", C['Finland']) # prints out \"Helsinki\"\n",
    "\n",
    "# If you refer to a key that is not in the dictionary, i.e. print(C['Denmark']), Python raises an exception.\n",
    "\n",
    "# Adding an entry to an existing dictionary is simply a matter of assigning a new key and value:\n",
    "C['Denmark'] = 'Copenhagen'   # adds a dictionary entry with key \"Denmark\" and value \"Copenhagen\"\n",
    "\n",
    "print(\"C['Denmark']:\", C['Denmark']) # Print out dictionary value with key \"Denmark\"\n",
    "print(C) # print dictionary \"C\"\n",
    "# Remember, you can’t treat a dictionary like a list or numpy array, e.g. indices don't work.\n",
    "\n",
    "# Dictionaries can contain numerical and string values as keys and values:\n",
    "\n",
    "Population = {'Finland':5500000,\n",
    "                'Sweden':10000000,\n",
    "                'Norway':5250000} # Create a dictionary variable \"Population\"\n",
    "print(\"The population of Finland is \", Population['Finland'], \" persons\") # print the value of dictionary with key \"Finland\"\n",
    "\n",
    "Numbers = {3:'prime',\n",
    "            6:'not prime',\n",
    "            7:'prime'} # Create a dictionary \"Numbers\"\n",
    "print(\"The number 3 is\", Numbers[3]) # print a value of dictionary Numbers with key \"3\""
   ]
  },
  {
   "cell_type": "markdown",
   "metadata": {
    "nbgrader": {
     "grade": false,
     "grade_id": "cell-33f868f0b8195b85",
     "locked": true,
     "schema_version": 3,
     "solution": false
    }
   },
   "source": [
    "<a id='LoadDataset'></a>\n",
    "<div class=\" alert alert-info\">\n",
    "    <b>Demo \"Dictionary of Wine Data\".</b> The code snippet below demonstrates how to read in a toy dataset using a Python library `sklearn` and store it in a dictionary `wine`. This dataset contains information about several wine samples. Each wine sample is characterized by a set of features (which can be read out using `wine['data']`) and a wine category (which can be read out using `wine['target']`). \n",
    "\n",
    "</div>"
   ]
  },
  {
   "cell_type": "code",
   "execution_count": 9,
   "metadata": {
    "nbgrader": {
     "grade": false,
     "grade_id": "cell-636e7bd28fd881b3",
     "locked": true,
     "schema_version": 3,
     "solution": false
    }
   },
   "outputs": [
    {
     "name": "stdout",
     "output_type": "stream",
     "text": [
      "data:\t\t (178, 13) \n",
      "labels shape:\t (178,)\n",
      "------------------------------------------------\n",
      "['alcohol', 'malic_acid', 'ash', 'alcalinity_of_ash', 'magnesium', 'total_phenols', 'flavanoids', 'nonflavanoid_phenols', 'proanthocyanins', 'color_intensity', 'hue', 'od280/od315_of_diluted_wines', 'proline']\n"
     ]
    }
   ],
   "source": [
    "# Dictionaries can contain vectors/matrices as values\n",
    "\n",
    "# Loading wine dataset\n",
    "from sklearn import datasets # import datasets from sklearn\n",
    "wine = datasets.load_wine() # loading the wine dataset from sklearn datasets\n",
    "\n",
    "# keys are strings and values are vectors/matrices\n",
    "X = wine['data']   # read in the value for the key \"data\"\n",
    "y = wine['target'] # read in the value for the key \"target\"\n",
    "\n",
    "# print out the shape of the vectors/matrices\n",
    "print('data:\\t\\t', X.shape, '\\nlabels shape:\\t', y.shape) # print number of elements along each dimension of \"X\" and \"Y\" \n",
    "print('------------------------------------------------') # print some dashes\n",
    "print(wine['feature_names']) # print the feature names in the dataset, key is a string, value is an array of string"
   ]
  },
  {
   "cell_type": "markdown",
   "metadata": {
    "nbgrader": {
     "grade": false,
     "grade_id": "cell-88ce920477c635cd",
     "locked": true,
     "schema_version": 3,
     "solution": false
    }
   },
   "source": [
    "## Measuring Execution Time\n",
    "\n",
    "Sometimes it is useful to know how much time your code takes to execute. This is especially useful when you have very large datasets (\"Big Data\") and you want to evaluate if you can afford running your ML method. Indeed, nowadays you can rent computational infrastructure at an hourly rate [click here](https://aws.amazon.com/pricing/)). Thus, the faster your ML method runs the less you have to pay! "
   ]
  },
  {
   "cell_type": "markdown",
   "metadata": {
    "nbgrader": {
     "grade": false,
     "grade_id": "cell-0dd10dd02b85bcbd",
     "locked": true,
     "schema_version": 3,
     "solution": false
    }
   },
   "source": [
    "<a id='MeasureTime'></a>\n",
    "<div class=\" alert alert-info\">\n",
    "    <b>Demo \"Computational Complexity\".</b> Many ML methods have to cope with limited computational resources such as a limited time budget for carrying out computations. It is therefore important to have a good understanding of the computational complexity of ML methods. One of the most straightforward approaches to measuring the computational complexity of ML methods is to measure their execution time. Below we will go through a simple example on how to measure the execution time of a code block. \n",
    "\n",
    "</div>"
   ]
  },
  {
   "cell_type": "code",
   "execution_count": 10,
   "metadata": {
    "nbgrader": {
     "grade": false,
     "grade_id": "cell-022448ac92fb0c2d",
     "locked": true,
     "schema_version": 3,
     "solution": false
    }
   },
   "outputs": [
    {
     "name": "stdout",
     "output_type": "stream",
     "text": [
      "x: 10000000\n",
      "--- 1057.6410293579102 milliseconds ---\n"
     ]
    }
   ],
   "source": [
    "import time # import standard library time\n",
    "\n",
    "\n",
    "# lets measure the time it takes us to loop through 10 000 000 values and print a value\n",
    "start_time = time.time() # save starting time to variable \"start_time\". Time is saved in seconds.\n",
    "\n",
    "x = 0 # initialize x as 0\n",
    "for i in range(10000000): # loop 10000000 times\n",
    "    x += 1                # Increment x by one each time loop is run \n",
    "print('x:', x)            # print x after looping through 10000000 times\n",
    "\n",
    "end_time = (time.time() - start_time)*1000 # Print the difference in time, multiply by 1000 to get time in milliseconds.\n",
    "\n",
    "print(\"--- %s milliseconds ---\" % (end_time)) # print the variable \"end_time\""
   ]
  },
  {
   "cell_type": "markdown",
   "metadata": {
    "nbgrader": {
     "grade": false,
     "grade_id": "cell-569ba7efbf116b67",
     "locked": true,
     "schema_version": 3,
     "solution": false
    }
   },
   "source": [
    "<a id=\"Q3\"></a>\n",
    "\n",
    "## Let's Grab Data!\n",
    "\n",
    "One of the key components of any machine learning problem (and method) is data. There are many different sources of data such as files stored on a hard-disk or internet databases such as [Wikidata](https://www.wikidata.org/wiki/Wikidata:Main_Page). Another source of data is provided in ready-made Python functions which load specific toy datasets https://scikit-learn.org/stable/datasets/index.html. \n"
   ]
  },
  {
   "cell_type": "markdown",
   "metadata": {
    "nbgrader": {
     "grade": false,
     "grade_id": "cell-590ece9cacb4e693",
     "locked": true,
     "schema_version": 3,
     "solution": false
    }
   },
   "source": [
    "<a id='LoadDataset'></a>\n",
    "<div class=\" alert alert-warning\">\n",
    "    <b>Student Task.</b> Load Data from File. \n",
    "\n",
    "Implement a Python function `X, m, n = LoadData(filename)` which reads in the filename of a CSV file as input parameter. The function should return three output parameters: \n",
    "* a numpy array `X` representing the matrix $\\mathbf{X} =\\big(\\mathbf{x}^{(1)},\\ldots,\\mathbf{x}^{(m)}\\big)^{T}$ whose rows are the feature vectors $\\mathbf{x}^{(i)} \\in \\mathbb{R}^{n}$ which are stored in the rows of the CSV file, \n",
    "* the sample size $m$ which is the total number of rows in the csv file\n",
    "* and the number $n$ of features used to characterize each data point. \n",
    "\n",
    "</div>"
   ]
  },
  {
   "cell_type": "code",
   "execution_count": 11,
   "metadata": {
    "nbgrader": {
     "grade": false,
     "grade_id": "cell-40993ff9d63197d9",
     "locked": false,
     "schema_version": 3,
     "solution": true
    }
   },
   "outputs": [],
   "source": [
    "import pandas as pd             # use shorthand \"pd\" for lib \"pandas\" which provides methods for \n",
    "                                # loading and saving data from and to files \n",
    "\n",
    "def LoadData(filename): # define function \"LoadData\" with one parameter \"filename\"\n",
    "    \"\"\"\n",
    "    Load the dataframe reading the file with the filename given as a parameter.\n",
    "    Print the sample size m and the feature length n.\n",
    "\n",
    "    :input: String path to the file\n",
    "\n",
    "    :return: numpy array of shape=(m, n), the sample size m and the feature length n    \n",
    "    \"\"\"\n",
    "\n",
    "    df = pd.read_csv(filename) # read in values from a csv file given in variable \"filename\"\n",
    "    X = df.values # convert the data frame to numpy array\n",
    "\n",
    "    #n = ...\n",
    "    #m = ...\n",
    "    #print('sample size m=',...)\n",
    "    #print('feature length n=',...)\n",
    "    # remove the line raise NotImplementedError() before testing your solution and submitting code\n",
    "    ### BEGIN SOLUTION\n",
    "    m = X.shape[0]\n",
    "    n = X.shape[1]\n",
    "    print('sample size m =', m)\n",
    "    print('feature length n =', n)\n",
    "    ### END SOLUTION\n",
    "\n",
    "    return X, m, n # return variables X, m and n"
   ]
  },
  {
   "cell_type": "markdown",
   "metadata": {
    "nbgrader": {
     "grade": false,
     "grade_id": "cell-65c2ae86aa433a38",
     "locked": true,
     "schema_version": 3,
     "solution": false
    }
   },
   "source": [
    "The code snippet below executes the function `LoadData` and performs some tests. "
   ]
  },
  {
   "cell_type": "code",
   "execution_count": 12,
   "metadata": {
    "nbgrader": {
     "grade": true,
     "grade_id": "cell-067eea5beb6c85a1",
     "locked": true,
     "points": 1,
     "schema_version": 3,
     "solution": false
    }
   },
   "outputs": [
    {
     "ename": "FileNotFoundError",
     "evalue": "[Errno 2] File b'/coursedata/R1_ComponentsML/Data.csv' does not exist: b'/coursedata/R1_ComponentsML/Data.csv'",
     "output_type": "error",
     "traceback": [
      "\u001b[1;31m---------------------------------------------------------------------------\u001b[0m",
      "\u001b[1;31mFileNotFoundError\u001b[0m                         Traceback (most recent call last)",
      "\u001b[1;32m<ipython-input-12-bb8129f7a902>\u001b[0m in \u001b[0;36m<module>\u001b[1;34m\u001b[0m\n\u001b[1;32m----> 1\u001b[1;33m \u001b[0mX\u001b[0m\u001b[1;33m,\u001b[0m \u001b[0mm\u001b[0m\u001b[1;33m,\u001b[0m \u001b[0mn\u001b[0m \u001b[1;33m=\u001b[0m \u001b[0mLoadData\u001b[0m\u001b[1;33m(\u001b[0m\u001b[1;34m\"/coursedata/R1_ComponentsML/Data.csv\"\u001b[0m\u001b[1;33m)\u001b[0m \u001b[1;31m# call the LoadData function with parameter \"Data.csv\"\u001b[0m\u001b[1;33m\u001b[0m\u001b[1;33m\u001b[0m\u001b[0m\n\u001b[0m\u001b[0;32m      2\u001b[0m \u001b[1;32massert\u001b[0m \u001b[0mX\u001b[0m\u001b[1;33m.\u001b[0m\u001b[0mshape\u001b[0m \u001b[1;33m==\u001b[0m \u001b[1;33m(\u001b[0m\u001b[1;36m600\u001b[0m\u001b[1;33m,\u001b[0m\u001b[1;36m2\u001b[0m\u001b[1;33m)\u001b[0m\u001b[1;33m,\u001b[0m \u001b[1;34mf'Expected dataframe to be of different size than {df.shape}'\u001b[0m \u001b[1;31m# Test output shape\u001b[0m\u001b[1;33m\u001b[0m\u001b[1;33m\u001b[0m\u001b[0m\n\u001b[0;32m      3\u001b[0m \u001b[0mprint\u001b[0m\u001b[1;33m(\u001b[0m\u001b[0mX\u001b[0m\u001b[1;33m[\u001b[0m\u001b[1;36m0\u001b[0m\u001b[1;33m]\u001b[0m\u001b[1;33m[\u001b[0m\u001b[1;36m0\u001b[0m\u001b[1;33m]\u001b[0m\u001b[1;33m)\u001b[0m\u001b[1;33m\u001b[0m\u001b[1;33m\u001b[0m\u001b[0m\n\u001b[0;32m      4\u001b[0m \u001b[0mnp\u001b[0m\u001b[1;33m.\u001b[0m\u001b[0mtesting\u001b[0m\u001b[1;33m.\u001b[0m\u001b[0massert_allclose\u001b[0m\u001b[1;33m(\u001b[0m\u001b[0mX\u001b[0m\u001b[1;33m[\u001b[0m\u001b[1;36m0\u001b[0m\u001b[1;33m]\u001b[0m\u001b[1;33m[\u001b[0m\u001b[1;36m0\u001b[0m\u001b[1;33m]\u001b[0m\u001b[1;33m,\u001b[0m \u001b[1;36m0.47\u001b[0m\u001b[1;33m,\u001b[0m \u001b[0matol\u001b[0m\u001b[1;33m=\u001b[0m\u001b[1;36m0.01\u001b[0m\u001b[1;33m)\u001b[0m\u001b[1;33m\u001b[0m\u001b[1;33m\u001b[0m\u001b[0m\n\u001b[0;32m      5\u001b[0m \u001b[1;33m\u001b[0m\u001b[0m\n",
      "\u001b[1;32m<ipython-input-11-897c107da7c2>\u001b[0m in \u001b[0;36mLoadData\u001b[1;34m(filename)\u001b[0m\n\u001b[0;32m     12\u001b[0m     \"\"\"\n\u001b[0;32m     13\u001b[0m \u001b[1;33m\u001b[0m\u001b[0m\n\u001b[1;32m---> 14\u001b[1;33m     \u001b[0mdf\u001b[0m \u001b[1;33m=\u001b[0m \u001b[0mpd\u001b[0m\u001b[1;33m.\u001b[0m\u001b[0mread_csv\u001b[0m\u001b[1;33m(\u001b[0m\u001b[0mfilename\u001b[0m\u001b[1;33m)\u001b[0m \u001b[1;31m# read in values from a csv file given in variable \"filename\"\u001b[0m\u001b[1;33m\u001b[0m\u001b[1;33m\u001b[0m\u001b[0m\n\u001b[0m\u001b[0;32m     15\u001b[0m     \u001b[0mX\u001b[0m \u001b[1;33m=\u001b[0m \u001b[0mdf\u001b[0m\u001b[1;33m.\u001b[0m\u001b[0mvalues\u001b[0m \u001b[1;31m# convert the data frame to numpy array\u001b[0m\u001b[1;33m\u001b[0m\u001b[1;33m\u001b[0m\u001b[0m\n\u001b[0;32m     16\u001b[0m \u001b[1;33m\u001b[0m\u001b[0m\n",
      "\u001b[1;32md:\\Users\\Alexander\\Anaconda3\\lib\\site-packages\\pandas\\io\\parsers.py\u001b[0m in \u001b[0;36mparser_f\u001b[1;34m(filepath_or_buffer, sep, delimiter, header, names, index_col, usecols, squeeze, prefix, mangle_dupe_cols, dtype, engine, converters, true_values, false_values, skipinitialspace, skiprows, skipfooter, nrows, na_values, keep_default_na, na_filter, verbose, skip_blank_lines, parse_dates, infer_datetime_format, keep_date_col, date_parser, dayfirst, iterator, chunksize, compression, thousands, decimal, lineterminator, quotechar, quoting, doublequote, escapechar, comment, encoding, dialect, tupleize_cols, error_bad_lines, warn_bad_lines, delim_whitespace, low_memory, memory_map, float_precision)\u001b[0m\n\u001b[0;32m    700\u001b[0m                     skip_blank_lines=skip_blank_lines)\n\u001b[0;32m    701\u001b[0m \u001b[1;33m\u001b[0m\u001b[0m\n\u001b[1;32m--> 702\u001b[1;33m         \u001b[1;32mreturn\u001b[0m \u001b[0m_read\u001b[0m\u001b[1;33m(\u001b[0m\u001b[0mfilepath_or_buffer\u001b[0m\u001b[1;33m,\u001b[0m \u001b[0mkwds\u001b[0m\u001b[1;33m)\u001b[0m\u001b[1;33m\u001b[0m\u001b[1;33m\u001b[0m\u001b[0m\n\u001b[0m\u001b[0;32m    703\u001b[0m \u001b[1;33m\u001b[0m\u001b[0m\n\u001b[0;32m    704\u001b[0m     \u001b[0mparser_f\u001b[0m\u001b[1;33m.\u001b[0m\u001b[0m__name__\u001b[0m \u001b[1;33m=\u001b[0m \u001b[0mname\u001b[0m\u001b[1;33m\u001b[0m\u001b[1;33m\u001b[0m\u001b[0m\n",
      "\u001b[1;32md:\\Users\\Alexander\\Anaconda3\\lib\\site-packages\\pandas\\io\\parsers.py\u001b[0m in \u001b[0;36m_read\u001b[1;34m(filepath_or_buffer, kwds)\u001b[0m\n\u001b[0;32m    427\u001b[0m \u001b[1;33m\u001b[0m\u001b[0m\n\u001b[0;32m    428\u001b[0m     \u001b[1;31m# Create the parser.\u001b[0m\u001b[1;33m\u001b[0m\u001b[1;33m\u001b[0m\u001b[1;33m\u001b[0m\u001b[0m\n\u001b[1;32m--> 429\u001b[1;33m     \u001b[0mparser\u001b[0m \u001b[1;33m=\u001b[0m \u001b[0mTextFileReader\u001b[0m\u001b[1;33m(\u001b[0m\u001b[0mfilepath_or_buffer\u001b[0m\u001b[1;33m,\u001b[0m \u001b[1;33m**\u001b[0m\u001b[0mkwds\u001b[0m\u001b[1;33m)\u001b[0m\u001b[1;33m\u001b[0m\u001b[1;33m\u001b[0m\u001b[0m\n\u001b[0m\u001b[0;32m    430\u001b[0m \u001b[1;33m\u001b[0m\u001b[0m\n\u001b[0;32m    431\u001b[0m     \u001b[1;32mif\u001b[0m \u001b[0mchunksize\u001b[0m \u001b[1;32mor\u001b[0m \u001b[0miterator\u001b[0m\u001b[1;33m:\u001b[0m\u001b[1;33m\u001b[0m\u001b[1;33m\u001b[0m\u001b[0m\n",
      "\u001b[1;32md:\\Users\\Alexander\\Anaconda3\\lib\\site-packages\\pandas\\io\\parsers.py\u001b[0m in \u001b[0;36m__init__\u001b[1;34m(self, f, engine, **kwds)\u001b[0m\n\u001b[0;32m    893\u001b[0m             \u001b[0mself\u001b[0m\u001b[1;33m.\u001b[0m\u001b[0moptions\u001b[0m\u001b[1;33m[\u001b[0m\u001b[1;34m'has_index_names'\u001b[0m\u001b[1;33m]\u001b[0m \u001b[1;33m=\u001b[0m \u001b[0mkwds\u001b[0m\u001b[1;33m[\u001b[0m\u001b[1;34m'has_index_names'\u001b[0m\u001b[1;33m]\u001b[0m\u001b[1;33m\u001b[0m\u001b[1;33m\u001b[0m\u001b[0m\n\u001b[0;32m    894\u001b[0m \u001b[1;33m\u001b[0m\u001b[0m\n\u001b[1;32m--> 895\u001b[1;33m         \u001b[0mself\u001b[0m\u001b[1;33m.\u001b[0m\u001b[0m_make_engine\u001b[0m\u001b[1;33m(\u001b[0m\u001b[0mself\u001b[0m\u001b[1;33m.\u001b[0m\u001b[0mengine\u001b[0m\u001b[1;33m)\u001b[0m\u001b[1;33m\u001b[0m\u001b[1;33m\u001b[0m\u001b[0m\n\u001b[0m\u001b[0;32m    896\u001b[0m \u001b[1;33m\u001b[0m\u001b[0m\n\u001b[0;32m    897\u001b[0m     \u001b[1;32mdef\u001b[0m \u001b[0mclose\u001b[0m\u001b[1;33m(\u001b[0m\u001b[0mself\u001b[0m\u001b[1;33m)\u001b[0m\u001b[1;33m:\u001b[0m\u001b[1;33m\u001b[0m\u001b[1;33m\u001b[0m\u001b[0m\n",
      "\u001b[1;32md:\\Users\\Alexander\\Anaconda3\\lib\\site-packages\\pandas\\io\\parsers.py\u001b[0m in \u001b[0;36m_make_engine\u001b[1;34m(self, engine)\u001b[0m\n\u001b[0;32m   1120\u001b[0m     \u001b[1;32mdef\u001b[0m \u001b[0m_make_engine\u001b[0m\u001b[1;33m(\u001b[0m\u001b[0mself\u001b[0m\u001b[1;33m,\u001b[0m \u001b[0mengine\u001b[0m\u001b[1;33m=\u001b[0m\u001b[1;34m'c'\u001b[0m\u001b[1;33m)\u001b[0m\u001b[1;33m:\u001b[0m\u001b[1;33m\u001b[0m\u001b[1;33m\u001b[0m\u001b[0m\n\u001b[0;32m   1121\u001b[0m         \u001b[1;32mif\u001b[0m \u001b[0mengine\u001b[0m \u001b[1;33m==\u001b[0m \u001b[1;34m'c'\u001b[0m\u001b[1;33m:\u001b[0m\u001b[1;33m\u001b[0m\u001b[1;33m\u001b[0m\u001b[0m\n\u001b[1;32m-> 1122\u001b[1;33m             \u001b[0mself\u001b[0m\u001b[1;33m.\u001b[0m\u001b[0m_engine\u001b[0m \u001b[1;33m=\u001b[0m \u001b[0mCParserWrapper\u001b[0m\u001b[1;33m(\u001b[0m\u001b[0mself\u001b[0m\u001b[1;33m.\u001b[0m\u001b[0mf\u001b[0m\u001b[1;33m,\u001b[0m \u001b[1;33m**\u001b[0m\u001b[0mself\u001b[0m\u001b[1;33m.\u001b[0m\u001b[0moptions\u001b[0m\u001b[1;33m)\u001b[0m\u001b[1;33m\u001b[0m\u001b[1;33m\u001b[0m\u001b[0m\n\u001b[0m\u001b[0;32m   1123\u001b[0m         \u001b[1;32melse\u001b[0m\u001b[1;33m:\u001b[0m\u001b[1;33m\u001b[0m\u001b[1;33m\u001b[0m\u001b[0m\n\u001b[0;32m   1124\u001b[0m             \u001b[1;32mif\u001b[0m \u001b[0mengine\u001b[0m \u001b[1;33m==\u001b[0m \u001b[1;34m'python'\u001b[0m\u001b[1;33m:\u001b[0m\u001b[1;33m\u001b[0m\u001b[1;33m\u001b[0m\u001b[0m\n",
      "\u001b[1;32md:\\Users\\Alexander\\Anaconda3\\lib\\site-packages\\pandas\\io\\parsers.py\u001b[0m in \u001b[0;36m__init__\u001b[1;34m(self, src, **kwds)\u001b[0m\n\u001b[0;32m   1851\u001b[0m         \u001b[0mkwds\u001b[0m\u001b[1;33m[\u001b[0m\u001b[1;34m'usecols'\u001b[0m\u001b[1;33m]\u001b[0m \u001b[1;33m=\u001b[0m \u001b[0mself\u001b[0m\u001b[1;33m.\u001b[0m\u001b[0musecols\u001b[0m\u001b[1;33m\u001b[0m\u001b[1;33m\u001b[0m\u001b[0m\n\u001b[0;32m   1852\u001b[0m \u001b[1;33m\u001b[0m\u001b[0m\n\u001b[1;32m-> 1853\u001b[1;33m         \u001b[0mself\u001b[0m\u001b[1;33m.\u001b[0m\u001b[0m_reader\u001b[0m \u001b[1;33m=\u001b[0m \u001b[0mparsers\u001b[0m\u001b[1;33m.\u001b[0m\u001b[0mTextReader\u001b[0m\u001b[1;33m(\u001b[0m\u001b[0msrc\u001b[0m\u001b[1;33m,\u001b[0m \u001b[1;33m**\u001b[0m\u001b[0mkwds\u001b[0m\u001b[1;33m)\u001b[0m\u001b[1;33m\u001b[0m\u001b[1;33m\u001b[0m\u001b[0m\n\u001b[0m\u001b[0;32m   1854\u001b[0m         \u001b[0mself\u001b[0m\u001b[1;33m.\u001b[0m\u001b[0munnamed_cols\u001b[0m \u001b[1;33m=\u001b[0m \u001b[0mself\u001b[0m\u001b[1;33m.\u001b[0m\u001b[0m_reader\u001b[0m\u001b[1;33m.\u001b[0m\u001b[0munnamed_cols\u001b[0m\u001b[1;33m\u001b[0m\u001b[1;33m\u001b[0m\u001b[0m\n\u001b[0;32m   1855\u001b[0m \u001b[1;33m\u001b[0m\u001b[0m\n",
      "\u001b[1;32mpandas/_libs/parsers.pyx\u001b[0m in \u001b[0;36mpandas._libs.parsers.TextReader.__cinit__\u001b[1;34m()\u001b[0m\n",
      "\u001b[1;32mpandas/_libs/parsers.pyx\u001b[0m in \u001b[0;36mpandas._libs.parsers.TextReader._setup_parser_source\u001b[1;34m()\u001b[0m\n",
      "\u001b[1;31mFileNotFoundError\u001b[0m: [Errno 2] File b'/coursedata/R1_ComponentsML/Data.csv' does not exist: b'/coursedata/R1_ComponentsML/Data.csv'"
     ]
    }
   ],
   "source": [
    "X, m, n = LoadData(\"/coursedata/R1_ComponentsML/Data.csv\") # call the LoadData function with parameter \"Data.csv\"\n",
    "assert X.shape == (600,2), f'Expected dataframe to be of different size than {df.shape}' # Test output shape\n",
    "print(X[0][0])\n",
    "np.testing.assert_allclose(X[0][0], 0.47, atol=0.01)\n",
    "\n",
    "\n",
    "### BEGIN HIDDEN TESTS\n",
    "df_test_12313414cadscf = pd.read_csv(\"/coursedata/R1_ComponentsML/Data.csv\").values\n",
    "np.testing.assert_array_equal(X,df_test_12313414cadscf,'data matrix has wrong values')\n",
    "assert m == 600, f'Expected m to be different than {m}'\n",
    "assert n == 2, f'Expected n to be different than {n}' \n",
    "### END HIDDEN TESTS\n",
    "\n",
    "print(\"Sanity checks passed! Some hidden tests may still fail.\")\n"
   ]
  },
  {
   "cell_type": "markdown",
   "metadata": {
    "nbgrader": {
     "grade": false,
     "grade_id": "cell-96f591df3cdf9a91",
     "locked": true,
     "schema_version": 3,
     "solution": false
    }
   },
   "source": [
    "<a id='LoadDataset'></a>\n",
    "<div class=\" alert alert-warning\">\n",
    "    <b>Student Task.</b> Loading the Linnerud Dataset. \n",
    " \n",
    "\n",
    "- Load the [Linnerud](https://scikit-learn.org/stable/modules/generated/sklearn.datasets.load_linnerud.html#sklearn.datasets.load_linnerud) dataset using the command `linnerud = datasets.load_linnerud()`.\n",
    "- This dataset consists of $m=20$ datapoints, each datapoint representing an athlete doing some exercise. \n",
    "- Each data point is characterized by three features: weight $x_{1}$, waist $x_{2}$ and pulse $x_{3}$ of the athlete. \n",
    "- Each data point is characterized by three labels: chins $y_{1}$, situps $y_{2}$ and jumps $y_{3}$.\n",
    "- store features in a numpy array `X` of shape (20,3) by using the command `X = linnerud['data']`\n",
    "- store labels in a numpy array `Y` of shape (20,3) using the command `Y = linnerud['target']`\n",
    "   </div>"
   ]
  },
  {
   "cell_type": "code",
   "execution_count": null,
   "metadata": {
    "nbgrader": {
     "grade": false,
     "grade_id": "cell-7fa5ef52625cf5cb",
     "locked": false,
     "schema_version": 3,
     "solution": true
    }
   },
   "outputs": [],
   "source": [
    "# Load the dataset and store data and labels in variables\n",
    "from sklearn import datasets # import datasets fomr sklearn\n",
    "\n",
    "# linnerud = ...\n",
    "# remove the line raise NotImplementedError() before testing your solution and submitting code\n",
    "### BEGIN SOLUTION\n",
    "linnerud = datasets.load_linnerud()\n",
    "### END SOLUTION\n",
    "\n",
    "# X = ...\n",
    "# remove the line raise NotImplementedError() before testing your solution and submitting code\n",
    "### BEGIN SOLUTION\n",
    "X = linnerud['data']\n",
    "### END SOLUTION\n",
    "\n",
    "print('Shape of X matrix:', X.shape) # print text and shape of variable X\n",
    "print(\"Exercise - 20 observations on 3 exercise variables: Chins, Situps and Jumps.\") # print text\n",
    "print('\\n') # print new line\n",
    "\n",
    "# Target also contains three variables, Weight, Waist and Pulse. Here we will use only the weight variable.\n",
    "# Y = ...\n",
    "# remove the line raise NotImplementedError() before testing your solution and submitting code\n",
    "### BEGIN SOLUTION\n",
    "Y = linnerud['target']\n",
    "### END SOLUTION\n",
    "print('shape of matrix Y:', Y.shape) # print text and shape of variable Y\n",
    "print(\"20 data points, each containing values of 3 physiological variables: Weight, Waist and Pulse.\") # print text"
   ]
  },
  {
   "cell_type": "code",
   "execution_count": null,
   "metadata": {
    "nbgrader": {
     "grade": true,
     "grade_id": "cell-311182ce6b0ea653",
     "locked": true,
     "points": 1,
     "schema_version": 3,
     "solution": false
    }
   },
   "outputs": [],
   "source": [
    "# Testing below that the loaded data in variable \"X\" and \"Y\" is of correct shape.\n",
    "assert Y.shape == (20, 3), f'Expected matrix to be of different size than {X.shape}'\n",
    "assert X.shape == (20, 3), f'Expected matrix to be of different size than {Y.shape}'\n",
    "assert X[0][0] == 5.0, 'Expected value of X[0][0] to be equal to 5'\n",
    "assert X[3][2] == 37.0, 'Expected value of X[0][0] to be equal to 37'\n",
    "assert Y[0][0] == 191, 'Expected value of X[0][0] to be equal to 191'\n",
    "assert Y[3][2] == 62.0, 'Expected value of X[0][0] to be equal to 62'\n",
    "\n",
    "print(\"Sanity checks passed!\")"
   ]
  },
  {
   "cell_type": "markdown",
   "metadata": {
    "nbgrader": {
     "grade": false,
     "grade_id": "cell-a02f3b057eb83361",
     "locked": true,
     "schema_version": 3,
     "solution": false,
     "task": false
    }
   },
   "source": [
    "<a id='LoadHKIMap'></a>\n",
    "<div class=\" alert alert-info\">\n",
    "    <b>Demo.</b> Load Data from Helsinki city map service https://kartta.hel.fi/. \n",
    " \n",
    "The code snippet below demonstrates how to read in information from public geoinformation systems (GIS) using \n",
    "the Python package OWSLib (see https://geopython.github.io/OWSLib). After downloading a patch of the map covering Helsinki city area, we save this patch in the file \"HelsinkiPatch.jpg\" in the course data folder. \n",
    "</div>"
   ]
  },
  {
   "cell_type": "code",
   "execution_count": null,
   "metadata": {
    "nbgrader": {
     "grade": false,
     "grade_id": "cell-477b543dd7031034",
     "locked": true,
     "schema_version": 3,
     "solution": false,
     "task": false
    }
   },
   "outputs": [],
   "source": [
    "# the library owslib provides functions for accessing geospatial (location) information and services (like kartta.hel.fi)\n",
    "from owslib.wms import WebMapService # import WebMapService from library owalib.wms\n",
    "# the library io provides functions for handling data in the form of bitstreams (\"raw\" data)\n",
    "import io                            # import library io\n",
    "# the library numpy provides functions for matrices and vectors \n",
    "import numpy as np                   # import library numpy as np\n",
    "# the library matplotlib.pyplot provides functions for plotting data \n",
    "import matplotlib.pyplot as plt      # import library matplotlib.pyplot as plt\n",
    "# The Python Imaging Library (PIL) provides helpful functions for image processing \n",
    "from PIL import Image\n",
    "\n",
    "wms = WebMapService('https://kartta.hel.fi/ws/geoserver/avoindata/wms', version='1.1.1') # get the helsinki map\n",
    "\n",
    "cs = 'EPSG:4326'  # select the coordinate system to be used \n",
    "\n",
    "# specify region of Helsinki city area\n",
    "\n",
    "xmin = 24.92      # x-coordinate of bottom-left corner \n",
    "ymin = 60.15      # y-coordinate of bottom-left corner \n",
    "xmax = 24.99      # x-coordinate of upper-right corner\n",
    "ymax = 60.20      # y-coordinate of upper-right corner\n",
    "\n",
    "# divide Helsinki area into 50 by 50 patches\n",
    "nr_patches_x = 50 \n",
    "nr_patches_y = 50 \n",
    "\n",
    "# determine dimensions of one single patch\n",
    "patch_x = (xmax-xmin)/nr_patches_x  \n",
    "patch_y = (ymax-ymin)/nr_patches_y\n",
    "\n",
    "# choose one particular patch and determine the corresponding bounding box \n",
    "nr_x = 11\n",
    "nr_y = 10\n",
    "patch_box = (xmin+nr_x*patch_x,ymin+nr_y*patch_y,xmin+(nr_x+1)*patch_x,ymin+(nr_y+1)*patch_y) \n",
    "\n",
    "# choose a layer from the map service (for a list of available layers visit https://kartta.hel.fi)\n",
    "ortholayer = 'avoindata:Ortoilmakuva_2019_5cm' \n",
    "# set the resolution in number of pixels used in each direction \n",
    "res = (1000,1000) \n",
    "img = wms.getmap(layers=[ortholayer],srs=cs,bbox=patch_box,size=res,format='image/jpeg',transparent=True) # get the image based on patch parameters (see above linked documentation for more details)\n",
    "\n",
    "# convert the raw image data into an image object \n",
    "pic = Image.open(io.BytesIO(img.read())) \n",
    "# convert iamge object into a numpy array \n",
    "X = np.array(pic, dtype='uint8') \n",
    "# initialize a plot figure of size 10 x 10 inches\n",
    "fig = plt.figure(figsize=(10,10))  \n",
    "# add the image to the plot\n",
    "plt.imshow(X) \n",
    "# display the plot\n",
    "plt.show()"
   ]
  },
  {
   "cell_type": "markdown",
   "metadata": {
    "nbgrader": {
     "grade": false,
     "grade_id": "cell-d4d688801a9710aa",
     "locked": true,
     "schema_version": 3,
     "solution": false,
     "task": false
    }
   },
   "source": [
    "<a id='LoadHKIMapFromFile'></a>\n",
    "<div class=\" alert alert-info\">\n",
    "    <b>Demo \"Load JPG File\".</b> \n",
    "   \n",
    "   The code snippet below demonstrates how to read in an image from a JPG file. This can be done conveniently using the Python library `PIL` (see https://pillow.readthedocs.io/en/stable/reference/Image.html)\n",
    "    \n",
    "</div>"
   ]
  },
  {
   "cell_type": "code",
   "execution_count": null,
   "metadata": {
    "nbgrader": {
     "grade": false,
     "grade_id": "cell-c7cf39064e3a1d5e",
     "locked": true,
     "schema_version": 3,
     "solution": false,
     "task": false
    }
   },
   "outputs": [],
   "source": [
    "# The Python Imaging Library (PIL) provides helpful functions for image processing \n",
    "from PIL import Image # import Image from library PIL\n",
    "\n",
    "# construct a variable \"filename\" which contains the relative path of the jpg file \n",
    "filename = '/coursedata/R1_ComponentsML/HelsinkiPatch.jpg'\n",
    "\n",
    "# read in the jpg file \n",
    "imagedata=np.asarray(Image.open(filename).convert(\"RGB\"))\n",
    "# convert image data as a numpy array X of values (0...255)\n",
    "X = np.array(imagedata, dtype='uint8')   \n",
    "# create a plot of size 10 by 10 inches \n",
    "fig = plt.figure(figsize=(10,10))\n",
    "# display image stored as RGB values in the numpy array X \n",
    "plt.imshow(X)\n",
    "plt.show()"
   ]
  },
  {
   "cell_type": "markdown",
   "metadata": {
    "nbgrader": {
     "grade": false,
     "grade_id": "Plotting_text",
     "locked": true,
     "schema_version": 3,
     "solution": false
    }
   },
   "source": [
    "<a id=\"Q4\"></a>\n",
    "## Data Visualization - A Picture is Worth A Thousand Words \n",
    "\n",
    "We now study how to use the Python library (or package) `matplotlib` (https://matplotlib.org/index.html) to plot data.\n",
    "\n",
    "Hint: \n",
    "- You can find useful tutorials for the `matplotlib` package under [this link](https://matplotlib.org/3.0.2/tutorials/index.html#introductory)"
   ]
  },
  {
   "cell_type": "markdown",
   "metadata": {
    "nbgrader": {
     "grade": false,
     "grade_id": "cell-e946e1102ef7b279",
     "locked": true,
     "schema_version": 3,
     "solution": false
    }
   },
   "source": [
    "\n",
    "<a id='Scatterplots'></a>\n",
    "\n",
    "<div class=\" alert alert-info\">\n",
    " \n",
    " <b>Demo.</b> Scatterplots. \n",
    " \n",
    " \n",
    "The following code snippet implements the function `axes=ScatterPlots()` that returns an axes object which represents a figure containing two scatterplots: \n",
    "\n",
    "- one scatter plot depicting the feature vectors stored in \"Data.csv\"\n",
    "\n",
    "- one scatter plot depicting the feature vectors stored in \"Data.csv\" but divided into 3 subsets corresponding to the first 200, the second 200, and the last 200 rows in \"Data.csv\". This second scatter plot uses different colors for the (feature vectors from) different subsets.\n",
    "\n",
    "</div>"
   ]
  },
  {
   "cell_type": "code",
   "execution_count": 13,
   "metadata": {
    "nbgrader": {
     "grade": false,
     "grade_id": "cell-8741c3b938700dfa",
     "locked": true,
     "schema_version": 3,
     "solution": false
    }
   },
   "outputs": [],
   "source": [
    "def ScatterPlots(): # Define function \"ScatterPlots\"\n",
    "    \"\"\"\n",
    "    Plot the scatterplot of all the data, then plot the scatterplot of the 3 subsets,\n",
    "    each one with a different color\n",
    "\n",
    "    return: axes object used for testing, containing the 2 scatterplots.    \n",
    "    \"\"\"\n",
    "\n",
    "    fig, axes = plt.subplots(1, 2, figsize=(15, 5)) # get figure and axes variables from matplotlib plot\n",
    "    data, _, _, = LoadData(\"/coursedata/R1_ComponentsML/Data.csv\")  # load data from csv file\n",
    "\n",
    "    colors = ['r', 'g', 'b'] # initialize a list of letters representing colors\n",
    "\n",
    "    axes[0].scatter(data[:,0],data[:,1], label='All data') # initialize a scatterplot with one label \"All data\"\n",
    "    axes[0].legend() # show the legend on a plot\n",
    "    axes[1].scatter(data[0:200,0],data[0:200,1], c=colors[0], label='first 200 data points') # initialize another scatterplot with data colored \"r\" (red)\n",
    "    axes[1].scatter(data[200:400,0],data[200:400,1], c=colors[1], label='second 200 data points') # add data to second scatter plot with colors \"g\" (green)\n",
    "    axes[1].scatter(data[400:600,0],data[400:600,1], c=colors[2], label='third 200 data points') # add data to second scatter plot with colors \"b\" (blue)\n",
    "    axes[1].legend() # add a legend to the second scatter plot\n",
    "\n",
    "    return axes # return axes variable"
   ]
  },
  {
   "cell_type": "markdown",
   "metadata": {
    "nbgrader": {
     "grade": false,
     "grade_id": "cell-3c724d7951a606bd",
     "locked": true,
     "schema_version": 3,
     "solution": false
    }
   },
   "source": [
    "Let us now try out the function. "
   ]
  },
  {
   "cell_type": "code",
   "execution_count": 14,
   "metadata": {
    "nbgrader": {
     "grade": false,
     "grade_id": "cell-0132950964abbce3",
     "locked": true,
     "schema_version": 3,
     "solution": false
    }
   },
   "outputs": [
    {
     "ename": "NameError",
     "evalue": "name 'plt' is not defined",
     "output_type": "error",
     "traceback": [
      "\u001b[1;31m---------------------------------------------------------------------------\u001b[0m",
      "\u001b[1;31mNameError\u001b[0m                                 Traceback (most recent call last)",
      "\u001b[1;32m<ipython-input-14-6fadbb8c3150>\u001b[0m in \u001b[0;36m<module>\u001b[1;34m\u001b[0m\n\u001b[1;32m----> 1\u001b[1;33m \u001b[0maxes\u001b[0m \u001b[1;33m=\u001b[0m \u001b[0mScatterPlots\u001b[0m\u001b[1;33m(\u001b[0m\u001b[1;33m)\u001b[0m \u001b[1;31m# call the ScatterPlots function\u001b[0m\u001b[1;33m\u001b[0m\u001b[1;33m\u001b[0m\u001b[0m\n\u001b[0m\u001b[0;32m      2\u001b[0m \u001b[0mplt\u001b[0m\u001b[1;33m.\u001b[0m\u001b[0mshow\u001b[0m\u001b[1;33m(\u001b[0m\u001b[1;33m)\u001b[0m \u001b[1;31m# show the scatterplots\u001b[0m\u001b[1;33m\u001b[0m\u001b[1;33m\u001b[0m\u001b[0m\n",
      "\u001b[1;32m<ipython-input-13-4e61783afb38>\u001b[0m in \u001b[0;36mScatterPlots\u001b[1;34m()\u001b[0m\n\u001b[0;32m      7\u001b[0m     \"\"\"\n\u001b[0;32m      8\u001b[0m \u001b[1;33m\u001b[0m\u001b[0m\n\u001b[1;32m----> 9\u001b[1;33m     \u001b[0mfig\u001b[0m\u001b[1;33m,\u001b[0m \u001b[0maxes\u001b[0m \u001b[1;33m=\u001b[0m \u001b[0mplt\u001b[0m\u001b[1;33m.\u001b[0m\u001b[0msubplots\u001b[0m\u001b[1;33m(\u001b[0m\u001b[1;36m1\u001b[0m\u001b[1;33m,\u001b[0m \u001b[1;36m2\u001b[0m\u001b[1;33m,\u001b[0m \u001b[0mfigsize\u001b[0m\u001b[1;33m=\u001b[0m\u001b[1;33m(\u001b[0m\u001b[1;36m15\u001b[0m\u001b[1;33m,\u001b[0m \u001b[1;36m5\u001b[0m\u001b[1;33m)\u001b[0m\u001b[1;33m)\u001b[0m \u001b[1;31m# get figure and axes variables from matplotlib plot\u001b[0m\u001b[1;33m\u001b[0m\u001b[1;33m\u001b[0m\u001b[0m\n\u001b[0m\u001b[0;32m     10\u001b[0m     \u001b[0mdata\u001b[0m\u001b[1;33m,\u001b[0m \u001b[0m_\u001b[0m\u001b[1;33m,\u001b[0m \u001b[0m_\u001b[0m\u001b[1;33m,\u001b[0m \u001b[1;33m=\u001b[0m \u001b[0mLoadData\u001b[0m\u001b[1;33m(\u001b[0m\u001b[1;34m\"/coursedata/R1_ComponentsML/Data.csv\"\u001b[0m\u001b[1;33m)\u001b[0m  \u001b[1;31m# load data from csv file\u001b[0m\u001b[1;33m\u001b[0m\u001b[1;33m\u001b[0m\u001b[0m\n\u001b[0;32m     11\u001b[0m \u001b[1;33m\u001b[0m\u001b[0m\n",
      "\u001b[1;31mNameError\u001b[0m: name 'plt' is not defined"
     ]
    }
   ],
   "source": [
    "axes = ScatterPlots() # call the ScatterPlots function\n",
    "plt.show() # show the scatterplots"
   ]
  },
  {
   "cell_type": "markdown",
   "metadata": {
    "nbgrader": {
     "grade": false,
     "grade_id": "cell-5aeb668ba80be008",
     "locked": true,
     "schema_version": 3,
     "solution": false
    }
   },
   "source": [
    "<a id='PlotLinnerud'></a>\n",
    "<div class=\" alert alert-warning\">\n",
    "    <b>Student Task.</b> Plot the Linnerud data. \n",
    "\n",
    "Create a scatterplot of the `linnerud` dataset. In particular, each data point in the dataset should be depicted as a dot in a diagram whose horizontal represents the body weight and the vertical axis represents the number of chin-ups. \n",
    " </div>"
   ]
  },
  {
   "cell_type": "code",
   "execution_count": 15,
   "metadata": {
    "nbgrader": {
     "grade": false,
     "grade_id": "cell-a919276228728abd",
     "locked": true,
     "schema_version": 3,
     "solution": false
    }
   },
   "outputs": [
    {
     "name": "stdout",
     "output_type": "stream",
     "text": [
      "(20, 1)\n",
      "(20, 1)\n"
     ]
    }
   ],
   "source": [
    "linnerud = datasets.load_linnerud()\n",
    "\n",
    "# read in the exercise parameters (nr. of chinups ..) for each athlete\n",
    "Exercise = linnerud['data']\n",
    "# read in the physiological (weight ...) paramters for each athlete\n",
    "Physio = linnerud['target']\n",
    "\n",
    "# we use weights of athletes as feature and store them in numpy array x \n",
    "x = Physio[:,0] \n",
    "# convert Lbs to Kg\n",
    "x = x*0.453 \n",
    "# we use number of chinups as label and store them (for all athletes) in numpy array y\n",
    "y = Exercise[:,0] \n",
    "\n",
    "# reshape from shape (20,) to (20, 1)\n",
    "x = x.reshape(-1, 1) \n",
    "y = y.reshape(-1, 1) \n",
    "\n",
    "print(x.shape) # print number of elements along each dimension of x \n",
    "print(y.shape) # print number of elements along each dimension of y"
   ]
  },
  {
   "cell_type": "code",
   "execution_count": 16,
   "metadata": {
    "nbgrader": {
     "grade": false,
     "grade_id": "cell-23d9171c16eb5278",
     "locked": false,
     "schema_version": 3,
     "solution": true
    }
   },
   "outputs": [
    {
     "ename": "NameError",
     "evalue": "name 'plt' is not defined",
     "output_type": "error",
     "traceback": [
      "\u001b[1;31m---------------------------------------------------------------------------\u001b[0m",
      "\u001b[1;31mNameError\u001b[0m                                 Traceback (most recent call last)",
      "\u001b[1;32m<ipython-input-16-16e18b36c2a4>\u001b[0m in \u001b[0;36m<module>\u001b[1;34m\u001b[0m\n\u001b[0;32m      4\u001b[0m \u001b[1;31m# remove the line raise NotImplementedError() before testing your solution and submitting code\u001b[0m\u001b[1;33m\u001b[0m\u001b[1;33m\u001b[0m\u001b[1;33m\u001b[0m\u001b[0m\n\u001b[0;32m      5\u001b[0m \u001b[1;31m### BEGIN SOLUTION\u001b[0m\u001b[1;33m\u001b[0m\u001b[1;33m\u001b[0m\u001b[1;33m\u001b[0m\u001b[0m\n\u001b[1;32m----> 6\u001b[1;33m \u001b[0mfig\u001b[0m\u001b[1;33m,\u001b[0m \u001b[0maxes\u001b[0m \u001b[1;33m=\u001b[0m \u001b[0mplt\u001b[0m\u001b[1;33m.\u001b[0m\u001b[0msubplots\u001b[0m\u001b[1;33m(\u001b[0m\u001b[1;36m1\u001b[0m\u001b[1;33m,\u001b[0m \u001b[1;36m1\u001b[0m\u001b[1;33m,\u001b[0m \u001b[0mfigsize\u001b[0m\u001b[1;33m=\u001b[0m\u001b[1;33m(\u001b[0m\u001b[1;36m8\u001b[0m\u001b[1;33m,\u001b[0m \u001b[1;36m4\u001b[0m\u001b[1;33m)\u001b[0m\u001b[1;33m)\u001b[0m\u001b[1;33m\u001b[0m\u001b[1;33m\u001b[0m\u001b[0m\n\u001b[0m\u001b[0;32m      7\u001b[0m \u001b[0maxes\u001b[0m\u001b[1;33m.\u001b[0m\u001b[0mscatter\u001b[0m\u001b[1;33m(\u001b[0m\u001b[0mx\u001b[0m\u001b[1;33m,\u001b[0m \u001b[0my\u001b[0m\u001b[1;33m)\u001b[0m\u001b[1;33m\u001b[0m\u001b[1;33m\u001b[0m\u001b[0m\n\u001b[0;32m      8\u001b[0m \u001b[1;31m### END SOLUTION\u001b[0m\u001b[1;33m\u001b[0m\u001b[1;33m\u001b[0m\u001b[1;33m\u001b[0m\u001b[0m\n",
      "\u001b[1;31mNameError\u001b[0m: name 'plt' is not defined"
     ]
    }
   ],
   "source": [
    "# fig, axes = ...\n",
    "# axes.scatter(...)\n",
    "\n",
    "# remove the line raise NotImplementedError() before testing your solution and submitting code\n",
    "### BEGIN SOLUTION\n",
    "fig, axes = plt.subplots(1, 1, figsize=(8, 4))\n",
    "axes.scatter(x, y)\n",
    "### END SOLUTION\n",
    "\n",
    "# set title for the scatterplot\n",
    "axes.set_title('body weight vs. number of chinups of an athlete')\n",
    "# set x-axis label for the scatterplot\n",
    "axes.set_xlabel('x=body weight (kg)') \n",
    "# set y-axis label for the scatterplot\n",
    "axes.set_ylabel('y=number of chinups') \n",
    "# show the plot\n",
    "plt.show() "
   ]
  },
  {
   "cell_type": "code",
   "execution_count": 17,
   "metadata": {
    "nbgrader": {
     "grade": true,
     "grade_id": "cell-a6d0e42fc54569a7",
     "locked": true,
     "points": 1,
     "schema_version": 3,
     "solution": false
    }
   },
   "outputs": [
    {
     "ename": "ModuleNotFoundError",
     "evalue": "No module named 'plotchecker'",
     "output_type": "error",
     "traceback": [
      "\u001b[1;31m---------------------------------------------------------------------------\u001b[0m",
      "\u001b[1;31mModuleNotFoundError\u001b[0m                       Traceback (most recent call last)",
      "\u001b[1;32m<ipython-input-17-a5a5f8b683f3>\u001b[0m in \u001b[0;36m<module>\u001b[1;34m\u001b[0m\n\u001b[0;32m      2\u001b[0m \u001b[1;33m\u001b[0m\u001b[0m\n\u001b[0;32m      3\u001b[0m \u001b[1;31m# the following two imports are for testing purposes only\u001b[0m\u001b[1;33m\u001b[0m\u001b[1;33m\u001b[0m\u001b[1;33m\u001b[0m\u001b[0m\n\u001b[1;32m----> 4\u001b[1;33m \u001b[1;32mfrom\u001b[0m \u001b[0mplotchecker\u001b[0m \u001b[1;32mimport\u001b[0m \u001b[0mScatterPlotChecker\u001b[0m \u001b[1;31m# for testing purposes\u001b[0m\u001b[1;33m\u001b[0m\u001b[1;33m\u001b[0m\u001b[0m\n\u001b[0m\u001b[0;32m      5\u001b[0m \u001b[1;32mfrom\u001b[0m \u001b[0mplotchecker\u001b[0m \u001b[1;32mimport\u001b[0m \u001b[0mLinePlotChecker\u001b[0m \u001b[1;31m# for testing purposes\u001b[0m\u001b[1;33m\u001b[0m\u001b[1;33m\u001b[0m\u001b[0m\n\u001b[0;32m      6\u001b[0m \u001b[1;33m\u001b[0m\u001b[0m\n",
      "\u001b[1;31mModuleNotFoundError\u001b[0m: No module named 'plotchecker'"
     ]
    }
   ],
   "source": [
    "# plot tests\n",
    "\n",
    "# the following two imports are for testing purposes only\n",
    "from plotchecker import ScatterPlotChecker # for testing purposes\n",
    "from plotchecker import LinePlotChecker # for testing purposes\n",
    "\n",
    "# initialize scatterplotchecker\n",
    "pc = ScatterPlotChecker(axes)\n",
    "# perform a sanity check on the student code \n",
    "np.testing.assert_array_equal(pc.x_data.reshape(-1,1), x, f\"The x values for the plot of the scatterplot are wrong\")\n",
    "\n",
    "### BEGIN HIDDEN TESTS\n",
    "np.testing.assert_array_equal(pc.y_data.reshape(-1,1), y, f\"The y values for the plot of the scatterplot are wrong\")\n",
    "### END HIDDEN TESTS\n",
    "\n",
    "print(\"Sanity checks passed! Some hidden tests may still fail.\")\n"
   ]
  },
  {
   "cell_type": "markdown",
   "metadata": {
    "nbgrader": {
     "grade": false,
     "grade_id": "cell-bd82f3e1536b9a6d",
     "locked": true,
     "schema_version": 3,
     "solution": false
    }
   },
   "source": [
    "<a id=\"Q5\"></a>\n",
    "\n",
    "## Learning from Data by Fitting a Model (Curve)\n",
    "\n",
    "The `Linnerud dataset` consists of data points that represent athletes doing some exercise. We might be interested in how specific properties (or features) of a person affect their performance. Let us try to predict the number of chin-ups that an athlete can do.  \n",
    "\n",
    "We can formalize this as a machine learning problem. The data points represent athletes who are characterized by the feature $x$ given by the body weight in kg. The quantity of interest (the label) $y$ of a data point is the number of chin-ups the athlete can do. Our goal is to find a predictor function $h(x)$ which takes the bodyweight $x$ as input and outputs a predicted label $\\hat{y}$ which estimates the number of chin-ups that the athlete should be able to do. \n",
    "\n",
    "Choosing a good predictor $h(x)$ from the space of all possible functions $h(\\cdot): \\mathbb{R} \\rightarrow \\mathbb{R}$ is challenging since there are [**so many** of these functions](https://en.wikipedia.org/wiki/Function_of_a_real_variable#Cardinality_of_sets_of_functions_of_a_real_variable). Therefore, we restrict ourselves to the space of linear functions\n",
    "\\begin{equation}\n",
    "h^{(w)}(x) = w \\cdot x. \n",
    "\\end{equation} \n",
    "The set of all of such functions, obtained for different choices for $w$, constitutes the hypothesis space of linear predictors. \n",
    "Each function of this **hypothesis space** is characterized by a single number $w \\in \\mathbb{R}$. Once we specify this number (or weight), we can compute the function value $h^{(w)}(x)$ for any possible feature value $x$. "
   ]
  },
  {
   "cell_type": "markdown",
   "metadata": {
    "nbgrader": {
     "grade": false,
     "grade_id": "cell-682234cedb587efc",
     "locked": true,
     "schema_version": 3,
     "solution": false
    }
   },
   "source": [
    "<a id='HypothesisDemo'></a>\n",
    "<div class=\" alert alert-info\">\n",
    "    <b>Demo.</b> Hypothesis Space of Linear Predictor Functions.  \n",
    "    \n",
    "The code snippet below creates a scatterplot of the `Linnerud` dataset and also plots \n",
    "some of the predictor functions from the linear hypothesis space. These predictor functions \n",
    "are of the form $h(x) = w \\cdot x$ with given weight $w$.\n",
    "\n",
    "Hint: In this section, we will use the Python library [Scikit-learn (Sklearn)](https://scikit-learn.org/stable/index.html) to fit models to data.\n",
    "\n",
    "</div>"
   ]
  },
  {
   "cell_type": "code",
   "execution_count": 18,
   "metadata": {
    "nbgrader": {
     "grade": false,
     "grade_id": "cell-6fadac9f2f063914",
     "locked": true,
     "schema_version": 3,
     "solution": false
    }
   },
   "outputs": [
    {
     "ename": "NameError",
     "evalue": "name 'plt' is not defined",
     "output_type": "error",
     "traceback": [
      "\u001b[1;31m---------------------------------------------------------------------------\u001b[0m",
      "\u001b[1;31mNameError\u001b[0m                                 Traceback (most recent call last)",
      "\u001b[1;32m<ipython-input-18-05d762b89cfe>\u001b[0m in \u001b[0;36m<module>\u001b[1;34m\u001b[0m\n\u001b[0;32m     10\u001b[0m     \u001b[0mhypothesis_space\u001b[0m\u001b[1;33m.\u001b[0m\u001b[0mappend\u001b[0m\u001b[1;33m(\u001b[0m\u001b[0mn\u001b[0m\u001b[1;33m)\u001b[0m \u001b[1;31m# append the preditions to \"hypothesis_space\" list\u001b[0m\u001b[1;33m\u001b[0m\u001b[1;33m\u001b[0m\u001b[0m\n\u001b[0;32m     11\u001b[0m \u001b[1;33m\u001b[0m\u001b[0m\n\u001b[1;32m---> 12\u001b[1;33m \u001b[0mfig\u001b[0m\u001b[1;33m,\u001b[0m \u001b[0maxes\u001b[0m \u001b[1;33m=\u001b[0m \u001b[0mplt\u001b[0m\u001b[1;33m.\u001b[0m\u001b[0msubplots\u001b[0m\u001b[1;33m(\u001b[0m\u001b[1;36m1\u001b[0m\u001b[1;33m,\u001b[0m \u001b[1;36m1\u001b[0m\u001b[1;33m,\u001b[0m \u001b[0mfigsize\u001b[0m\u001b[1;33m=\u001b[0m\u001b[1;33m(\u001b[0m\u001b[1;36m12\u001b[0m\u001b[1;33m,\u001b[0m \u001b[1;36m6\u001b[0m\u001b[1;33m)\u001b[0m\u001b[1;33m)\u001b[0m \u001b[1;31m# Initialize subplots and get \"fig\" and \"axes\" objects\u001b[0m\u001b[1;33m\u001b[0m\u001b[1;33m\u001b[0m\u001b[0m\n\u001b[0m\u001b[0;32m     13\u001b[0m \u001b[1;33m\u001b[0m\u001b[0m\n\u001b[0;32m     14\u001b[0m \u001b[1;33m\u001b[0m\u001b[0m\n",
      "\u001b[1;31mNameError\u001b[0m: name 'plt' is not defined"
     ]
    }
   ],
   "source": [
    "from sklearn import linear_model # import linear_model from scatterplot library\n",
    "\n",
    "reg = linear_model.LinearRegression(fit_intercept=False) # initialize the linear regression model\n",
    "reg.fit(x,y) # Fit the linear regression model with variables \"x\" and \"y\"\n",
    "\n",
    "hypothesis_space = [] # initialize and empty list\n",
    "for i in range(0, 10): # loop over range 0-10\n",
    "    reg.coef_ = np.array([[i*0.05]]) # get scaled the regression coefficients\n",
    "    n = reg.predict(x) #make predictions based on the previously defined and fitted regression model\n",
    "    hypothesis_space.append(n) # append the preditions to \"hypothesis_space\" list\n",
    "\n",
    "fig, axes = plt.subplots(1, 1, figsize=(12, 6)) # Initialize subplots and get \"fig\" and \"axes\" objects\n",
    "    \n",
    "\n",
    "axes.scatter(x, y, color='blue',label=\"data points\") # initialize a scatterplot\n",
    "axes.plot(x, hypothesis_space[0], color='green',label='w = {:.2f}'.format(0*0.05)) # plot the first item from the \"hypothesis_space\" list\n",
    "\n",
    "for i in range(len(hypothesis_space)-1): # loop through the items in \"hypothesis_space\" list\n",
    "    y_n = hypothesis_space[i+1] # idea of i+1 is to start from index 1 since we already plotted hypothesis space with index 0 above.\n",
    "    l = 'w = {:.2f}'.format((i+1)*0.05) # get a formatted string to use in legend\n",
    "    axes.plot(x, y_n, label=l) # add the item from \"hypothesis_space\" to the plot\n",
    "\n",
    "plt.rc('legend', fontsize=10) # update plot fonts\n",
    "plt.rc('axes', labelsize=20)  # update plot fonts\n",
    "plt.rc('xtick', labelsize=20) # update plot fonts\n",
    "plt.rc('ytick', labelsize=20) # update plot fonts\n",
    "plt.rc('font', size=20)       # update plot fonts\n",
    "\n",
    "axes.set_title('Several different linear predictor functions') # set plot title\n",
    "axes.set_xlabel('body weight (kg)') # set x-axis label\n",
    "axes.set_ylabel('number of chinups') # set y-axis label\n",
    "axes.legend(loc='upper left') # set location of the legend to show in upper left corner\n",
    "plt.show()"
   ]
  },
  {
   "cell_type": "markdown",
   "metadata": {
    "nbgrader": {
     "grade": false,
     "grade_id": "cell-1ed770e7af6187b0",
     "locked": true,
     "schema_version": 3,
     "solution": false
    }
   },
   "source": [
    "\n",
    "### Learning the Best Predictor by Fitting a Model\n",
    "\n",
    "A key idea underlying ML is to choose predictor functions $h(x)$ based on how well they fit historic or training data. For linear predictors, of the form $h(x)=w \\cdot x$, the search of a good predictor reduces to the search for a good choice for the weight $w \\in \\mathbb{R}$ which is just a number. \n",
    "\n",
    "To search for a good predictor function $h$, which maps a feature value $x$ to the predicted label $\\hat{y}=h(x)$, we need to measure the loss (or error) incurred when the true label is $y$ but the predicted label is $\\hat{y}$. There are many different choices for how to define such a loss fucntion. In general, we are free to define the loss function to best suit the application at hand. However, for certain classes of machine learning problems some useful choices for the loss functions have crystalized. For example, if the labels of data points take on numeric values, a widely used choice for the loss function is the squared error loss $(y - \\hat{y})^{2}$. \n",
    "\n",
    "Using loss functions to measure the quality of a predictor requires the availability of data points for which we know the true label $y$. One option to get labeled data is from historic recordings or experiments. Assume we have some labeled data points $(x^{(1)},y^{(1)}),\\ldots,(x^{(m)},y^{(m)})$ consisting of $m$ data points. The $i$th data point has the feature $x^{(i)}$ and the true label $y^{(i)}$. \n",
    "\n",
    "We have now all the tools to find the best linear predictor $h(x) = w \\cdot x$ by minimizing the empirical risk or average squared error loss \n",
    "\\begin{equation}\n",
    "(1/m) \\sum_{i=1}^{m} (y^{(i)} - \\hat{y}^{(i)})^{2} = (1/m) \\sum_{i=1}^{m} (y^{(i)} - w \\cdot x^{(i)})^{2}. \n",
    "\\end{equation}"
   ]
  },
  {
   "cell_type": "markdown",
   "metadata": {
    "nbgrader": {
     "grade": false,
     "grade_id": "cell-cb8925a42313f816",
     "locked": true,
     "schema_version": 3,
     "solution": false
    }
   },
   "source": [
    "<a id='FitRegressionDemo'></a>\n",
    "<div class=\" alert alert-info\">\n",
    "    <b>Demo.</b> Fitting a Linear Model to Data.  \n",
    "\n",
    "The code snippet below loads features and labels of data points of the `Linnerud`data set and stores them into the numpy arrays `x` and `y`. The $i$th entry of these numpy array is the feature $x^{(i)}$ and true label $y^{(i)}$, respectively, of the $i$th data point. We then use the Python class `LinearRegression` to fit a linear model to this data points. \n",
    "\n",
    "A linear model corresponds to the set of linear predictor $h(x) = w \\cdot x$ with some weight $w\\in \\mathbb{R}$. Fitting a linear model means to choose the weight to minimize the average prediction error $y-h(x)$ incurred for some labeled data points. The optimal weight $w_{\\rm opt}$ can be computed via the function `LinearRegression.fit()` and the corresponding prediction $\\hat{y} = w_{\\rm opt} x$ for a data point with feature $x$ can be computed using `LinearRegression.predict()`. \n",
    "\n",
    "We plot the data points along with the predictions $\\hat{y}^{(i)} = w_{\\rm opt} x^{(i)}$ and the prediction errors $y^{(i)} - \\hat{y}^{(i)} = y^{(i)} - w_{\\rm opt} x^{(i)}$ as red bars. \n",
    "\n",
    "</div>"
   ]
  },
  {
   "cell_type": "code",
   "execution_count": 19,
   "metadata": {},
   "outputs": [
    {
     "ename": "NameError",
     "evalue": "name 'plt' is not defined",
     "output_type": "error",
     "traceback": [
      "\u001b[1;31m---------------------------------------------------------------------------\u001b[0m",
      "\u001b[1;31mNameError\u001b[0m                                 Traceback (most recent call last)",
      "\u001b[1;32m<ipython-input-19-337e8b9d02d4>\u001b[0m in \u001b[0;36m<module>\u001b[1;34m\u001b[0m\n\u001b[0;32m     19\u001b[0m \u001b[1;31m# plot regression dataset\u001b[0m\u001b[1;33m\u001b[0m\u001b[1;33m\u001b[0m\u001b[1;33m\u001b[0m\u001b[0m\n\u001b[0;32m     20\u001b[0m \u001b[1;33m\u001b[0m\u001b[0m\n\u001b[1;32m---> 21\u001b[1;33m \u001b[0mplt\u001b[0m\u001b[1;33m.\u001b[0m\u001b[0mrc\u001b[0m\u001b[1;33m(\u001b[0m\u001b[1;34m'font'\u001b[0m\u001b[1;33m,\u001b[0m \u001b[0msize\u001b[0m\u001b[1;33m=\u001b[0m\u001b[1;36m20\u001b[0m\u001b[1;33m)\u001b[0m \u001b[1;31m# set plot font\u001b[0m\u001b[1;33m\u001b[0m\u001b[1;33m\u001b[0m\u001b[0m\n\u001b[0m\u001b[0;32m     22\u001b[0m \u001b[1;33m\u001b[0m\u001b[0m\n\u001b[0;32m     23\u001b[0m \u001b[0mreg\u001b[0m \u001b[1;33m=\u001b[0m \u001b[0mlinear_model\u001b[0m\u001b[1;33m.\u001b[0m\u001b[0mLinearRegression\u001b[0m\u001b[1;33m(\u001b[0m\u001b[0mfit_intercept\u001b[0m\u001b[1;33m=\u001b[0m\u001b[1;32mFalse\u001b[0m\u001b[1;33m)\u001b[0m \u001b[1;31m# initialize Linear Regression model\u001b[0m\u001b[1;33m\u001b[0m\u001b[1;33m\u001b[0m\u001b[0m\n",
      "\u001b[1;31mNameError\u001b[0m: name 'plt' is not defined"
     ]
    }
   ],
   "source": [
    "from sklearn import linear_model\n",
    "from sklearn.datasets import make_regression\n",
    "\n",
    "# load Linnerud dataset into dictionary `linnerud`\n",
    "linnerud = datasets.load_linnerud()  \n",
    "# read out the values for the key 'data' and store them in the numpy array X \n",
    "ChinUps = linnerud['data']  \n",
    "# read out the values for the key 'target' and store them in the numpy array Y \n",
    "Weight = linnerud['target']  \n",
    "\n",
    "# we use the weight (in Lbs) of each athlete as features \n",
    "x = Weight.T[0] \n",
    "# we use the number of chin ups performed by each athlete as label \n",
    "y = ChinUps.T[0] \n",
    "x = x.reshape(-1,1)  # convert to numpy array of shape (m,1)\n",
    "y = y.reshape(-1,1)  # convert to numpy array of shape (m,1)\n",
    "x = x*0.453 # convert Lbs to Kg\n",
    "\n",
    "# plot regression dataset\n",
    "\n",
    "plt.rc('font', size=20) # set plot font\n",
    "\n",
    "reg = linear_model.LinearRegression(fit_intercept=False) # initialize Linear Regression model\n",
    "reg.fit(x, y) # fit the linear regression model using \"x\" and \"y\" variables\n",
    "y_pred = reg.predict(x) # make predictions based on fitted model\n",
    "\n",
    "# ---- You can put code here to answer Quiz question 1. ----\n",
    "#\n",
    "# ----------------------------------------------------------\n",
    "\n",
    "\n",
    " # print weight of the optimal predictor \n",
    "print(\"optimal weight w =\", reg.coef_[0][0])\n",
    "\n",
    "\n",
    " # initialize subplots and get \"fig\" and \"axes\" objects\n",
    "fig, axes = plt.subplots(1, 1, figsize=(8, 4))\n",
    "# initialize a scatterplot with horizontal (vertical) axis representing feature (label) values \n",
    "axes.scatter(x, y, label='data points') \n",
    "# add the predicted labels \"y_pred = h(x)\" made by the model to the plot\n",
    "axes.plot(x, y_pred, color='green', label='optimal linear predictor') \n",
    "\n",
    "# indicate error bars\n",
    "\n",
    "axes.plot((x[0], x[0]), (y[0], y_pred[0]), color='red', label='errors') # add label to legend\n",
    "for i in range(len(x)-1): # loop through range length of x - 1\n",
    "    lineXdata = (x[i+1], x[i+1]) # make tuples with same X\n",
    "    lineYdata = (y[i+1], y_pred[i+1]) # make tuples with different y's\n",
    "    axes.plot(lineXdata, lineYdata, color='red') # add the red lines to the plot to indicate error distance from our predicted regression model.\n",
    "\n",
    "axes.legend() # add a legend to the plot\n",
    "axes.set_xlabel(\"feature x (body weight)\") # set x-axis label\n",
    "axes.set_ylabel(\"label y (number of chin-ups)\") # set y-axis label\n",
    "plt.show()"
   ]
  },
  {
   "cell_type": "markdown",
   "metadata": {
    "nbgrader": {
     "grade": false,
     "grade_id": "cell-16037415de0db9f3",
     "locked": true,
     "schema_version": 3,
     "solution": false
    }
   },
   "source": [
    "## Adding an Intercept Term \n",
    "\n",
    "A simple but useful extension of the linear prediction functions used above is to add an intercept term. In particular, we consider predictor functions of the form \n",
    "\\begin{equation}\n",
    "h(x) = w \\cdot x + b \n",
    "\\end{equation}\n",
    "which involves a weight $w$ and a constant offset $b$. The offset $b$ is sometimes referred to as the \"intercept term\". The code snippet below finds (or learns) the best choices for the weight $w$ and intercept $b$ in order to minimize the average squared error incurred for a given set of labeled data points $(x^{(i)},y^{(i)})$. "
   ]
  },
  {
   "cell_type": "markdown",
   "metadata": {
    "nbgrader": {
     "grade": false,
     "grade_id": "cell-1f2da26eb39d5fd6",
     "locked": true,
     "schema_version": 3,
     "solution": false
    }
   },
   "source": [
    "<a id='FitRegressionDemo'></a>\n",
    "<div class=\" alert alert-info\">\n",
    "    <b>Demo.</b> Fitting a Linear Model with Intercept.  \n",
    "\n",
    "The code snippet below fits a linear regression model to a set of data points $(x^{(1)},y^{(1)}),\\ldots,(x^{(m)},y^{(m)})$ which are generated synthetically (using a random generator) and stored in the vectors `syn_x` and `syn_y`. We use the Python class `linear_model.LinearRegression` to represent the set of linear predictor functions. Using the input argument \"fit_intercept=True\" includes an intercept term. \n",
    "</div>"
   ]
  },
  {
   "cell_type": "code",
   "execution_count": 22,
   "metadata": {
    "nbgrader": {
     "grade": false,
     "grade_id": "cell-60a4ce52cae5a325",
     "locked": true,
     "schema_version": 3,
     "solution": false
    }
   },
   "outputs": [
    {
     "data": {
      "image/png": "[encoded data removed]",
      "text/plain": [
       "<Figure size 576x288 with 1 Axes>"
      ]
     },
     "metadata": {
      "needs_background": "light"
     },
     "output_type": "display_data"
    }
   ],
   "source": [
    "from sklearn import linear_model # import \"linear_model\" from sklearn\n",
    "from sklearn.datasets import make_regression # import \"make_regression from sklearn.datasets\"\n",
    "import matplotlib.pyplot as plt # import matplotlib library for plotting\n",
    "\n",
    "# generate some synthetic dataset\n",
    "syn_x, syn_y = make_regression(n_samples=30, n_features=1, noise=30) # generate data using the imported \"make_regression\" function\n",
    "syn_y = syn_y + 10*np.ones(30).reshape(syn_y.shape) # add a 10* identity matrix to data\n",
    "syn_x = syn_x + 10*np.ones(30).reshape(syn_x.shape) # add a 10* identity matrix to data\n",
    "\n",
    "# plot regression dataset\n",
    "\n",
    "#plt.rc('font', size=20) # change plot font\n",
    "\n",
    "# create Linear Regression model without an intercept\n",
    "reg = linear_model.LinearRegression(fit_intercept=False) \n",
    "# fit a linear regression model (without intercept)\n",
    "reg = reg.fit(syn_x, syn_y) \n",
    "\n",
    "# create Linear Regression model using an intercept term \n",
    "reg_intercept = linear_model.LinearRegression(fit_intercept=True) \n",
    "# fit a linear regression model (with intercept)\n",
    "reg_intercept = reg_intercept.fit(syn_x, syn_y) \n",
    "\n",
    "# create a grid of test feature values  \n",
    "x_grid = np.linspace(-1, 16, num=100).reshape(-1,1) \n",
    "# compute predictions from linear regression model without intercept term \n",
    "y_pred = reg.predict(x_grid) \n",
    "# compute predictions on test feature values using linear regression model with intercept term \n",
    "y_pred_intercept = reg_intercept.predict(x_grid)\n",
    "\n",
    "fig, axes = plt.subplots(1, 1, figsize=(8, 4)) # initialize subplots and get \"fig\" and \"axes\" variables\n",
    "axes.scatter(syn_x, syn_y, label='data points') # create a scatter plot with the generated synthetic data\n",
    "axes.plot(x_grid, y_pred, color='green', label='no intercept') # add a line to the plot\n",
    "axes.plot(x_grid, y_pred_intercept, color='red', label='with intercept') # # add a line to the plot\n",
    "\n",
    "axes.legend() # add a legend to the plot\n",
    "axes.set_xlabel(\"feature x\") # add x-axis label to the plot \n",
    "axes.set_ylabel(\"label y\") # add y-axis label to the plot\n",
    "axes.axhline(y=0, color='k',linestyle=':') # add a dotted lien to the plot\n",
    "axes.axvline(x=0, color='k',linestyle=':') # add a dotted line to the plot\n",
    "plt.show()"
   ]
  },
  {
   "cell_type": "markdown",
   "metadata": {
    "nbgrader": {
     "grade": false,
     "grade_id": "cell-07143459df52a5c0",
     "locked": true,
     "schema_version": 3,
     "solution": false
    }
   },
   "source": [
    "## Take Home Quiz "
   ]
  },
  {
   "cell_type": "markdown",
   "metadata": {
    "nbgrader": {
     "grade": false,
     "grade_id": "cell-81144558954a5835",
     "locked": true,
     "schema_version": 3,
     "solution": false
    }
   },
   "source": [
    "Try to answer the following questions by setting the `answer_R1_Q??` variable for each question to the number of the correct answer. For example, if you think that the second answer in the first quiz question is the right one, then set `answer_R1_Q1=2`. "
   ]
  },
  {
   "cell_type": "markdown",
   "metadata": {
    "nbgrader": {
     "grade": false,
     "grade_id": "cell-1aa1ddb20cf88962",
     "locked": true,
     "schema_version": 3,
     "solution": false
    }
   },
   "source": [
    "<a id='QuestionR1_1'></a>\n",
    "<div class=\" alert alert-warning\">\n",
    "    <b>Student Task.</b> Question R1.1. \n",
    "\n",
    "<p> Modify the code in the demo \"Fitting a Linear Model to Data\" to determine the difference (error) between the predicted value y_pred and the true label y for the first data point (which corresponds to the index 0). Select the correct value (rounded to one decimal) of this error below.</p>\n",
    "\n",
    "<ol>\n",
    "  <li>4.6</li>\n",
    "  <li>-3.8</li>\n",
    "  <li>5.0</li>\n",
    "  <li>7.5</li>\n",
    "</ol> \n",
    "\n",
    "</div>"
   ]
  },
  {
   "cell_type": "code",
   "execution_count": 22,
   "metadata": {
    "nbgrader": {
     "grade": false,
     "grade_id": "cell-be2c274c69a172dc",
     "locked": false,
     "schema_version": 3,
     "solution": true
    }
   },
   "outputs": [],
   "source": [
    "# answer_Q1\n",
    "\n",
    "# answer_R1_Q1  = ...\n",
    "# remove the line raise NotImplementedError() before testing your solution and submitting code\n",
    "### BEGIN SOLUTION\n",
    "\n",
    "answer_R1_Q1 = 1\n",
    "\n",
    "### END SOLUTION"
   ]
  },
  {
   "cell_type": "code",
   "execution_count": 23,
   "metadata": {
    "nbgrader": {
     "grade": true,
     "grade_id": "cell-a37329cc76fcdc18",
     "locked": true,
     "points": 1,
     "schema_version": 3,
     "solution": false,
     "task": false
    }
   },
   "outputs": [
    {
     "name": "stdout",
     "output_type": "stream",
     "text": [
      "Sanity check tests passed!\n"
     ]
    }
   ],
   "source": [
    "# this cell is for tests\n",
    "\n",
    "\n",
    "assert answer_R1_Q1 in [1,2,3,4], '\"answer_R2_Q1\" Value should be an integer between 1 and 4.'\n",
    "print('Sanity check tests passed!')\n",
    "\n",
    "### BEGIN HIDDEN TESTS\n",
    "assert answer_R1_Q1 in [1,2,3,4], 'Value should be an integer between 1 and 4.'\n",
    "assert answer_R1_Q1 == 1, ' \"answer_R1_Q1\" Correct answer is 1.'\n",
    "\n",
    "### END HIDDEN TESTS"
   ]
  },
  {
   "cell_type": "markdown",
   "metadata": {
    "nbgrader": {
     "grade": false,
     "grade_id": "cell-69074839f3662652",
     "locked": true,
     "schema_version": 3,
     "solution": false
    }
   },
   "source": [
    "<a id='QuestionR1_2'></a>\n",
    "<div class=\" alert alert-warning\">\n",
    "    <b>Student Task.</b> Question R1.2. \n",
    "<p>Choose the correct option (1, 2, 3 or 4) that has correct answers to all questions, a, b and c</p>\n",
    "<p>You can experiment with the code in the demo \"Matrix multiplication\" and \"Matrix Operations\".</p>\n",
    "    \n",
    "\n",
    "Consider the following cases: \n",
    "\n",
    "<p>Case I. Matrix A has 2 rows and 2 columns. Matrix B has 3 rows and 2 columns. </p>\n",
    "<p>Case II. Matrix A has 2 rows and 2 columns. Matrix B has 2 rows and 2 columns. </p>\n",
    "<p>Case III. Matrix A has 3 rows and 2 columns. Matrix B has 2 rows and 3 columns. </p>\n",
    "    \n",
    "What is the number of rows and columns of the product matrix `A*B` for each of those cases?</p>\n",
    "\n",
    "<ol>\n",
    "  <li>Case I: 2 rows and 3 columns, Case II: 2 rows and 2 columns, Case III: 3 rows and 2 columns</li>\n",
    "  <li>Case I: 3 rows and 2 columns,  Case II: 2 rows and 2 columns, Case III: 3 rows and 3 columns</li>\n",
    "  <li>Case I: 3 rows and 2 columns,  Case II: 2 rows and 3 columns, Case III: 3 rows and 3 columns</li>\n",
    "  <li>Case I: The matrices cannot be multiplied  Case II: 2 rows and 2 columns, Case III: 3 rows and 3 columns</li>\n",
    "</ol> \n",
    "\n",
    "</div>"
   ]
  },
  {
   "cell_type": "code",
   "execution_count": 24,
   "metadata": {
    "nbgrader": {
     "grade": false,
     "grade_id": "cell-7181cec73d8721a9",
     "locked": false,
     "schema_version": 3,
     "solution": true
    }
   },
   "outputs": [],
   "source": [
    "# answer_Q2\n",
    "\n",
    "# answer_R1_Q2 = ...\n",
    "# remove the line raise NotImplementedError() before testing your solution and submitting code\n",
    "### BEGIN SOLUTION\n",
    "answer_R1_Q2 = 4\n",
    "### END SOLUTION"
   ]
  },
  {
   "cell_type": "code",
   "execution_count": 25,
   "metadata": {
    "nbgrader": {
     "grade": true,
     "grade_id": "cell-0180b3e9667880f4",
     "locked": true,
     "points": 1,
     "schema_version": 3,
     "solution": false,
     "task": false
    }
   },
   "outputs": [
    {
     "name": "stdout",
     "output_type": "stream",
     "text": [
      "Sanity check tests passed!\n"
     ]
    }
   ],
   "source": [
    "# this cell is for tests\n",
    "\n",
    "assert answer_R1_Q2 in [1,2,3,4], '\"answer_R2_Q2\" Value should be an integer between 1 and 4.'\n",
    "print('Sanity check tests passed!')\n",
    "\n",
    "### BEGIN HIDDEN TESTS\n",
    "\n",
    "assert answer_R1_Q2 in [1,2,3,4], 'Value should be an integer between 1 and 4.'\n",
    "assert answer_R1_Q2 == 4, '\"answer_R1_Q2\" Correct answer is 4.'\n",
    "\n",
    "### END HIDDEN TESTS"
   ]
  },
  {
   "cell_type": "markdown",
   "metadata": {
    "nbgrader": {
     "grade": false,
     "grade_id": "cell-3046aeea89e6dec3",
     "locked": true,
     "schema_version": 3,
     "solution": false
    }
   },
   "source": [
    "<a id='QuestionR1_3'></a>\n",
    "<div class=\" alert alert-warning\">\n",
    "    <b>Student Task.</b> Question R1.3. \n",
    "\n",
    "<p>Consider data points having features $\\mathbf{x}$ and a numeric label $y$. How can the quality of a predictor function $h(\\mathbf{x})$, which delivers a predicted label $\\hat{y}=h(\\mathbf{x})$ be measured to choose the best predictor function?</p>\n",
    "<p>You can modify the code snippet below to experiment and find an answer to the question. </p>\n",
    "<p>**The implementation of the function will not be graded, only the answer \"answer_R1_Q3  = ...\" is graded.**</p>\n",
    "\n",
    "<ol>\n",
    "  <li>Use the difference between our predicted value $\\hat{y}$ and true label $y$, i.e: $y - \\hat{y}$ and pick the predictor function with the lowest value of loss.</li>\n",
    "  <li>Use the squared error loss $(y - \\hat{y} )^{2}$ and pick the predictor function with the highest value of squared error loss.</li>\n",
    "  <li>Use the squared error loss $(x - \\hat{x})^{2}$ and pick the predictor function with the lowest value of squared error loss.</li>\n",
    "  <li>Use the squared error loss $(y - \\hat{y})^{2}$ and pick the predictor function with the lowest value of the squared error loss.</li>\n",
    "</ol> \n",
    "\n",
    "</div>"
   ]
  },
  {
   "cell_type": "code",
   "execution_count": 26,
   "metadata": {
    "nbgrader": {
     "grade": false,
     "grade_id": "cell-5560d8a82aab479f",
     "locked": false,
     "schema_version": 3,
     "solution": true,
     "task": false
    }
   },
   "outputs": [],
   "source": [
    "from sklearn import linear_model\n",
    "from sklearn.datasets import make_regression\n",
    "from sklearn import datasets # import datasets fomr sklearn\n",
    "\n",
    "linnerud = datasets.load_linnerud()  # load Linnerud dataset into dictionary `linnerud`\n",
    "X = linnerud['data']    # read out feature vectors stored under key 'data' \n",
    "Y = linnerud['target']  # read out label values stored under key 'target' \n",
    "\n",
    "x = Y.T[0] # weight (in Lbs) for each athlete, .T is used to traspose\n",
    "y = X.T[0] # number of chin ups for each athlete, .T is used to transpose\n",
    "x = x.reshape(-1,1)  # convert to numpy array of shape (m,1)\n",
    "y = y.reshape(-1,1)  # convert to numpy array of shape (m,1)\n",
    "x = x*0.453 # convert Lbs to Kg\n",
    "\n",
    "# model 1\n",
    "reg = linear_model.LinearRegression(fit_intercept=False) # initialize Linear Regression model\n",
    "reg.fit(x, y) # fir the linear regression model using \"x\" and \"y\" variables\n",
    "y_pred = reg.predict(x) # make predictions based on fitted model\n",
    "\n",
    "# model 2\n",
    "reg_intercept = linear_model.LinearRegression(fit_intercept=True) # initialize Linear Regression model\n",
    "reg_intercept.fit(x, y) # fir the linear regression model using \"x\" and \"y\" variables\n",
    "y_pred_intercept = reg_intercept.predict(x) # make predictions based on fitted model\n",
    "\n",
    "\n",
    "def squared_error_loss(a, b):\n",
    "    loss = 0\n",
    "    # implement a real loss function here\n",
    "    # loss = ...\n",
    "    ### BEGIN SOLUTION\n",
    "    loss = np.sum((a-b)**2)\n",
    "    ### END SOLUTION\n",
    "    return loss\n",
    "\n",
    "# Test your loss function here\n",
    "#L = squared_error_loss(...)\n",
    "#print(L)"
   ]
  },
  {
   "cell_type": "code",
   "execution_count": 27,
   "metadata": {
    "nbgrader": {
     "grade": false,
     "grade_id": "cell-8b0c045a8dd164b0",
     "locked": false,
     "schema_version": 3,
     "solution": true
    }
   },
   "outputs": [],
   "source": [
    "# answer_Q3\n",
    "\n",
    "# answer_R1_Q3  = ...\n",
    "# remove the line raise NotImplementedError() before testing your solution and submitting code\n",
    "### BEGIN SOLUTION\n",
    "answer_R1_Q3 = 4\n",
    "### END SOLUTION"
   ]
  },
  {
   "cell_type": "code",
   "execution_count": 28,
   "metadata": {
    "nbgrader": {
     "grade": true,
     "grade_id": "cell-f8cf4a0b2c7d28bd",
     "locked": true,
     "points": 1,
     "schema_version": 3,
     "solution": false
    }
   },
   "outputs": [
    {
     "name": "stdout",
     "output_type": "stream",
     "text": [
      "Sanity check tests passed!\n"
     ]
    }
   ],
   "source": [
    "# this cell is for tests\n",
    "\n",
    "assert answer_R1_Q3 in [1,2,3,4], '\"answer_R2_Q3\" Value should be an integer between 1 and 4.'\n",
    "print('Sanity check tests passed!')\n",
    "\n",
    "### BEGIN HIDDEN TESTS\n",
    "\n",
    "assert answer_R1_Q3 in [1,2,3,4], 'Value should be an integer between 1 and 4.'\n",
    "assert answer_R1_Q3 == 4, '\"answer_R1_Q3\" Correct answer is 4.'\n",
    "\n",
    "### END HIDDEN TESTS"
   ]
  },
  {
   "cell_type": "markdown",
   "metadata": {
    "nbgrader": {
     "grade": false,
     "grade_id": "cell-8450a952fff2dd24",
     "locked": true,
     "schema_version": 3,
     "solution": false,
     "task": false
    }
   },
   "source": [
    "<a id='QuestionR1_4'></a>\n",
    "<div class=\" alert alert-warning\">\n",
    "    <b>Student Task.</b> Question R1.4. \n",
    "\n",
    "<p>A is a two dimensional matrix. Select the ones that are correct: </p>\n",
    "<ol>\n",
    "<li>selected_row = A[:,1] # Reads second row of A into array \"selected_row\"</li>\n",
    "<li>selected_col = A[:,1] # Reads first column of A into array \"selected_col\"</li>\n",
    "<li>selected_row = A[2,:] # Reads third row of A into array \"selected_row\"</li>\n",
    "<li>selected_col = A[0,:] Reads first column of A into array \"selected_col\"</li>  \n",
    "</ol> \n",
    "\n",
    "</div>"
   ]
  },
  {
   "cell_type": "code",
   "execution_count": 29,
   "metadata": {
    "nbgrader": {
     "grade": false,
     "grade_id": "cell-6ccfd100457b6721",
     "locked": false,
     "schema_version": 3,
     "solution": true,
     "task": false
    }
   },
   "outputs": [],
   "source": [
    "# answer_Q4\n",
    "\n",
    "# answer_R1_Q4  = ...\n",
    "# remove the line raise NotImplementedError() before testing your solution and submitting code\n",
    "### BEGIN SOLUTION\n",
    "answer_R1_Q4 = 3\n",
    "### END SOLUTION"
   ]
  },
  {
   "cell_type": "code",
   "execution_count": 30,
   "metadata": {
    "nbgrader": {
     "grade": true,
     "grade_id": "cell-a6c1c5f10272f774",
     "locked": true,
     "points": 1,
     "schema_version": 3,
     "solution": false,
     "task": false
    }
   },
   "outputs": [
    {
     "name": "stdout",
     "output_type": "stream",
     "text": [
      "Sanity check tests passed!\n"
     ]
    }
   ],
   "source": [
    "# this cell is for tests\n",
    "\n",
    "assert answer_R1_Q4 in [1,2,3,4], '\"answer_R2_Q4\" Value should be an integer between 1 and 4.'\n",
    "print('Sanity check tests passed!')\n",
    "\n",
    "### BEGIN HIDDEN TESTS\n",
    "assert answer_R1_Q4 in [1,2,3,4], '\"answer_R2_Q4\" Value should be an integer between 1 and 4.'\n",
    "assert answer_R1_Q4 in [3], 'answer_R1_Q4\" Correct answer is 3.'\n",
    "\n",
    "### END HIDDEN TESTS"
   ]
  },
  {
   "cell_type": "markdown",
   "metadata": {
    "nbgrader": {
     "grade": false,
     "grade_id": "cell-9a4382de6712dd4a",
     "locked": true,
     "schema_version": 3,
     "solution": false,
     "task": false
    }
   },
   "source": [
    "<a id='Sketchboard'></a>\n",
    "<div class=\" alert alert-warning\">\n",
    "    <b>Sketchboard.</b> You can use the code cell below to copy/paste any of the above code snippets and modify them as you wish. \n",
    "</div>"
   ]
  },
  {
   "cell_type": "code",
   "execution_count": 31,
   "metadata": {},
   "outputs": [],
   "source": [
    "## your code playground \n",
    "\n"
   ]
  }
 ],
 "metadata": {
  "celltoolbar": "Create Assignment",
  "kernelspec": {
   "display_name": "Python 3",
   "language": "python",
   "name": "python3"
  },
  "language_info": {
   "codemirror_mode": {
    "name": "ipython",
    "version": 3
   },
   "file_extension": ".py",
   "mimetype": "text/x-python",
   "name": "python",
   "nbconvert_exporter": "python",
   "pygments_lexer": "ipython3",
   "version": "3.7.3"
  },
  "varInspector": {
   "cols": {
    "lenName": 16,
    "lenType": 16,
    "lenVar": 40
   },
   "kernels_config": {
    "python": {
     "delete_cmd_postfix": "",
     "delete_cmd_prefix": "del ",
     "library": "var_list.py",
     "varRefreshCmd": "print(var_dic_list())"
    },
    "r": {
     "delete_cmd_postfix": ") ",
     "delete_cmd_prefix": "rm(",
     "library": "var_list.r",
     "varRefreshCmd": "cat(var_dic_list()) "
    }
   },
   "types_to_exclude": [
    "module",
    "function",
    "builtin_function_or_method",
    "instance",
    "_Feature"
   ],
   "window_display": false
  }
 },
 "nbformat": 4,
 "nbformat_minor": 2
}
